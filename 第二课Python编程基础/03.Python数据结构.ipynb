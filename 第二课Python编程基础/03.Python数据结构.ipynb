{
 "cells": [
  {
   "cell_type": "markdown",
   "id": "broadband-zealand",
   "metadata": {},
   "source": [
    "# 03.Python数据结构"
   ]
  },
  {
   "cell_type": "markdown",
   "id": "adjustable-newsletter",
   "metadata": {},
   "source": [
    "顾名思义，数据结构是能够将数据组合在一起的一种结构。\n",
    "\n",
    "在数据科学领域，很多情况下需要将数据进行有序排列。例如我们统计了大学某班 50 人的数学成绩，那么创建 50 个变量例如 XiaoMing = 99, XiaoHu = 86 .... 无疑是非常繁琐的。这时我们可以通过数据结构整合这些数据，例如在上一节中以方括号标识的列表 `[ 99, 86, 77 .... ]`，这将会使我们的程序大大简化。\n",
    "\n",
    "Python 中常用的数据结构有：\n",
    "\n",
    "- 列表 List: 用于保存有序项集合的变量，以方括号标识。\n",
    "- 元组 Tuple: 用于保存有序项集合的常量，以圆括号标识。\n",
    "- 字典 Dict: 用于保存无序（键，值）项集合的变量，以花括号标识。\n",
    "- 集合 Set: 用于保存无序项集合的变量，以花括号标识。\n",
    "\n",
    "瑞士计算机科学家 Niklaus Wirth 曾说过 \"程序 = 数据结构 + 算法\"，这个公式在 40 年后的今天仍然成立。掌握 Python 中常用的数据结构是我们设计程序的一大基石。"
   ]
  },
  {
   "cell_type": "markdown",
   "id": "obvious-strength",
   "metadata": {},
   "source": [
    "> 在本节中我们将尝试设计一个学生成绩管理系统，实现对学生成绩的增、删、查、改功能。"
   ]
  },
  {
   "cell_type": "markdown",
   "id": "according-admission",
   "metadata": {},
   "source": [
    "## 1. 列表"
   ]
  },
  {
   "cell_type": "markdown",
   "id": "union-medication",
   "metadata": {},
   "source": [
    "列表是用于保存有序项集合的变量，通过方括号创建。列表是最容易理解的数据结构，它就像一个任务清单，任务清单的每一项都是一个单独的任务。\n",
    "\n",
    "下面我们创建一个含有四个整数的列表。"
   ]
  },
  {
   "cell_type": "code",
   "execution_count": 1,
   "id": "entertaining-setting",
   "metadata": {},
   "outputs": [],
   "source": [
    "l = [1, 2, 3, 4]"
   ]
  },
  {
   "cell_type": "markdown",
   "id": "through-reconstruction",
   "metadata": {},
   "source": [
    "\n",
    "列表支持以下操作：\n",
    "\n",
    "- 增：通过函数 `append` 可以向列表内增加元素\n",
    "- 删：通过关键字 `del` 可以删除列表内元素\n",
    "- 查：通过关键字 `[ ]` 可以查找列表某个位置元素\n",
    "- 改：通过赋值符号 `=` 可以修改某个位置的元素\n",
    "\n",
    "列表的优点是：\n",
    "\n",
    "- 快速向尾部添加元素\n",
    "- 快速遍历所有元素\n",
    "- 节省占用计算机内容空间"
   ]
  },
  {
   "cell_type": "markdown",
   "id": "trained-saskatchewan",
   "metadata": {},
   "source": [
    "### 1.3 增加元素"
   ]
  },
  {
   "cell_type": "markdown",
   "id": "political-astrology",
   "metadata": {},
   "source": [
    "通过 `append` 函数可以实现向列表尾部添加新的元素。"
   ]
  },
  {
   "cell_type": "code",
   "execution_count": 6,
   "id": "unavailable-chosen",
   "metadata": {},
   "outputs": [
    {
     "name": "stdout",
     "output_type": "stream",
     "text": [
      "[-1, -2, 3, 4, 5]\n",
      "[-1, -2, 3, 4, 5, 6]\n"
     ]
    }
   ],
   "source": [
    "## 向集合尾部添加元素 5\n",
    "l.append(5)\n",
    "print(l)\n",
    "## 向集合尾部添加元素 6\n",
    "l.append(6)\n",
    "print(l)"
   ]
  },
  {
   "cell_type": "markdown",
   "id": "hundred-ability",
   "metadata": {},
   "source": [
    "### 1.4 删除元素"
   ]
  },
  {
   "cell_type": "markdown",
   "id": "similar-delhi",
   "metadata": {},
   "source": [
    "通过 `del` 关键字可以删除列表某个位置的元素。"
   ]
  },
  {
   "cell_type": "code",
   "execution_count": 7,
   "id": "female-temple",
   "metadata": {},
   "outputs": [
    {
     "name": "stdout",
     "output_type": "stream",
     "text": [
      "[-2, 3, 4, 5, 6]\n",
      "[-2, 3, 4, 5]\n"
     ]
    }
   ],
   "source": [
    "## 删除列表 首个 元素\n",
    "del l[0]\n",
    "print(l)\n",
    "## 删除列表 最后一个 元素\n",
    "del l[-1]\n",
    "print(l)"
   ]
  },
  {
   "cell_type": "markdown",
   "id": "expired-chase",
   "metadata": {},
   "source": [
    "### 1.1 查找元素"
   ]
  },
  {
   "cell_type": "markdown",
   "id": "stretch-newsletter",
   "metadata": {},
   "source": [
    "我们通过 `[ ]` 关键字查找列表中某个位置的元素。\n",
    "\n",
    "例如 `l[0]` 可以获取列表中首个元素，`l[1]` 可以获取列表中第 2 个元素。同时它还支持倒序查找，例如 `l[-1]` 表示倒数第一个元素（末尾的元素）。"
   ]
  },
  {
   "cell_type": "code",
   "execution_count": 2,
   "id": "covered-douglas",
   "metadata": {},
   "outputs": [
    {
     "name": "stdout",
     "output_type": "stream",
     "text": [
      "1\n",
      "2\n",
      "4\n",
      "3\n"
     ]
    }
   ],
   "source": [
    "## 查找 首个 元素\n",
    "print(l[0])\n",
    "## 查找第 2 个元素\n",
    "print(l[1])\n",
    "## 查找第 最后 元素\n",
    "print(l[-1])\n",
    "## 查找倒数第 2 个元素\n",
    "print(l[-2])"
   ]
  },
  {
   "cell_type": "markdown",
   "id": "photographic-worker",
   "metadata": {},
   "source": [
    "`[ ]` 关键字也可以通过 “切片” 的形式获取含有多个元素的子列表。\n",
    "\n",
    "例如 `l[0:2]` 代表列表从中第 0 个元素 到 第 2 个元素（左闭右开 `[ ) `，不包括第 2 个元素）"
   ]
  },
  {
   "cell_type": "code",
   "execution_count": 7,
   "id": "informative-national",
   "metadata": {},
   "outputs": [
    {
     "name": "stdout",
     "output_type": "stream",
     "text": [
      "[1, 2, 3, 4]\n",
      "[1, 2]\n",
      "[2, 3]\n"
     ]
    }
   ],
   "source": [
    "l = [1, 2, 3, 4]\n",
    "print(l)\n",
    "## 查找第 0 到 第 2 的元素子列表\n",
    "print(l[0:2])\n",
    "## 查找第 1 到 最后 的元素子列表\n",
    "print(l[1:-1])"
   ]
  },
  {
   "cell_type": "markdown",
   "id": "bronze-brook",
   "metadata": {},
   "source": [
    "### 1.2 修改元素"
   ]
  },
  {
   "cell_type": "markdown",
   "id": "alien-appeal",
   "metadata": {},
   "source": [
    "通过 `[ ]` 关键字同样可以修改列表中某个位置的元素，类似的它也支持倒序以及切片的形式。"
   ]
  },
  {
   "cell_type": "code",
   "execution_count": 4,
   "id": "verbal-writing",
   "metadata": {},
   "outputs": [
    {
     "name": "stdout",
     "output_type": "stream",
     "text": [
      "[-1, 2, 3, 4]\n"
     ]
    }
   ],
   "source": [
    "## 修改 首个 元素的值为 -1\n",
    "l[0] = -1\n",
    "print(l)"
   ]
  },
  {
   "cell_type": "markdown",
   "id": "better-architect",
   "metadata": {},
   "source": [
    "### 1.5 小例子"
   ]
  },
  {
   "cell_type": "markdown",
   "id": "correct-coalition",
   "metadata": {},
   "source": [
    "在熟悉了列表的增删查找功能后，我们就可以尝试以此为基础搭建我们的学生成绩管理系统。"
   ]
  },
  {
   "cell_type": "markdown",
   "id": "front-consequence",
   "metadata": {},
   "source": [
    "\n",
    "\n",
    "<blockquote>\n",
    "\n",
    "Task 1. 在上一次期末考试中，XiaoHu 考了数学 65 分，语文 55 分；XiaoMing 考了数学 80 分，语文92 分；XiaoWei 考了数学 95 分，语文 98 分，以此建立学生成绩管理系统。\n",
    "\n",
    "Task 2. 在本次期末考试中，XiaoHu 考了数学 95 分，语文 85 分；XiaoMing 考了数学 75 分，语文 71 分；XiaoWei 考了数学 92 分，语文 93 分，以此对之前的成绩进行更新。\n",
    "\n",
    "Task 3. 由于 XiaoMing 的成绩出现了大幅度下滑，家长决定要 XiaoMing 转学到另一所高中，以此在系统中删除 XiaoMing 的信息。\n",
    "\n",
    "Task 4. 学校新转来的学生 Cryin 本次考试成绩为 数学 87 分，语文 88 分，在系统中录入 Cryin 的成绩。\n",
    "\n",
    "</blockquote>"
   ]
  },
  {
   "cell_type": "code",
   "execution_count": 9,
   "id": "powerful-flower",
   "metadata": {},
   "outputs": [],
   "source": [
    "## Task 1 建立学生信息管理系统\n",
    "\n",
    "## 首先建立一个 “名字” 列表记录哪个学生在列表的哪个位置。\n",
    "names = ['XiaoHu', 'XiaoMing', 'XiaoWei']\n",
    "\n",
    "## 根据名字列表的位置分别建立 “语文成绩” “数学成绩列表” 列表。\n",
    "Math_scores = [65, 80, 95]\n",
    "Chinese_scores = [55, 92, 98]"
   ]
  },
  {
   "cell_type": "code",
   "execution_count": 10,
   "id": "handled-throat",
   "metadata": {},
   "outputs": [],
   "source": [
    "## Task 2 根据本次期末考试的成绩更新系统\n",
    "\n",
    "## 首先找到 \"XiaoHu\" 在哪个位置，更新该位置的成绩\n",
    "## 通过 for-in 循环遍历名字元素\n",
    "position = None\n",
    "count = 0\n",
    "for name in names:\n",
    "    ## 找到 XiaoHu 在列表中的位置\n",
    "    if name == \"XiaoHu\":\n",
    "        position = count\n",
    "    count = count + 1\n",
    "## 根据 XiaoHu 在列表中的位置更新成绩\n",
    "Math_scores[position] = 95\n",
    "Chinese_scores[position] = 85\n",
    "\n",
    "## 以同样方法更新 XiaoMing 与 XiaoWei 的成绩\n",
    "position = None\n",
    "count = 0\n",
    "for name in names:\n",
    "    if name == \"XiaoMing\":\n",
    "        position = count\n",
    "    count = count + 1\n",
    "Math_scores[position] = 75\n",
    "Chinese_scores[position] = 71\n",
    "\n",
    "position = None\n",
    "count = 0\n",
    "for name in names:\n",
    "    if name == \"XiaoWei\":\n",
    "        position = count\n",
    "    count = count + 1\n",
    "Math_scores[position] = 92\n",
    "Chinese_scores[position] = 93"
   ]
  },
  {
   "cell_type": "code",
   "execution_count": 11,
   "id": "expensive-assembly",
   "metadata": {},
   "outputs": [
    {
     "name": "stdout",
     "output_type": "stream",
     "text": [
      "['XiaoHu', 'XiaoMing', 'XiaoWei']\n",
      "[95, 75, 92]\n",
      "[85, 71, 93]\n"
     ]
    }
   ],
   "source": [
    "print(names)\n",
    "print(Math_scores)\n",
    "print(Chinese_scores)"
   ]
  },
  {
   "cell_type": "code",
   "execution_count": 13,
   "id": "healthy-blood",
   "metadata": {},
   "outputs": [],
   "source": [
    "## Task 3 删除 XiaoMing 的信息\n",
    "\n",
    "## 首先找到 \"XiaoMing\" 在哪个位置\n",
    "## 通过 for-in 循环遍历名字元素\n",
    "position = None\n",
    "count = 0\n",
    "for name in names:\n",
    "    ## 找到 XiaoMing 在列表中的位置\n",
    "    if name == \"XiaoMing\":\n",
    "        position = count\n",
    "    count = count + 1\n",
    "## 根据 XiaoMing 在列表中的位置删除\n",
    "del names[position]\n",
    "del Math_scores[position]\n",
    "del Chinese_scores[position]"
   ]
  },
  {
   "cell_type": "code",
   "execution_count": 14,
   "id": "olive-plumbing",
   "metadata": {},
   "outputs": [
    {
     "name": "stdout",
     "output_type": "stream",
     "text": [
      "['XiaoHu', 'XiaoWei']\n",
      "[95, 92]\n",
      "[85, 93]\n"
     ]
    }
   ],
   "source": [
    "print(names)\n",
    "print(Math_scores)\n",
    "print(Chinese_scores)"
   ]
  },
  {
   "cell_type": "code",
   "execution_count": 15,
   "id": "homeless-bangladesh",
   "metadata": {},
   "outputs": [],
   "source": [
    "## Task 4 录入 Cryin 的信息\n",
    "\n",
    "names.append('Cryin')\n",
    "Math_scores.append(87)\n",
    "Chinese_scores.append(88)"
   ]
  },
  {
   "cell_type": "code",
   "execution_count": 16,
   "id": "european-encounter",
   "metadata": {},
   "outputs": [
    {
     "name": "stdout",
     "output_type": "stream",
     "text": [
      "['XiaoHu', 'XiaoWei', 'Cryin']\n",
      "[95, 92, 87]\n",
      "[85, 93, 88]\n"
     ]
    }
   ],
   "source": [
    "print(names)\n",
    "print(Math_scores)\n",
    "print(Chinese_scores)"
   ]
  },
  {
   "cell_type": "markdown",
   "id": "confident-utility",
   "metadata": {},
   "source": [
    "以上我们就初步实现了学生成绩管理系统，并实现了用户的一些简单需求。可以发现列表的增删改操作相对轻松，但最困难的部分是需要遍历整个列表寻找元素在列表中的位置，这种困难是由列表在计算机中的存储形式决定的。后面我们介绍的数据结构 “字典” 可以用来解决这个问题。"
   ]
  },
  {
   "cell_type": "markdown",
   "id": "alien-magnitude",
   "metadata": {},
   "source": [
    "## 2 元组"
   ]
  },
  {
   "cell_type": "markdown",
   "id": "composed-sigma",
   "metadata": {},
   "source": [
    "元组与列表具有近乎一样的特性，他们唯一的区别在于元组无法被修改。由于不可修改的特性，元组一般用来保证存放数据的可靠性，例如用元组保存八大行星的名称，因为它们的名称不会被改变，也不会轻易减少： \n",
    "\n",
    "    planets = [ Mercury, Venus, Earth, Mars, Jupiter, Saturn, Uranus, Neptune]\n",
    "\n",
    "下面我们创建一个含有四个元素的元组。"
   ]
  },
  {
   "cell_type": "code",
   "execution_count": 17,
   "id": "welcome-philippines",
   "metadata": {},
   "outputs": [],
   "source": [
    "t = (1, 2, 3, 4)"
   ]
  },
  {
   "cell_type": "code",
   "execution_count": 18,
   "id": "vocal-regard",
   "metadata": {},
   "outputs": [
    {
     "ename": "TypeError",
     "evalue": "'tuple' object does not support item assignment",
     "output_type": "error",
     "traceback": [
      "\u001b[31m---------------------------------------------------------------------------\u001b[39m",
      "\u001b[31mTypeError\u001b[39m                                 Traceback (most recent call last)",
      "\u001b[36mCell\u001b[39m\u001b[36m \u001b[39m\u001b[32mIn[18]\u001b[39m\u001b[32m, line 3\u001b[39m\n\u001b[32m      1\u001b[39m \u001b[38;5;66;03m## 尝试修改元组，提示元素无法被赋值\u001b[39;00m\n\u001b[32m----> \u001b[39m\u001b[32m3\u001b[39m \u001b[43mt\u001b[49m\u001b[43m[\u001b[49m\u001b[32;43m0\u001b[39;49m\u001b[43m]\u001b[49m = -\u001b[32m1\u001b[39m\n",
      "\u001b[31mTypeError\u001b[39m: 'tuple' object does not support item assignment"
     ]
    }
   ],
   "source": [
    "## 尝试修改元组，提示元素无法被赋值\n",
    "\n",
    "t[0] = -1"
   ]
  },
  {
   "cell_type": "code",
   "execution_count": 19,
   "id": "friendly-designation",
   "metadata": {},
   "outputs": [
    {
     "ename": "AttributeError",
     "evalue": "'tuple' object has no attribute 'append'",
     "output_type": "error",
     "traceback": [
      "\u001b[31m---------------------------------------------------------------------------\u001b[39m",
      "\u001b[31mAttributeError\u001b[39m                            Traceback (most recent call last)",
      "\u001b[36mCell\u001b[39m\u001b[36m \u001b[39m\u001b[32mIn[19]\u001b[39m\u001b[32m, line 2\u001b[39m\n\u001b[32m      1\u001b[39m \u001b[38;5;66;03m## 尝试增加元素，系统提示不支持 append 操作\u001b[39;00m\n\u001b[32m----> \u001b[39m\u001b[32m2\u001b[39m \u001b[43mt\u001b[49m\u001b[43m.\u001b[49m\u001b[43mappend\u001b[49m(\u001b[32m5\u001b[39m)\n",
      "\u001b[31mAttributeError\u001b[39m: 'tuple' object has no attribute 'append'"
     ]
    }
   ],
   "source": [
    "## 尝试增加元素，系统提示不支持 append 操作\n",
    "t.append(5)"
   ]
  },
  {
   "cell_type": "code",
   "execution_count": 20,
   "id": "acceptable-denver",
   "metadata": {},
   "outputs": [
    {
     "ename": "TypeError",
     "evalue": "'tuple' object doesn't support item deletion",
     "output_type": "error",
     "traceback": [
      "\u001b[31m---------------------------------------------------------------------------\u001b[39m",
      "\u001b[31mTypeError\u001b[39m                                 Traceback (most recent call last)",
      "\u001b[36mCell\u001b[39m\u001b[36m \u001b[39m\u001b[32mIn[20]\u001b[39m\u001b[32m, line 2\u001b[39m\n\u001b[32m      1\u001b[39m \u001b[38;5;66;03m## 尝试删除元素，系统提示元素无法被删除\u001b[39;00m\n\u001b[32m----> \u001b[39m\u001b[32m2\u001b[39m \u001b[38;5;28;01mdel\u001b[39;00m \u001b[43mt\u001b[49m\u001b[43m[\u001b[49m\u001b[32;43m0\u001b[39;49m\u001b[43m]\u001b[49m\n",
      "\u001b[31mTypeError\u001b[39m: 'tuple' object doesn't support item deletion"
     ]
    }
   ],
   "source": [
    "## 尝试删除元素，系统提示元素无法被删除\n",
    "del t[0]"
   ]
  },
  {
   "cell_type": "markdown",
   "id": "frank-myanmar",
   "metadata": {},
   "source": [
    "## 3 字典"
   ]
  },
  {
   "cell_type": "markdown",
   "id": "prescribed-receptor",
   "metadata": {},
   "source": [
    "顾名思义，字典就像现实世界中的字典，只要知道一个单词的读音，就能找到它在书中具体的位置！即我们将一个 “键(key)” 与 “值(value)” 相关联，通过键迅速检索到对应的值。要注意键必须是唯一的，这就好比两个单词如果读音一样就会出现歧义一样。\n",
    "\n",
    "字典通过花括号 `{ }` 创建，通过 `:` 符号区分键与值，通过逗号分隔。下面我们创建一个字典存储联系人的邮箱。"
   ]
  },
  {
   "cell_type": "code",
   "execution_count": 21,
   "id": "formal-policy",
   "metadata": {},
   "outputs": [],
   "source": [
    "ab = {\n",
    "    \"XiaoHu\": \"xiaohu@RNG.com\",\n",
    "    \"XiaoWei\": \"xiaowei@RNG.com\",\n",
    "    \"XiaoMing\": \"xiaoming@RNG.com\"\n",
    "}"
   ]
  },
  {
   "cell_type": "code",
   "execution_count": 22,
   "id": "discrete-sequence",
   "metadata": {},
   "outputs": [
    {
     "name": "stdout",
     "output_type": "stream",
     "text": [
      "{'XiaoHu': 'xiaohu@RNG.com', 'XiaoWei': 'xiaowei@RNG.com', 'XiaoMing': 'xiaoming@RNG.com'}\n"
     ]
    }
   ],
   "source": [
    "print(ab)"
   ]
  },
  {
   "cell_type": "markdown",
   "id": "hourly-brick",
   "metadata": {},
   "source": [
    "字典支持以下操作：\n",
    "- 增：通过关键字 `[ ]` 可以向列表内增加元素\n",
    "- 删：通过关键字 `del` 可以删除列表内元素\n",
    "- 查：通过关键字 `[ ]` 可以查找列表某个位置元素\n",
    "- 改：通过赋值符号 `=` 可以修改某个位置的元素\n",
    "\n",
    "字典的优点是：\n",
    "- 快速检索到键对应的值\n",
    "- 字典内的键值不存在顺序关系"
   ]
  },
  {
   "cell_type": "markdown",
   "id": "revolutionary-remainder",
   "metadata": {},
   "source": [
    "### 3.1 增加元素"
   ]
  },
  {
   "cell_type": "code",
   "execution_count": 23,
   "id": "patient-investment",
   "metadata": {},
   "outputs": [
    {
     "name": "stdout",
     "output_type": "stream",
     "text": [
      "{'XiaoHu': 'xiaohu@RNG.com', 'XiaoWei': 'xiaowei@RNG.com', 'XiaoMing': 'xiaoming@RNG.com', 'Cryin': 'cryin@RNG.com'}\n"
     ]
    }
   ],
   "source": [
    "## 通过 [ ] 关键字 与赋值符号 = 向字典添加新的元素\n",
    "\n",
    "ab['Cryin'] = \"cryin@RNG.com\"\n",
    "print(ab)"
   ]
  },
  {
   "cell_type": "markdown",
   "id": "active-fellowship",
   "metadata": {},
   "source": [
    "### 3.2 删除元素"
   ]
  },
  {
   "cell_type": "code",
   "execution_count": 22,
   "id": "bigger-celebrity",
   "metadata": {},
   "outputs": [
    {
     "name": "stdout",
     "output_type": "stream",
     "text": [
      "{'XiaoHu': 'xiaohu@RNG.com', 'XiaoWei': 'xiaowei@RNG.com', 'Cryin': 'cryin@RNG.com'}\n"
     ]
    }
   ],
   "source": [
    "## 通过 del 关键字 删除字典中的元素\n",
    "\n",
    "del ab['XiaoMing']\n",
    "print(ab)"
   ]
  },
  {
   "cell_type": "markdown",
   "id": "still-sitting",
   "metadata": {},
   "source": [
    "### 3.3 查找元素"
   ]
  },
  {
   "cell_type": "code",
   "execution_count": 23,
   "id": "outdoor-processor",
   "metadata": {},
   "outputs": [
    {
     "name": "stdout",
     "output_type": "stream",
     "text": [
      "xiaohu@RNG.com\n"
     ]
    }
   ],
   "source": [
    "## 通过 [ ] 关键字根据键查找值\n",
    "\n",
    "print(ab['XiaoHu'])"
   ]
  },
  {
   "cell_type": "code",
   "execution_count": 24,
   "id": "informational-tournament",
   "metadata": {},
   "outputs": [
    {
     "name": "stdout",
     "output_type": "stream",
     "text": [
      "True\n",
      "False\n"
     ]
    }
   ],
   "source": [
    "## 通过 in 关键字可以查找某个键是否在字典中\n",
    "print('XiaoHu' in ab)\n",
    "print('UZI' in ab)"
   ]
  },
  {
   "cell_type": "markdown",
   "id": "neither-barrier",
   "metadata": {},
   "source": [
    "### 3.4 修改元素"
   ]
  },
  {
   "cell_type": "code",
   "execution_count": 25,
   "id": "interstate-russia",
   "metadata": {},
   "outputs": [
    {
     "name": "stdout",
     "output_type": "stream",
     "text": [
      "{'XiaoHu': 'xiaohu@EDG.com', 'XiaoWei': 'xiaowei@RNG.com', 'Cryin': 'cryin@RNG.com'}\n"
     ]
    }
   ],
   "source": [
    "## 通过 [ ] 关键字 与赋值符号 = 修改字典内的元素\n",
    "\n",
    "ab['XiaoHu'] = \"xiaohu@EDG.com\"\n",
    "print(ab)"
   ]
  },
  {
   "cell_type": "markdown",
   "id": "supported-probe",
   "metadata": {},
   "source": [
    "### 3.5 小例子"
   ]
  },
  {
   "cell_type": "markdown",
   "id": "narrative-postage",
   "metadata": {},
   "source": [
    "下面我们以字典为基础重新构建学生成绩管理系统："
   ]
  },
  {
   "cell_type": "code",
   "execution_count": 24,
   "id": "fitted-trade",
   "metadata": {},
   "outputs": [
    {
     "name": "stdout",
     "output_type": "stream",
     "text": [
      "{'XiaoHu': 65, 'XiaoMing': 80, 'XiaoWei': 95}\n",
      "{'XiaoHu': 55, 'XiaoMing': 92, 'XiaoWei': 98}\n"
     ]
    }
   ],
   "source": [
    "## Task 1 建立学生信息管理系统\n",
    "\n",
    "Math_scores = {}\n",
    "Math_scores['XiaoHu'] = 65\n",
    "Math_scores['XiaoMing'] = 80\n",
    "Math_scores['XiaoWei'] = 95\n",
    "\n",
    "Chinese_scores = {}\n",
    "Chinese_scores['XiaoHu'] = 55\n",
    "Chinese_scores['XiaoMing'] = 92\n",
    "Chinese_scores['XiaoWei'] = 98\n",
    "\n",
    "print(Math_scores)\n",
    "print(Chinese_scores)"
   ]
  },
  {
   "cell_type": "code",
   "execution_count": 27,
   "id": "regular-jackson",
   "metadata": {},
   "outputs": [
    {
     "name": "stdout",
     "output_type": "stream",
     "text": [
      "{'XiaoHu': 95, 'XiaoMing': 75, 'XiaoWei': 92}\n",
      "{'XiaoHu': 85, 'XiaoMing': 71, 'XiaoWei': 93}\n"
     ]
    }
   ],
   "source": [
    "## Task 2 根据本次期末考试的成绩更新系统\n",
    "\n",
    "Math_scores['XiaoHu'] = 95\n",
    "Math_scores['XiaoMing'] = 75\n",
    "Math_scores['XiaoWei'] = 92\n",
    "\n",
    "Chinese_scores = {}\n",
    "Chinese_scores['XiaoHu'] = 85\n",
    "Chinese_scores['XiaoMing'] = 71\n",
    "Chinese_scores['XiaoWei'] = 93\n",
    "\n",
    "print(Math_scores)\n",
    "print(Chinese_scores)"
   ]
  },
  {
   "cell_type": "code",
   "execution_count": 28,
   "id": "global-orleans",
   "metadata": {},
   "outputs": [
    {
     "name": "stdout",
     "output_type": "stream",
     "text": [
      "{'XiaoHu': 95, 'XiaoWei': 92}\n",
      "{'XiaoHu': 85, 'XiaoWei': 93}\n"
     ]
    }
   ],
   "source": [
    "## Task 3 删除 XiaoMing 的信息\n",
    "\n",
    "del Math_scores['XiaoMing']\n",
    "del Chinese_scores['XiaoMing']\n",
    "\n",
    "print(Math_scores)\n",
    "print(Chinese_scores)"
   ]
  },
  {
   "cell_type": "code",
   "execution_count": 29,
   "id": "golden-composition",
   "metadata": {},
   "outputs": [
    {
     "name": "stdout",
     "output_type": "stream",
     "text": [
      "{'XiaoHu': 95, 'XiaoWei': 92, 'Cryin': 87}\n",
      "{'XiaoHu': 85, 'XiaoWei': 93, 'Cryin': 88}\n"
     ]
    }
   ],
   "source": [
    "## Task 4 录入 Cryin 的信息\n",
    "\n",
    "Math_scores['Cryin'] = 87\n",
    "Chinese_scores['Cryin'] = 88\n",
    "\n",
    "print(Math_scores)\n",
    "print(Chinese_scores)"
   ]
  },
  {
   "cell_type": "markdown",
   "id": "maritime-victim",
   "metadata": {},
   "source": [
    "在我们的小例子中可以观察到，字典构建的学生管理系统避免了查找元素所在位置的操作，这是字典根据“键”可以迅速找到“值”的特性决定的。"
   ]
  },
  {
   "cell_type": "markdown",
   "id": "nominated-transaction",
   "metadata": {},
   "source": [
    "## 4 集合"
   ]
  },
  {
   "cell_type": "markdown",
   "id": "minus-anchor",
   "metadata": {},
   "source": [
    "集合是用来存储无序的元素集合。通常我们只考虑元素的存在，而不考虑元素的顺序或出现次数时使用集合。\n",
    "\n",
    "集合与字典一样也通过花括号创建，但不存在 : 分隔符号。例如用集合表示中国的四个直辖市，它们无需考虑顺序与出现次数。\n",
    "\n",
    "    municipalities = { \"Beijing\", \"Shanghai\", \"Tianjin\", \"Chongqing\" }\n",
    "\n",
    "注意集合中不能存在重复元素。"
   ]
  },
  {
   "cell_type": "code",
   "execution_count": 30,
   "id": "imported-destruction",
   "metadata": {},
   "outputs": [],
   "source": [
    "## 创建一个集合\n",
    "\n",
    "s = {1,2,3,4,5}"
   ]
  },
  {
   "cell_type": "markdown",
   "id": "stopped-logging",
   "metadata": {},
   "source": [
    "集合支持以下操作：\n",
    "- 增：通过函数 `add` 可以向集合内增加元素\n",
    "- 删：通过函数 `remove` 可以删除集合内元素\n",
    "- 查：通过关键字 `in` 可以查找某个元素是否在集合内\n",
    "\n",
    "集合的优点是：\n",
    "- 支持数学集合操作\n",
    "- 快速检索某个元素是否在集合内\n",
    "- 集合内的键值不存在顺序关系"
   ]
  },
  {
   "cell_type": "markdown",
   "id": "welcome-church",
   "metadata": {},
   "source": [
    "### 4.1 增加元素"
   ]
  },
  {
   "cell_type": "code",
   "execution_count": 31,
   "id": "unlike-thermal",
   "metadata": {},
   "outputs": [
    {
     "name": "stdout",
     "output_type": "stream",
     "text": [
      "{1, 2, 3, 4, 5, 6}\n"
     ]
    }
   ],
   "source": [
    "## 增加新的元素到集合中\n",
    "\n",
    "s.add(6)\n",
    "print(s)"
   ]
  },
  {
   "cell_type": "markdown",
   "id": "focused-aberdeen",
   "metadata": {},
   "source": [
    "### 4.2 删除元素"
   ]
  },
  {
   "cell_type": "code",
   "execution_count": 32,
   "id": "mounted-pioneer",
   "metadata": {},
   "outputs": [
    {
     "name": "stdout",
     "output_type": "stream",
     "text": [
      "{1, 2, 3, 4, 5}\n"
     ]
    }
   ],
   "source": [
    "## 删除集合中某个元素\n",
    "\n",
    "s.remove(6)\n",
    "print(s)"
   ]
  },
  {
   "cell_type": "markdown",
   "id": "fitted-ceiling",
   "metadata": {},
   "source": [
    "### 4.3 查找元素"
   ]
  },
  {
   "cell_type": "code",
   "execution_count": 33,
   "id": "coordinated-pillow",
   "metadata": {},
   "outputs": [
    {
     "name": "stdout",
     "output_type": "stream",
     "text": [
      "True\n",
      "False\n"
     ]
    }
   ],
   "source": [
    "## 查找某个元素是否在集合中\n",
    "print(5 in s)\n",
    "print(6 in s)"
   ]
  },
  {
   "cell_type": "markdown",
   "id": "animated-prevention",
   "metadata": {},
   "source": [
    "### 4.4 数学操作"
   ]
  },
  {
   "cell_type": "markdown",
   "id": "touched-harvard",
   "metadata": {},
   "source": [
    "集合的一大特点是支持数学操作，其中包括求集合的 并集、交集 以及 亦或 操作。"
   ]
  },
  {
   "cell_type": "code",
   "execution_count": 34,
   "id": "motivated-yesterday",
   "metadata": {},
   "outputs": [],
   "source": [
    "## 创建另一个集合\n",
    "s2 = {3,4,5,6,7}"
   ]
  },
  {
   "cell_type": "code",
   "execution_count": 35,
   "id": "affiliated-setup",
   "metadata": {},
   "outputs": [
    {
     "name": "stdout",
     "output_type": "stream",
     "text": [
      "{1, 2, 3, 4, 5, 6, 7}\n"
     ]
    }
   ],
   "source": [
    "## 集合并集\n",
    "print(s | s2)"
   ]
  },
  {
   "cell_type": "code",
   "execution_count": 36,
   "id": "disabled-enzyme",
   "metadata": {},
   "outputs": [
    {
     "name": "stdout",
     "output_type": "stream",
     "text": [
      "{3, 4, 5}\n"
     ]
    }
   ],
   "source": [
    "## 集合交集\n",
    "print(s & s2)"
   ]
  },
  {
   "cell_type": "code",
   "execution_count": 37,
   "id": "healthy-paradise",
   "metadata": {},
   "outputs": [
    {
     "name": "stdout",
     "output_type": "stream",
     "text": [
      "{1, 2, 6, 7}\n"
     ]
    }
   ],
   "source": [
    "## 集合异或，即不属于交集的部分\n",
    "print(s ^ s2)"
   ]
  }
 ],
 "metadata": {
  "kernelspec": {
   "display_name": "Python 3",
   "language": "python",
   "name": "python3"
  },
  "language_info": {
   "codemirror_mode": {
    "name": "ipython",
    "version": 3
   },
   "file_extension": ".py",
   "mimetype": "text/x-python",
   "name": "python",
   "nbconvert_exporter": "python",
   "pygments_lexer": "ipython3",
   "version": "3.11.4"
  },
  "notify_time": "10",
  "toc": {
   "base_numbering": 1,
   "nav_menu": {},
   "number_sections": false,
   "sideBar": true,
   "skip_h1_title": true,
   "title_cell": "Table of Contents",
   "title_sidebar": "Contents",
   "toc_cell": false,
   "toc_position": {
    "height": "calc(100% - 180px)",
    "left": "10px",
    "top": "150px",
    "width": "189.25271606445312px"
   },
   "toc_section_display": true,
   "toc_window_display": true
  }
 },
 "nbformat": 4,
 "nbformat_minor": 5
}
