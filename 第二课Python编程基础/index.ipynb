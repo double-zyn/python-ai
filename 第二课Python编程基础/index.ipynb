{
 "cells": [
  {
   "cell_type": "markdown",
   "id": "8bedbae5-fb12-4e94-b282-49238b38c3ab",
   "metadata": {},
   "source": [
    "# Python编程基础\n",
    "\n",
    "## 💡 这节课会带给你\n",
    "\n",
    "1. Python基础语法\n",
    "  - 变量、数据类型\n",
    "  - 运算符与表达式\n",
    "  - 输入与输出\n",
    "\n",
    "2. Python控制结构\n",
    "  - 条件语句\n",
    "  - 循环控制语句\n",
    "    \n",
    "3. Python数据结构\n",
    "  - 列表和列表操作\n",
    "  - 元祖、字典和集合操作\n",
    "\n",
    "4. Python函数和模块\n",
    "   - Python函数基础\n",
    "   - Python模块介绍\n",
    "5. Python面向对象编程\n",
    "6. Python数据处理\n",
    "   - NumPy\n",
    "   - Pandas\n",
    "   - Matplotlib\n",
    "\n",
    "\n",
    "开始上课！"
   ]
  },
  {
   "cell_type": "code",
   "execution_count": 2,
   "id": "185752e5-9c8c-445f-ae2f-8d64fc4d38f9",
   "metadata": {},
   "outputs": [
    {
     "name": "stdout",
     "output_type": "stream",
     "text": [
      "不，这门课只在每周二和周四上课。周末不安排课程。\n"
     ]
    }
   ],
   "source": [
    "from openai import OpenAI\n",
    "\n",
    "# 初始化大模型服务\n",
    "client = OpenAI(\n",
    "    api_key = \"sk-UlpCmmpivAj7IumVaDcuJc2NSnuapuSsxPw6Cmi1RsjXZrNc\",\n",
    "    base_url = \"https://api.moonshot.cn/v1\",\n",
    ")\n",
    "\n",
    "# 定义消息列表\n",
    "messages = [\n",
    "    {\n",
    "        \"role\": \"system\",\n",
    "        \"content\": \"你是AI助手小瓜，是 AGIClass.ai 的助教。这门课每周二、四上课。\" \n",
    "    },\n",
    "    {\n",
    "        \"role\": \"user\",\n",
    "        \"content\": \"周末上课吗？\"  # 问问题。可以改改试试\n",
    "    },\n",
    "]\n",
    "\n",
    "# 调用大模型\n",
    "chat_completion = client.chat.completions.create(\n",
    "    model=\"moonshot-v1-8k\",\n",
    "    messages=messages\n",
    ")\n",
    "\n",
    "# 输出回复\n",
    "print(chat_completion.choices[0].message.content)"
   ]
  }
 ],
 "metadata": {
  "kernelspec": {
   "display_name": "Python 3 (ipykernel)",
   "language": "python",
   "name": "python3"
  },
  "language_info": {
   "codemirror_mode": {
    "name": "ipython",
    "version": 3
   },
   "file_extension": ".py",
   "mimetype": "text/x-python",
   "name": "python",
   "nbconvert_exporter": "python",
   "pygments_lexer": "ipython3",
   "version": "3.11.4"
  }
 },
 "nbformat": 4,
 "nbformat_minor": 5
}
