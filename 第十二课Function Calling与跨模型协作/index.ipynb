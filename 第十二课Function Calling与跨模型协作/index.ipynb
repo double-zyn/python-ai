{
 "cells": [
  {
   "cell_type": "markdown",
   "metadata": {},
   "source": [
    "## Function Calling与跨模型协作"
   ]
  },
  {
   "cell_type": "markdown",
   "metadata": {},
   "source": [
    "## 💡 这节课会带给你\n",
    "\n",
    "1. 理解Function Calling的概念\n",
    "2. 理解Function Calling的工作原理\n",
    "3. 实战使用OpenAI提供的Function Calling接口（基础请求及优化）\n",
    "4. 探讨自定义Function的提供的可能性\n",
    "5. 探讨Function Calling在大模型应用场景中带来的“质变”"
   ]
  },
  {
   "cell_type": "markdown",
   "metadata": {},
   "source": [
    "## 学习能力要求\n",
    "\n",
    "- 代码能力要求：中/低\n",
    "- AI/数学基础要求：无\n",
    "- 学习方式\n",
    "    - 开发能力较强的同学：关注概念、工作原理、实操落地方法\n",
    "    - 开发能力较弱的同学：关注概念、工作原理，理解Function Calling带来的可能性"
   ]
  },
  {
   "cell_type": "markdown",
   "metadata": {},
   "source": [
    "## Function Calling的概念\n",
    "\n",
    "Function Calling（函数调用），顾名思义，为模型提供了一种调用函数的方法/能力。\n",
    "\n",
    "- Function Calling成立的模型能力基础：\n",
    "    - 问题理解和行动规划\n",
    "    - 结构化数据输出\n",
    "    - In-Context Learning\n",
    "\n",
    "Function Calling让模型输出不再局限于自身推理输出，而是可以与外部系统交互，完成更复杂的任务\n",
    "\n",
    "- 常见Function Calling应用场景包括：\n",
    "    - 查询检索，补充额外信息（如RAG、搜索）\n",
    "    - 理解用户输入，向外部系统写入信息（如表单填写）\n",
    "    - 调用外部系统能力，完成实际行为动作（如下订单）\n",
    "    - ..."
   ]
  },
  {
   "cell_type": "markdown",
   "metadata": {},
   "source": [
    "## Function Calling的工作原理"
   ]
  },
  {
   "cell_type": "markdown",
   "metadata": {},
   "source": [
    "### OpenAI官方定义\n",
    "\n",
    "OpenAI官方说明文档：https://platform.openai.com/docs/guides/function-calling\n",
    "\n",
    "<img src=\"./function-calling-diagram-steps.png\" width=\"600px\"/>"
   ]
  },
  {
   "cell_type": "markdown",
   "metadata": {},
   "source": [
    "### 描述Function Calling的另一个流程图\n",
    "\n",
    "<img src=\"./function_calling.drawio.png\"/>"
   ]
  },
  {
   "cell_type": "markdown",
   "metadata": {},
   "source": [
    "### Calling是结果，理解和选择才是第一步\n",
    "\n",
    "- 除了代表用户诉求的Prompt之外，Function Calling还需要将可用的工具信息（Function Definitions）也提供给模型\n",
    "- 在第一次请求时，模型的核心工作如下：\n",
    "    1. 理解Prompt所代表的“诉求”和Definitions所代表的“行动可能性”\n",
    "    2. “选择”完成“诉求”所需要进行的“行动”（从“行动可能性”中获得）\n",
    "    3. 根据所选择的“行动”，给出执行“行动”所需的“行动参数”（Parameters）\n",
    "- 那么想一想：\n",
    "    1. 什么影响“选择”的效果？\n",
    "    2. 什么影响“行动”的可执行性和效果？"
   ]
  },
  {
   "cell_type": "markdown",
   "metadata": {},
   "source": [
    "### 作为可选项的结果回调和最终回复输出\n",
    "\n",
    "- 在对话流中，将Function Calling的结果（Function Result）与初始的Prompt诉求再次组合，提供给模型以获得最终的回复输出，是常见的流程（RAG就是一个典型的例子）\n",
    "- 但如果我们将Function Calling用于非对话流场景，最终回复输出就不一定是必选项了，例如：\n",
    "    1. 【只需要完成Calling动作】我们只是希望通过Function Calling完成行动选择和发起，接下来就进入业务处理流程，例如：理解用户表达并代替用户下单\n",
    "    2. 【只需要完成行动参数Parameters生成】我们只是希望将Function Calling做好工具使用决策，并完成部分请求参数的生成，接下来需要走业务流程补全其他参数（比如鉴权信息），例如：敏感数据查询\n",
    "\n",
    "在实际生产中，不给出最终回复输出，而只是使用Function Calling返回的调用方法数据，是很常见的用法。"
   ]
  },
  {
   "cell_type": "markdown",
   "metadata": {},
   "source": [
    "## 实际调用Function Calling"
   ]
  },
  {
   "cell_type": "markdown",
   "metadata": {},
   "source": [
    "### 从官方案例开始"
   ]
  },
  {
   "cell_type": "markdown",
   "metadata": {},
   "source": [
    "#### 第一步：工具决策和调用信息生成"
   ]
  },
  {
   "cell_type": "code",
   "execution_count": null,
   "metadata": {},
   "outputs": [],
   "source": [
    "import os\n",
    "import dotenv\n",
    "dotenv.load_dotenv(dotenv.find_dotenv())\n",
    "\n",
    "from openai import OpenAI\n",
    "\n",
    "client = OpenAI(\n",
    "    api_key=os.environ.get(\"OPENAI_API_KEY\"),\n",
    "    base_url=os.environ.get(\"OPENAI_BASE_URL\"),\n",
    ")\n",
    "\n",
    "# 给出工具定义\n",
    "tools = [{\n",
    "    \"type\": \"function\",\n",
    "    \"function\": {\n",
    "        \"name\": \"get_weather\",\n",
    "        \"description\": \"Get current temperature for provided coordinates in celsius.\",\n",
    "        \"parameters\": {\n",
    "            \"type\": \"object\",\n",
    "            \"properties\": {\n",
    "                \"latitude\": {\"type\": \"number\"},\n",
    "                \"longitude\": {\"type\": \"number\"}\n",
    "            },\n",
    "            \"required\": [\"latitude\", \"longitude\"],\n",
    "            \"additionalProperties\": False\n",
    "        },\n",
    "        \"strict\": True\n",
    "    }\n",
    "}]\n",
    "\n",
    "# 给出诉求表达\n",
    "messages = [{\"role\": \"user\", \"content\": \"What's the weather like in Paris today?\"}]\n",
    "\n",
    "# 发起请求\n",
    "completion = client.chat.completions.create(\n",
    "    model=\"gpt-4o\",\n",
    "    messages=messages,\n",
    "    tools=tools,\n",
    ")\n",
    "# print(completion)\n",
    "print(completion.choices[0].message.tool_calls[0].function)"
   ]
  },
  {
   "cell_type": "markdown",
   "metadata": {},
   "source": [
    "- 情况1：问与工具的无关的问题会发生什么？\n",
    "    - `messages = [{\"role\": \"user\", \"content\": \"How are you today?\"}]`\n",
    "- 情况2：问无法获得确切行动参数的问题会发生什么？\n",
    "    - `messages = [{\"role\": \"user\", \"content\": \"What's the weather like today?\"}]`\n",
    "\n",
    "- 如何容错：\n",
    "\n",
    "    ```python\n",
    "    if completion.choices[0].message.tool_calls:\n",
    "        print(completion.choices[0].message.tool_calls[0].function)\n",
    "    else:\n",
    "        print(\"No function is called.\")\n",
    "    ```"
   ]
  },
  {
   "cell_type": "markdown",
   "metadata": {},
   "source": [
    "#### 第二步：实际调用工具"
   ]
  },
  {
   "cell_type": "code",
   "execution_count": null,
   "metadata": {},
   "outputs": [],
   "source": [
    "function_calling_message = completion.choices[0].message\n",
    "function_calling = completion.choices[0].message.tool_calls[0]\n",
    "\n",
    "print(\"Call Function Name:\", function_calling.function.name)\n",
    "print(\"Call Function Arguments:\", function_calling.function.arguments)"
   ]
  },
  {
   "cell_type": "code",
   "execution_count": null,
   "metadata": {},
   "outputs": [],
   "source": [
    "import json\n",
    "\n",
    "def get_weather(*, latitude:float, longitude:float):\n",
    "    return {\n",
    "        \"temperature\": 23,\n",
    "        \"weather\": \"Sunny\",\n",
    "        \"wind_direction\": \"South\",\n",
    "        \"windy\": 2,\n",
    "    }\n",
    "\n",
    "functions = {\n",
    "    \"get_weather\": get_weather\n",
    "}\n",
    "\n",
    "function_result = functions[function_calling.function.name](**json.loads(function_calling.function.arguments))\n",
    "print(function_result)"
   ]
  },
  {
   "cell_type": "markdown",
   "metadata": {},
   "source": [
    "#### 第三步：将结果返回给模型获取最终结果"
   ]
  },
  {
   "cell_type": "code",
   "execution_count": 21,
   "metadata": {},
   "outputs": [
    {
     "name": "stdout",
     "output_type": "stream",
     "text": [
      "[{'role': 'user', 'content': \"What's the weather like in Paris today?\"}]\n"
     ]
    }
   ],
   "source": [
    "print(messages)"
   ]
  },
  {
   "cell_type": "code",
   "execution_count": null,
   "metadata": {},
   "outputs": [],
   "source": [
    "messages.append(function_calling_message)\n",
    "messages.append({\n",
    "    \"role\": \"tool\",\n",
    "    \"tool_call_id\": function_calling.id,\n",
    "    \"content\": str(function_result),\n",
    "})\n",
    "\n",
    "final_result = client.chat.completions.create(\n",
    "    model=\"gpt-4o\",\n",
    "    messages=messages,\n",
    "    tools=tools,\n",
    ")\n",
    "print(final_result.choices[0].message.content)"
   ]
  },
  {
   "cell_type": "markdown",
   "metadata": {},
   "source": [
    "- 如果获得错误信息会怎么样？"
   ]
  },
  {
   "cell_type": "code",
   "execution_count": null,
   "metadata": {},
   "outputs": [],
   "source": [
    "error_messages = messages[:1]\n",
    "error_messages.append(function_calling_message)\n",
    "error_messages.append({\n",
    "    \"role\": \"tool\",\n",
    "    \"tool_call_id\": function_calling.id,\n",
    "    \"content\": str(TypeError(\"Key 'latitude' can not be supported any more, please use 'lat' instead.\")),\n",
    "})\n",
    "print(error_messages)\n",
    "\n",
    "final_result = client.chat.completions.create(\n",
    "    model=\"gpt-4o\",\n",
    "    messages=error_messages,\n",
    "    tools=tools,\n",
    ")\n",
    "print(final_result.choices[0])"
   ]
  },
  {
   "cell_type": "markdown",
   "metadata": {},
   "source": [
    "- 答：会重试，但不多..."
   ]
  },
  {
   "cell_type": "markdown",
   "metadata": {},
   "source": [
    "## 在实际应用场景中的一些案例"
   ]
  },
  {
   "cell_type": "markdown",
   "metadata": {},
   "source": [
    "### 封装基本方法"
   ]
  },
  {
   "cell_type": "code",
   "execution_count": null,
   "metadata": {},
   "outputs": [],
   "source": [
    "import os\n",
    "import dotenv\n",
    "dotenv.load_dotenv(dotenv.find_dotenv())\n",
    "\n",
    "import json\n",
    "from typing import TypedDict\n",
    "from openai import OpenAI\n",
    "\n",
    "class FunctionCallingResult(TypedDict):\n",
    "    name: str\n",
    "    arguments: str\n",
    "\n",
    "class ModelRequestWithFunctionCalling:\n",
    "    def __init__(self):\n",
    "        self._client = OpenAI(\n",
    "            api_key=os.environ.get(\"OPENAI_API_KEY\"),\n",
    "            base_url=os.environ.get(\"OPENAI_BASE_URL\"),\n",
    "        )\n",
    "        self._function_infos = {}\n",
    "        self._function_mappings = {}\n",
    "        self._messages = []\n",
    "    \n",
    "    def register_function(self, *, name, description, parameters, function, **kwargs):\n",
    "        self._function_infos.update({\n",
    "            name: {\n",
    "                \"type\": \"function\",\n",
    "                \"function\": {\n",
    "                    \"name\": name,\n",
    "                    \"description\": description,\n",
    "                    \"parameters\": parameters,\n",
    "                    **kwargs\n",
    "                }\n",
    "            }\n",
    "        })\n",
    "        self._function_mappings.update({ name: function })\n",
    "        return self\n",
    "\n",
    "    def reset_messages(self):\n",
    "        self._messages = []\n",
    "        return self\n",
    "    \n",
    "    def append_message(self, role, content, **kwargs):\n",
    "        self._messages.append({ \"role\": role, \"content\": content, **kwargs })\n",
    "        print(\"[Processing Messages]:\", self._messages[-1])\n",
    "        return self\n",
    "    \n",
    "    def _call(self, function_calling_result:FunctionCallingResult):\n",
    "        function = self._function_mappings[function_calling_result.name]\n",
    "        arguments = json.loads(function_calling_result.arguments)\n",
    "        return function(**arguments)\n",
    "\n",
    "    def request(self, *, role=\"user\", content=None):\n",
    "        if role and content:\n",
    "            self._messages.append({ \"role\": role, \"content\": content })\n",
    "        result = self._client.chat.completions.create(\n",
    "            model=\"gpt-4o\",\n",
    "            messages=self._messages,\n",
    "            tools=self._function_infos.values(),\n",
    "        )\n",
    "        self.append_message(**dict(result.choices[0].message))\n",
    "        if result.choices[0].message.tool_calls:\n",
    "            for tool_call in result.choices[0].message.tool_calls:\n",
    "                call_result = self._call(tool_call.function)\n",
    "                self.append_message(\"tool\", str(call_result), tool_call_id=tool_call.id)\n",
    "            return self.request()\n",
    "        else:\n",
    "            self.append_message(\"assistant\", result.choices[0].message.content)\n",
    "            return result.choices[0].message.content"
   ]
  },
  {
   "cell_type": "markdown",
   "metadata": {},
   "source": [
    "### 联网检索现实场景"
   ]
  },
  {
   "cell_type": "code",
   "execution_count": null,
   "metadata": {},
   "outputs": [],
   "source": [
    "import requests\n",
    "import os\n",
    "import json\n",
    "\n",
    "amap_key = os.getenv(\"AMAP_KEY\")\n",
    "amap_base_url = os.getenv(\"AMAP_URL\") # 默认是 https://restapi.amap.com/v5\n",
    "\n",
    "\n",
    "def get_location_coordinate(location, city):\n",
    "    url = f\"{amap_base_url}/place/text?key={amap_key}&keywords={location}&region={city}\"\n",
    "    r = requests.get(url)\n",
    "    result = r.json()\n",
    "    if \"pois\" in result and result[\"pois\"]:\n",
    "        return result[\"pois\"][0]\n",
    "    return None\n",
    "\n",
    "\n",
    "def search_nearby_pois(longitude, latitude, keyword):\n",
    "    url = f\"{amap_base_url}/place/around?key={amap_key}&keywords={keyword}&location={longitude},{latitude}\"\n",
    "    r = requests.get(url)\n",
    "    result = r.json()\n",
    "    ans = \"\"\n",
    "    if \"pois\" in result and result[\"pois\"]:\n",
    "        for i in range(min(3, len(result[\"pois\"]))):\n",
    "            name = result[\"pois\"][i][\"name\"]\n",
    "            address = result[\"pois\"][i][\"address\"]\n",
    "            distance = result[\"pois\"][i][\"distance\"]\n",
    "            ans += f\"{name}\\n{address}\\n距离：{distance}米\\n\\n\"\n",
    "    return ans\n",
    "\n",
    "function_calling_request = ModelRequestWithFunctionCalling()\n",
    "\n",
    "(\n",
    "    function_calling_request\n",
    "        .register_function(\n",
    "            name=\"get_location_coordinate\",\n",
    "            description=\"根据POI名称，获得POI的经纬度坐标\",\n",
    "            parameters={\n",
    "                \"type\": \"object\",\n",
    "                \"properties\": {\n",
    "                    \"location\": {\n",
    "                        \"type\": \"string\",\n",
    "                        \"description\": \"POI名称，必须是中文\",\n",
    "                    },\n",
    "                    \"city\": {\n",
    "                        \"type\": \"string\",\n",
    "                        \"description\": \"POI所在的城市名，必须是中文\",\n",
    "                    }\n",
    "                },\n",
    "                \"required\": [\"location\", \"city\"],\n",
    "            },\n",
    "            function=get_location_coordinate,\n",
    "        )\n",
    "        .register_function(\n",
    "            name=\"search_nearby_pois\",\n",
    "            description=\"搜索给定坐标附近的poi\",\n",
    "            parameters={\n",
    "                \"type\": \"object\",\n",
    "                \"properties\": {\n",
    "                    \"longitude\": {\n",
    "                        \"type\": \"string\",\n",
    "                        \"description\": \"中心点的经度\",\n",
    "                    },\n",
    "                    \"latitude\": {\n",
    "                        \"type\": \"string\",\n",
    "                        \"description\": \"中心点的纬度\",\n",
    "                    },\n",
    "                    \"keyword\": {\n",
    "                        \"type\": \"string\",\n",
    "                        \"description\": \"目标poi的关键字\",\n",
    "                    }\n",
    "                },\n",
    "                \"required\": [\"longitude\", \"latitude\", \"keyword\"],\n",
    "            },\n",
    "            function=search_nearby_pois,\n",
    "        )\n",
    ")\n",
    "result = function_calling_request.request(content=\"五道口附近的咖啡馆\")\n",
    "print(\"----------------------\\n\\n\", result)"
   ]
  },
  {
   "cell_type": "markdown",
   "metadata": {},
   "source": [
    "### 本地数据库查询"
   ]
  },
  {
   "cell_type": "markdown",
   "metadata": {},
   "source": [
    "#### 数据准备"
   ]
  },
  {
   "cell_type": "code",
   "execution_count": null,
   "metadata": {},
   "outputs": [],
   "source": [
    "import sqlite3\n",
    "\n",
    "database_schema_string = \"\"\"\n",
    "CREATE TABLE orders (\n",
    "    id INT PRIMARY KEY NOT NULL, -- 主键，不允许为空\n",
    "    customer_id INT NOT NULL, -- 客户ID，不允许为空\n",
    "    product_id STR NOT NULL, -- 产品ID，不允许为空\n",
    "    price DECIMAL(10,2) NOT NULL, -- 价格，不允许为空\n",
    "    status INT NOT NULL, -- 订单状态，整数类型，不允许为空。0代表待支付，1代表已支付，2代表已退款\n",
    "    create_time TIMESTAMP DEFAULT CURRENT_TIMESTAMP, -- 创建时间，默认为当前时间\n",
    "    pay_time TIMESTAMP -- 支付时间，可以为空\n",
    ");\n",
    "\"\"\"\n",
    "\n",
    "conn = sqlite3.connect(':memory:')\n",
    "cursor = conn.cursor()\n",
    "\n",
    "cursor.execute(database_schema_string)\n",
    "\n",
    "mock_data = [\n",
    "    (1, 1001, 'TSHIRT_1', 50.00, 0, '2023-09-12 10:00:00', None),\n",
    "    (2, 1001, 'TSHIRT_2', 75.50, 1, '2023-09-16 11:00:00', '2023-08-16 12:00:00'),\n",
    "    (3, 1002, 'SHOES_X2', 25.25, 2, '2023-10-17 12:30:00', '2023-08-17 13:00:00'),\n",
    "    (4, 1003, 'SHOES_X2', 25.25, 1, '2023-10-17 12:30:00', '2023-08-17 13:00:00'),\n",
    "    (5, 1003, 'HAT_Z112', 60.75, 1, '2023-10-20 14:00:00', '2023-08-20 15:00:00'),\n",
    "    (6, 1002, 'WATCH_X001', 90.00, 0, '2023-10-28 16:00:00', None)\n",
    "]\n",
    "\n",
    "for record in mock_data:\n",
    "    cursor.execute('''\n",
    "    INSERT INTO orders (id, customer_id, product_id, price, status, create_time, pay_time)\n",
    "    VALUES (?, ?, ?, ?, ?, ?, ?)\n",
    "    ''', record)\n",
    "\n",
    "conn.commit()\n",
    "\n",
    "def query_db(query):\n",
    "    cursor.execute(query)\n",
    "    return cursor.fetchall()"
   ]
  },
  {
   "cell_type": "markdown",
   "metadata": {},
   "source": [
    "#### 调用执行"
   ]
  },
  {
   "cell_type": "code",
   "execution_count": null,
   "metadata": {},
   "outputs": [],
   "source": [
    "function_calling_request = ModelRequestWithFunctionCalling()\n",
    "\n",
    "(\n",
    "    function_calling_request\n",
    "        .register_function(\n",
    "            name=\"query_db\",\n",
    "            description=\"使用此函数查询业务数据库获取结果，输出的SQL需要能够在Python的sqlite3中执行\",\n",
    "            parameters={\n",
    "                \"type\": \"object\",\n",
    "                \"properties\": {\n",
    "                    \"query\": {\n",
    "                        \"type\": \"string\",\n",
    "                        \"description\": f\"\"\"\n",
    "                        SQL query extracting info to answer the user's question.\n",
    "                        The query should be returned in plain text, not in JSON.\n",
    "                        The query should only contain grammars supported by SQLite.\n",
    "                        \"\"\",\n",
    "                    }\n",
    "                },\n",
    "                \"required\": [\"query\"],\n",
    "            },\n",
    "            function=query_db,\n",
    "        )\n",
    ")\n",
    "\n",
    "question = \"2023年10月总共成交了几笔订单？\"\n",
    "\n",
    "result = function_calling_request.request(\n",
    "    content=f\"\"\"\n",
    "    问题：{ question },\n",
    "    数据库元数据信息：{ database_schema_string },\n",
    "\"\"\"\n",
    ")"
   ]
  },
  {
   "cell_type": "markdown",
   "metadata": {},
   "source": [
    "### 跨模型协作"
   ]
  },
  {
   "cell_type": "markdown",
   "metadata": {},
   "source": [
    "#### 利用文心4.0以上模型作为搜索工具"
   ]
  },
  {
   "cell_type": "markdown",
   "metadata": {},
   "source": [
    "##### 安装文心调用SDK"
   ]
  },
  {
   "cell_type": "code",
   "execution_count": null,
   "metadata": {},
   "outputs": [],
   "source": [
    "%pip install erniebot"
   ]
  },
  {
   "cell_type": "markdown",
   "metadata": {},
   "source": [
    "##### 测试"
   ]
  },
  {
   "cell_type": "code",
   "execution_count": null,
   "metadata": {},
   "outputs": [],
   "source": [
    "import os\n",
    "import erniebot\n",
    "\n",
    "erniebot.api_type = \"aistudio\"\n",
    "erniebot.access_token = os.environ.get(\"AISTUDIO_ACCESS_TOKEN\")\n",
    "# 访问aistudio.baidu.com注册账号，可获得自己的access_token\n",
    "\n",
    "response = erniebot.ChatCompletion.create(\n",
    "    model=\"ernie-4.0-turbo-8k\",\n",
    "    messages=[{\n",
    "        \"role\": \"user\",\n",
    "        \"content\": \"最近英伟达GTC大会发布了哪些新闻？\"\n",
    "    }])\n",
    "\n",
    "print(response.get_result())"
   ]
  },
  {
   "cell_type": "markdown",
   "metadata": {},
   "source": [
    "##### 封装工具"
   ]
  },
  {
   "cell_type": "code",
   "execution_count": null,
   "metadata": {},
   "outputs": [],
   "source": [
    "import erniebot\n",
    "\n",
    "erniebot.api_type = \"aistudio\"\n",
    "erniebot.access_token = os.environ.get(\"AISTUDIO_ACCESS_TOKEN\")\n",
    "\n",
    "def nl_search(question:str):\n",
    "    prompt = f\"\"\"\n",
    "基于联网搜索结果回答此问题：{ question }\n",
    "其他输出要求：答案中的关键信息必须标注精确到内容页面的来源链接\n",
    "你的回答：\n",
    "\"\"\"\n",
    "    response = erniebot.ChatCompletion.create(\n",
    "    model=\"ernie-4.0\",\n",
    "    messages=[{\n",
    "        \"role\": \"user\",\n",
    "        \"content\": prompt,\n",
    "    }])\n",
    "    return response.get_result()"
   ]
  },
  {
   "cell_type": "markdown",
   "metadata": {},
   "source": [
    "##### 调用执行"
   ]
  },
  {
   "cell_type": "code",
   "execution_count": null,
   "metadata": {},
   "outputs": [],
   "source": [
    "function_calling_request = ModelRequestWithFunctionCalling()\n",
    "\n",
    "(\n",
    "    function_calling_request\n",
    "        .register_function(\n",
    "            name=\"nl_search\",\n",
    "            description=\"使用此工具，可以用自然语言输入，获得基于网络搜索的事实性结果总结\",\n",
    "            parameters={\n",
    "                \"type\": \"object\",\n",
    "                \"properties\": {\n",
    "                    \"question\": {\n",
    "                        \"type\": \"string\",\n",
    "                        \"description\": \"使用自然语言总结用户关注的关键问题\",\n",
    "                    }\n",
    "                },\n",
    "                \"required\": [\"question\"],\n",
    "            },\n",
    "            function=nl_search,\n",
    "        )\n",
    ")\n",
    "\n",
    "question = \"今年英伟达GTC大会主要讲了哪些关键信息？\"\n",
    "\n",
    "result = function_calling_request.request(\n",
    "    content=question,\n",
    ")\n",
    "print(result)"
   ]
  },
  {
   "cell_type": "markdown",
   "metadata": {},
   "source": [
    "## Function Calling在大模型应用场景中带来的“质变”\n",
    "\n",
    "- 知识层面：从模型自身知识（来源于训练语料）扩展到真实世界知识\n",
    "- 行为层面：从“思考模拟器”、“问题应答”扩展到“理解问题-选择行动-发起请求-理解结果-给出回应”\n",
    "- 架构层面：让模型不再是一个孤立模块，而是可以融入现有信息系统之中\n",
    "\n",
    "给软件开发思想带来的冲击：\n",
    "\n",
    "- 不是基于“规则”而是基于“世界理解”的调用\n",
    "- 接纳没有明确的处理过程带来的输出不确定性（如数据查询）\n",
    "- 不走极端：“全盘拒绝”和“全盘接受”都不可取"
   ]
  }
 ],
 "metadata": {
  "kernelspec": {
   "display_name": "3.9",
   "language": "python",
   "name": "python3"
  },
  "language_info": {
   "codemirror_mode": {
    "name": "ipython",
    "version": 3
   },
   "file_extension": ".py",
   "mimetype": "text/x-python",
   "name": "python",
   "nbconvert_exporter": "python",
   "pygments_lexer": "ipython3",
   "version": "3.9.20"
  }
 },
 "nbformat": 4,
 "nbformat_minor": 2
}
