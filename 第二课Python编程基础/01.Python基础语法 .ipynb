{
 "cells": [
  {
   "cell_type": "markdown",
   "metadata": {},
   "source": [
    "# 01.Python 基础语法"
   ]
  },
  {
   "cell_type": "markdown",
   "metadata": {},
   "source": [
    "## 2.1 变量与数据类型"
   ]
  },
  {
   "cell_type": "markdown",
   "metadata": {},
   "source": [
    "### 2.1.1 变量的定义与命名规则"
   ]
  },
  {
   "cell_type": "code",
   "execution_count": null,
   "metadata": {},
   "outputs": [],
   "source": [
    "# 变量定义\n",
    "name = \"Alice\"\n",
    "age = 25\n",
    "height = 1.68\n",
    "is_student = True\n",
    "\n",
    "# 打印变量值\n",
    "print(name)\n",
    "print(age)\n",
    "print(height)\n",
    "print(is_student)\n",
    "\n",
    "name = \"张三\"\n",
    "print(name)\n",
    "\n",
    "# 变量命名规则\n",
    "# 1. 变量名只能包含字母、数字和下划线\n",
    "# 2. 变量名不能以数字开头\n",
    "# 3. 变量名不能是 Python 关键字\n",
    "# 4. 变量名应具有描述性"
   ]
  },
  {
   "cell_type": "markdown",
   "metadata": {},
   "source": [
    "### 2.1.2 数据类型"
   ]
  },
  {
   "cell_type": "code",
   "execution_count": null,
   "metadata": {},
   "outputs": [],
   "source": [
    "# 数字类型\n",
    "num1 = 10  # 整数 (int)\n",
    "num2 = 3.14  # 浮点数 (float)\n",
    "\n",
    "# 字符串类型\n",
    "name = \"Alice\"  # 字符串 (str)\n",
    "message = 'Hello, world!'\n",
    "\n",
    "# 布尔类型\n",
    "is_student = True  # 布尔值 (bool)\n",
    "is_working = False\n",
    "\n",
    "# 使用 type() 函数查看数据类型\n",
    "print(type(num1))\n",
    "print(type(num2))\n",
    "print(type(name))\n",
    "print(type(is_student))"
   ]
  },
  {
   "cell_type": "markdown",
   "metadata": {},
   "source": [
    "### 2.1.3 类型转换"
   ]
  },
  {
   "cell_type": "code",
   "execution_count": null,
   "metadata": {},
   "outputs": [],
   "source": [
    "# 将字符串转换为整数\n",
    "num_str = \"123\"\n",
    "num_int = int(num_str)\n",
    "print(num_int)\n",
    "\n",
    "# 将整数转换为字符串\n",
    "num_int = 456\n",
    "num_str = str(num_int)\n",
    "print(num_str)\n",
    "\n",
    "# 将浮点数转换为整数 (会丢失小数部分)\n",
    "num_float = 3.14\n",
    "num_int = int(num_float)\n",
    "print(num_int)"
   ]
  },
  {
   "cell_type": "markdown",
   "metadata": {},
   "source": [
    "## 2.2 运算符与表达式"
   ]
  },
  {
   "cell_type": "markdown",
   "metadata": {},
   "source": [
    "### 2.2.1 算术运算符"
   ]
  },
  {
   "cell_type": "code",
   "execution_count": null,
   "metadata": {},
   "outputs": [],
   "source": [
    "# 加法\n",
    "result = 10 + 5\n",
    "print(result)\n",
    "\n",
    "# 减法\n",
    "result = 10 - 5\n",
    "print(result)\n",
    "\n",
    "# 乘法\n",
    "result = 10 * 5\n",
    "print(result)\n",
    "\n",
    "# 除法\n",
    "result = 10 / 5\n",
    "print(result)\n",
    "\n",
    "# 取整除\n",
    "result = 10 // 3\n",
    "print(result)\n",
    "\n",
    "# 取余\n",
    "result = 10 % 3\n",
    "print(result)\n",
    "\n",
    "# 幂运算\n",
    "result = 2 ** 3\n",
    "print(result)"
   ]
  },
  {
   "cell_type": "markdown",
   "metadata": {},
   "source": [
    "### 2.2.2 比较运算符"
   ]
  },
  {
   "cell_type": "code",
   "execution_count": null,
   "metadata": {},
   "outputs": [],
   "source": [
    "# 等于\n",
    "result = 10 == 5\n",
    "print(result)\n",
    "\n",
    "# 不等于\n",
    "result = 10 != 5\n",
    "print(result)\n",
    "\n",
    "# 大于\n",
    "result = 10 > 5\n",
    "print(result)\n",
    "\n",
    "# 小于\n",
    "result = 10 < 5\n",
    "print(result)\n",
    "\n",
    "# 大于等于\n",
    "result = 10 >= 5\n",
    "print(result)\n",
    "\n",
    "# 小于等于\n",
    "result = 10 <= 5\n",
    "print(result)"
   ]
  },
  {
   "cell_type": "markdown",
   "metadata": {},
   "source": [
    "### 2.2.3 逻辑运算符"
   ]
  },
  {
   "cell_type": "code",
   "execution_count": null,
   "metadata": {},
   "outputs": [],
   "source": [
    "# 与运算\n",
    "result = (10 > 5) and (5 < 3)\n",
    "print(result)\n",
    "\n",
    "# 或运算\n",
    "result = (10 > 5) or (5 < 3)\n",
    "print(result)\n",
    "\n",
    "# 非运算\n",
    "result = not (10 > 5)\n",
    "result = not(2>3)\n",
    "print(result)"
   ]
  },
  {
   "cell_type": "markdown",
   "metadata": {},
   "source": [
    "### 2.2.4 赋值运算符"
   ]
  },
  {
   "cell_type": "code",
   "execution_count": null,
   "metadata": {},
   "outputs": [],
   "source": [
    "# 简单赋值\n",
    "x = 10\n",
    "print(x)\n",
    "\n",
    "# 加法赋值\n",
    "x += 5  # 等价于 x = x + 5\n",
    "print(x)\n",
    "\n",
    "# 减法赋值\n",
    "x -= 3  # 等价于 x = x - 3\n",
    "print(x)\n",
    "\n",
    "# 乘法赋值\n",
    "x *= 2  # 等价于 x = x * 2\n",
    "print(x)\n",
    "\n",
    "# 除法赋值\n",
    "x /= 4  # 等价于 x = x / 4\n",
    "print(x)"
   ]
  },
  {
   "cell_type": "markdown",
   "metadata": {},
   "source": [
    "### 2.2.5 运算符优先级"
   ]
  },
  {
   "cell_type": "code",
   "execution_count": null,
   "metadata": {},
   "outputs": [],
   "source": [
    "# ** 指数运算\n",
    "# 运算符优先级示例\n",
    "result = 10 + 5 * 2 ** 3\n",
    "print(result)\n",
    "\n",
    "# 使用括号改变运算顺序\n",
    "result = (10 + 5) * 2 ** 3\n",
    "print(result)"
   ]
  },
  {
   "cell_type": "markdown",
   "metadata": {},
   "source": [
    "## 2.3 输入与输出"
   ]
  },
  {
   "cell_type": "markdown",
   "metadata": {},
   "source": [
    "### 2.3.1 input() 函数"
   ]
  },
  {
   "cell_type": "code",
   "execution_count": null,
   "metadata": {},
   "outputs": [],
   "source": [
    "# 获取用户输入\n",
    "name = input(\"请输入你的名字：\")\n",
    "print(\"你好，\" + name + \"！\")"
   ]
  },
  {
   "cell_type": "markdown",
   "metadata": {},
   "source": [
    "### 2.3.2 print() 函数"
   ]
  },
  {
   "cell_type": "code",
   "execution_count": 1,
   "metadata": {},
   "outputs": [
    {
     "name": "stdout",
     "output_type": "stream",
     "text": [
      "Hello, world!\n",
      "姓名： Alice\n",
      "年龄： 25\n",
      "姓名：Alice，年龄：25\n"
     ]
    }
   ],
   "source": [
    "# 打印字符串\n",
    "print(\"Hello, world!\")\n",
    "\n",
    "# 打印变量值\n",
    "name = \"Alice\"\n",
    "age = 25\n",
    "print(\"姓名：\", name)\n",
    "print(\"年龄：\", age)\n",
    "\n",
    "# 格式化输出\n",
    "print(f\"姓名：{name}，年龄：{age}\")"
   ]
  }
 ],
 "metadata": {
  "kernelspec": {
   "display_name": "Python 3",
   "language": "python",
   "name": "python3"
  },
  "language_info": {
   "codemirror_mode": {
    "name": "ipython",
    "version": 3
   },
   "file_extension": ".py",
   "mimetype": "text/x-python",
   "name": "python",
   "nbconvert_exporter": "python",
   "pygments_lexer": "ipython3",
   "version": "3.11.4"
  }
 },
 "nbformat": 4,
 "nbformat_minor": 4
}
