{
 "cells": [
  {
   "cell_type": "markdown",
   "id": "429c09e8",
   "metadata": {},
   "source": [
    "# GPU与CPU：计算硬件与大模型训练\n",
    "\n",
    "## 💡 这节课会带给你\n",
    "\n",
    "1.计算机硬件基础\n",
    "  - 什么是CPU？\n",
    "  - 什么是GPU？\n",
    "  - GPU vs CPU 类型解析\n",
    "\n",
    "2. 我们为什么要使用GPU？\n",
    "  - CUDA®：通用并行计算平台和程序模型\n",
    "  - A Scalable Programming Model\n",
    "    \n",
    "3. GPU在大模型训练中的应用\n",
    "  - 张量的介绍\n",
    "  - 查看设备GPU信息\n",
    "  - 让张量在GPU与CPU之间移动\n",
    "  - Python中使用GPU加速模型\n",
    "  - 创建支持多个GPU数据并行的模型\n",
    "\n",
    "4. PyTorch项目GPU加速实例\n",
    " \n",
    "5. CPU在大模型训练中的应用\n",
    " \n",
    "6. GPU硬件选择策略\n",
    "\n",
    "开始上课！\n"
   ]
  },
  {
   "cell_type": "markdown",
   "id": "3d74abc3",
   "metadata": {},
   "source": [
    "# 一、计算硬件基础"
   ]
  },
  {
   "cell_type": "markdown",
   "id": "1b120140",
   "metadata": {},
   "source": [
    "## 1. 什么是 CPU？"
   ]
  },
  {
   "cell_type": "markdown",
   "id": "4294c38c",
   "metadata": {},
   "source": [
    "\n",
    "CPU（中央处理器）是计算机系统中最核心的组件之一，负责执行几乎所有程序运行所需的指令。作为一种通用处理器，旨在处理各种不同类型的任务，从操作系统的运行，到应用程序的执行，再到复杂的计算、文档编辑、播放电影和音乐、网页浏览等。\r\n",
    "\r\n",
    "\r\n",
    "\r\n",
    "现代 CPU 通常拥有多个处理核心，每个核心都可以独立处理指令，从而提高多任务处理的能力。这种多核设计使得 CPU 可以在一定程度上同时处理多个任务，虽然每个任务的执行仍然是顺序完成的。\r\n",
    "\r\n",
    "\r\n",
    "\r\n",
    "需要注意的是，CPU 的处理方式以“顺序处理”为主。也就是说，CPU 会逐步、一条接一条地执行指令，这与并行处理不同。虽然多核技术和超线程技术可以在一定程度上缓解这种顺序处理的局限，但它并不是为大规模并行计算设计的。相比于能够一次处理大量数据的图形处理器（GPU），CPU 更适合处理复杂且需要精确计算的任务。\r\n",
    "\r\n",
    "\r\n",
    "\r\n",
    "在 CPU 架构中，有几个关键的标准组件，它们共同协作，确保中央处理器能够高效完成各种计算任务。这些组件包括内核、缓存、内存管理单元（MMU）以及 CPU 时钟和控制单元等。计算机系统中最核心的组件之一，负责执行几乎所有程序运行所需的指令。作为一种通用处理器，旨在处理各种不同类型的任务，从操作系统的运行，到应用程序的执行，再到复杂的计算、文档编辑、播放电影和音乐、网页浏览等。\r\n",
    "\r\n",
    "\r\n",
    "现代 CPU 通常拥有多个处理核心，每个核心都可以独立处理指令，从而提高多任务处理的能力。这种多核设计使得 CPU 可以在一定程度上同时处理多个任务，虽然每个任务的执行仍然是顺序完成的。\r\n",
    "\r\n",
    "\r\n",
    "需要注意的是，CPU 的处理方式以“顺序处理”为主。也就是说，CPU 会逐步、一条接一条地执行指令，这与并行处理不同。虽然多核技术和超线程技术可以在一定程度上缓解这种顺序处理的局限，但它并不是为大规模并行计算设计的。相比于能够一次处理大量数据的图形处理器（GPU），CPU 更适合处理复杂且需要精确计算的任务。\r\n",
    "\r\n",
    "\r\n",
    "在 CPU 架构中，有几个关键的标准组件，它们共同协作，确保中央处理器能够高效完成各种计算任务。这些组件包括内核、缓存、内存管理单元（MMU）以及 CPU 时钟和控制单元等。"
   ]
  },
  {
   "cell_type": "markdown",
   "id": "5478c65f",
   "metadata": {},
   "source": [
    "![CPU架构图](1.jpeg)e\r\n",
    "\r\n"
   ]
  },
  {
   "cell_type": "markdown",
   "id": "2a45d99a",
   "metadata": {},
   "source": [
    "所有这些组件共同协作，创建了一个能够高效执行多任务并行的处理环境。当 CPU 时钟驱动核心活动时，多个核心之间以极高的速度切换任务，从而使得 CPU 能够在数百个不同的任务之间每秒进行快速切换。例如，CPU可 以在后台处理文件操作的同时，运行应用程序、管理网络连接，并保持桌面显示的流畅运行。\r\n",
    "\n",
    "\n",
    "  总的来说，CPU（中央处理器）是整个计算机系统的核心，协调和管理所有计算任务。从数据输入到最终的输出，每一个步骤都依赖于 CPU 的指令处理和计算能力。无论是打开应用程序、运行复杂的模拟、编译软件，还是处理图形、视频和音频，CPU 都是确保系统能够高效运行的关键角色。"
   ]
  },
  {
   "cell_type": "markdown",
   "id": "bc050838",
   "metadata": {},
   "source": [
    "##  2. 什么是 GPU ？"
   ]
  },
  {
   "cell_type": "markdown",
   "id": "a6f29a64",
   "metadata": {},
   "source": [
    "   GPU全称是Graphics Processing Unit，图形处理单元。它的功能最初与名字一致，是专门用于绘制图像和处理图元数据的特定芯片，后来渐渐加入了其它很多功能。\r\n",
    "    \n",
    "  GPU 的架构设计非常独特，由成百上千个小型处理单元组成，每个处理单元能够独立并行执行指令。这种高度并行的处理能力使 GPU 能够同时处理海量数据，这也是其与多核 CPU 的相似之处。CPU 虽然也有多核设计，但每个核心的任务通常是串行执行的。而 GPU 的每个小型处理单元（通常称为“流处理器”或“CUDA 核心”）则可以相互并行执行不同的指令集，使得 GPU 能够在短时间内处理大量计算任务。"
   ]
  },
  {
   "cell_type": "markdown",
   "id": "67758b04",
   "metadata": {},
   "source": [
    "![GPU架构图](gpu.jpeg)"
   ]
  },
  {
   "cell_type": "markdown",
   "id": "6c435e53-01c7-4689-8409-629b83f7220d",
   "metadata": {},
   "source": [
    "![GPU架构图](2.jpeg)"
   ]
  },
  {
   "cell_type": "markdown",
   "id": "84009e19",
   "metadata": {},
   "source": [
    "在图形渲染领域，GPU 的并行计算能力展现得尤为明显。渲染一个复杂的 3D 场景需要进行大量的数学计算，这些计算通常涉及到诸如光线追踪、阴影处理、纹理贴图和颜色渲染等高复杂度的操作。每个屏幕上显示的画面都由数百甚至数千个几何多边形组成，而每个多边形都有其独立的颜色、光照反射、运动轨迹等物理特性。所有这些计算都需要在极短的时间内完成，尤其是在图形密集型应用（如视频游戏、3D动画制作等）中，每秒钟画面的刷新和渲染速度要求非常高。\r\n",
    "\r\n",
    "CPU（中央处理器）虽然在逻辑处理和一般计算任务上表现出色，但它并非为这种海量并行处理设计的。图形渲染的复杂性超出了 CPU 的处理能力，因为它必须在极短的时间内完成大量涉及数学、几何和光线计算的操作。为了保证游戏、影视特效、虚拟现实等应用能够流畅运行，GPU 通过其强大的并行计算架构接管了这些复杂的任务。务。"
   ]
  },
  {
   "cell_type": "markdown",
   "id": "c1b9d609",
   "metadata": {},
   "source": [
    "## 3. GPU vs CPU 类型解析"
   ]
  },
  {
   "cell_type": "markdown",
   "id": "ed5f4e07",
   "metadata": {},
   "source": [
    "###  CPU 类型"
   ]
  },
  {
   "cell_type": "markdown",
   "id": "5d213f2c",
   "metadata": {},
   "source": [
    "CPU（中央处理器） 是计算机的“大脑”，负责执行各种指令。目前市场上主要有以下几种类型的 CPU，具体可参考：\r\n",
    "- **英特尔酷睿（Intel Core）处理器**： 作为 PC 市场的老牌霸主，英特尔酷睿系列处理器以其出色的性能和广泛的兼容性而闻名。无论是办公、娱乐还是专业创作，酷睿处理器都能胜任。\r\n",
    "\r\n",
    "- **AMD Ryzen 处理器**： AMD 的 Ryzen 系列处理器凭借出色的性价比和多核性能，近年来迅速崛起。在游戏、内容创作等领域，Ryzen 处理器与酷睿处理器不相上下，甚至在某些方面表现更佳。\r\n",
    "\r\n",
    "- **ARM 处理器**： ARM 处理器以低功耗、高性能的特点而著称，广泛应用于智能手机、平板电脑、物联网设备等移动设备中。ARM 架构的能效比使其成为移动设备的首选。\r\n",
    "\r\n",
    "此外，值得一提的是 APU（加速处理单元）。APU 将 CPU 和 GPU 集成到一个芯片上，可以提供更平衡的性能，特别适合对图形性能要求不高但又需要一定计算能力的设备。力的设备。r 核心能够高效处理矩阵运算，加速神经网络的训练和推理。"
   ]
  },
  {
   "cell_type": "markdown",
   "id": "230d2019",
   "metadata": {},
   "source": [
    "###  GPU 类型"
   ]
  },
  {
   "cell_type": "markdown",
   "id": "c5ff0a66",
   "metadata": {},
   "source": [
    " GPU（图形处理单元） 是专门设计用于处理图形和图像的硬件，在游戏、视频编辑、3D 建模、科学计算等领域发挥着越来越重要的作用。目前市场上主要有以下几种类型的 GPU，具体可参考：\r\n",
    "\r\n",
    "  -  **NVIDIA GeForce Cards**： NVIDIA 的 GeForce 系列显卡以其强大的游戏性能和丰富的驱动支持而深受游戏玩家喜爱。在高端游戏市场，GeForce 显卡一直处于领先地位。其采用 CUDA 核心，支持实时光线追踪、DLSS 等先进技术，为玩家带来逼真的视觉体验。\r\n",
    "\r\n",
    "  -  **AMD Radeon Cards**： AMD 的 Radeo n显卡在游戏性能和专业图形应用方面表现出色，同时价格相对亲民。Radeon 显卡在专业领域也有一定的市场份额。其采用 RDNA 架构，在游戏和内容创作方面具有竞争力。\r\n",
    "\r\n",
    "   -  **集成 GPU**： 集成 GPU 通常内置于 CPU 中，体积小、功耗低，适合笔记本电脑、平板电脑等移动设备。虽然性能不及独立显卡，但对于日常办公、上网等任务已经足够。\r\n",
    "\r\n",
    "   -  **人工智能专用 GPU**： 随着人工智能技术的快速发展，专门针对 AI 计算任务设计的 GPU 应运而生。例如，NVIDIA 的 Tesla 系列和 AMD 的 Radeon Instinct 系列 GPU 在深度学习、机器学习等领域具有强大的加速能力。这些 GPU 拥有大量的 CUDA 核心或计算单元，以及高带宽的内存，能够高效处理大规模并行计算任务。\r\n",
    "\r\n",
    " 此外，GPU 的分类还可以从架构上进行划分，具体：\r\n",
    "\r\n",
    "   -  **流处理器架构**： NVIDIA 的 CUDA 架构和 AMD 的 RDNA 架构都是典型的流处理器架构。流处理器是 GPU 的基本计算单元，它们并行处理大量的线程。\r\n",
    "\r\n",
    "   -  **Tensor 核心架构**： 专为深度学习设计的 Tensor 核心能够高效处理矩阵运算，加速神经网络的训练和推理。"
   ]
  },
  {
   "cell_type": "markdown",
   "id": "73a34373-4744-432f-bbfd-3c8cc7e052b8",
   "metadata": {},
   "source": [
    "**CPU和GPU详细对比**"
   ]
  },
  {
   "cell_type": "markdown",
   "id": "bf0bb83d",
   "metadata": {},
   "source": [
    "![CPU-GPU](cpu-gpu-no.jpeg)\n"
   ]
  },
  {
   "cell_type": "markdown",
   "id": "2d4f4e3b-20f0-4e2c-abc2-36fb499024a2",
   "metadata": {},
   "source": [
    "# 二、 我们为什么要使用GPU？"
   ]
  },
  {
   "cell_type": "markdown",
   "id": "5a1c69ee-f542-4f50-b1f9-8c1678eb22ef",
   "metadata": {},
   "source": [
    "GPU（Graphics Processing Unit）在相同的价格和功率范围内，比CPU提供更高的指令吞吐量和内存带宽。许多应用程序利用这些更高的能力，使得自己在 GPU 上比在 CPU 上运行得更快 (参见GPU应用程序) 。其他计算设备，如FPGA，也非常节能，但提供的编程灵活性要比GPU少得多。\n",
    "\n",
    "GPU和CPU之间的主要区别在于设计思想的不同。CPU的设计初衷是为了实现在执行一系列操作时达到尽可能高的性能，其中每个操作称之为一个thread，同时可能只能实现其中数十个线程的并行化，GPU的设计初衷是为了实现在在并行执行数千个线程时达到尽可能高的性能（通过分摊较慢的单线程程序以实现更高的吞吐量）。\n",
    "\n",
    "为了能够实现更高强度的并行计算，GPU将更多的晶体管用于数据计算而不是数据缓存或控制流。 下图显示了 CPU 与 GPU 的芯片资源分布示例。\n",
    "\n"
   ]
  },
  {
   "cell_type": "markdown",
   "id": "ec987e2e-31b2-46fe-a211-3c34c2b14abd",
   "metadata": {},
   "source": [
    "![gpu](gpu-devotes-more-transistors-to-data-processing.png)"
   ]
  },
  {
   "cell_type": "markdown",
   "id": "cb68ecef-2e71-4533-a788-05d400426b0a",
   "metadata": {},
   "source": [
    "一般来说，应用程序有并行和串行部分，所以系统可以利用GPU和CPU的混搭来获得更高的整体性能。对于并行度高的程序也可以利用GPU的大规模并行特性来实现比CPU更高的性能。"
   ]
  },
  {
   "cell_type": "markdown",
   "id": "02cdb2ba-8562-4eea-91d3-6aedef1a9600",
   "metadata": {},
   "source": [
    "## CUDA®：通用并行计算平台和程序模型"
   ]
  },
  {
   "cell_type": "markdown",
   "id": "a6d5872c-4a0c-466f-90a4-06f57dcc8c6c",
   "metadata": {},
   "source": [
    "2006 年 11 月，NVIDIA® 推出了 CUDA®，这是一种通用并行计算平台和程序模型，它利用 NVIDIA GPU 中的并行计算引擎以比 CPU 更有效的方式解决许多复杂的计算问题。\n",
    "\n",
    "CUDA的软件环境允许开发者使用C++等高级编程语言开发程序。 如下图所示，支持其他语言、应用程序编程接口或基于指令的方法，例如 FORTRAN、DirectCompute、OpenACC。"
   ]
  },
  {
   "cell_type": "markdown",
   "id": "b36cd742-7eec-46ce-8c2f-74bd254a69e3",
   "metadata": {},
   "source": [
    "![gpu](gpu-computing-applications.png)"
   ]
  },
  {
   "cell_type": "markdown",
   "id": "ba646f21-4fc1-4042-ac2d-13b9a72ccfa2",
   "metadata": {},
   "source": [
    "## A Scalable Programming Model"
   ]
  },
  {
   "cell_type": "markdown",
   "id": "b5d706f5-db2c-492a-91ed-08815ce64336",
   "metadata": {},
   "source": [
    "多核 CPU 和超多核 (manycore) GPU 的出现，意味着主流处理器进入并行时代。当下开发应用程序的挑战在于能够利用不断增加的处理器核数实现对于程序并行性透明地扩展，例如 3D 图像应用可以透明地拓展其并行性来适应内核数量不同的 GPUs 硬件。\n",
    "\n",
    "CUDA并行程序模型主要为克服这一挑战而设计，其对于程序员具有较小的学习难度，因为其使用了标准编程语言。\n",
    "\n",
    "其核心是三个关键抽象——线程组的层次结构、共享内存和屏障同步——它们只是作为最小的语言扩展集向程序员公开。\n",
    "\n",
    "这些抽象提供了细粒度的数据并行性和线程并行性，并将嵌套在粗粒度的数据并行和任务并行中。它们指导程序员将主问题拆解为可以线程块独立并行解决的粗粒度子问题，同时每个子问题可以被进一步细分为更小的组成部分，其可以被每个线程块中的线程通过并行合作的方式解决。\n",
    "\n",
    "这种拆解通过运行线程在解决子问题时使用合作机制，保留了语言的表达能力，同时也为系统提供了自动的可拓展性。实际上，每个线程块可以被异步或同步地调度给 GPU 上任意一个多处理器 (Multiprocessors)。故 CUDA 程序可以被执行在具有任意 kernel 数据的 GPU 中，如下图所示，同时在运行时阶段，系统只需要给出物理多处理器地个数。\n",
    "\n",
    "这种可扩展的程序模型允许 GPU 架构通过简单地扩展多处理器和内存分区的数量来跨越广泛的市场范围：高性能发烧友 GeForce GPU ，专业的 Quadro 和 Tesla 计算产品"
   ]
  },
  {
   "cell_type": "markdown",
   "id": "4bc8e70c-7d43-4508-989a-329f142d7950",
   "metadata": {},
   "source": [
    "![](automatic-scalability.png)"
   ]
  },
  {
   "cell_type": "markdown",
   "id": "01fd19d4",
   "metadata": {},
   "source": [
    "# 三、GPU在大模型训练中的应用"
   ]
  },
  {
   "cell_type": "markdown",
   "id": "a9e03242",
   "metadata": {},
   "source": [
    "**Pytorch使用GPU训练模型加速**\n",
    "\n",
    "\n",
    "深度学习 神经网络 训练经常很耗时，耗时主要来自两个部分，数据准备和自参数迭代。\r\n",
    "\n",
    "当数据准备是主要耗时原因时，采用多进程准备数据。当迭代过程是训练耗时主力时，采用GPU加速。"
   ]
  },
  {
   "cell_type": "markdown",
   "id": "6aebbddd-18e9-42f4-a48f-f7fc0944ca88",
   "metadata": {},
   "source": [
    "**安装Pytorch** \n",
    "\n",
    "安装参考： [https://pytorch.org/get-started/locally](https://pytorch.org/get-started/locally/)\n",
    "\n",
    "\n",
    "\n",
    "```pip3 install torch torchvision torchaudio --index-url https://download.pytorch.org/whl/cu118```"
   ]
  },
  {
   "cell_type": "markdown",
   "id": "bc6577cc-4468-42d3-8ccf-5f6dbf08fa69",
   "metadata": {},
   "source": [
    "**查看cuda的版本**"
   ]
  },
  {
   "cell_type": "markdown",
   "id": "1b46c466-a8fc-4325-b8a9-7d340b6103e9",
   "metadata": {},
   "source": [
    "\n",
    "![](cuda-version.png)"
   ]
  },
  {
   "cell_type": "markdown",
   "id": "abcc8a7c-a668-447c-8063-5a2bce0e9c1a",
   "metadata": {},
   "source": [
    "\n",
    "### 1. 张量的介绍\n",
    "\n",
    "几何代数中定义的张量是基于向量和矩阵的推广，比如我们可以将标量视为零阶张量，矢量可以视为一阶张量，矩阵就是二阶张量。\n",
    "\n",
    "| 张量维度 | 代表含义 |\n",
    "| --- | --- |\n",
    "| 0维张量 | 代表的是标量（数字） |\n",
    "| 1维张量 | 代表的是向量 |\n",
    "| 2维张量 | 代表的是矩阵 |\n",
    "| 3维张量 | 时间序列数据 股价 文本数据 单张彩色图片(RGB) |\n",
    "\n",
    "张量是现代机器学习的基础。它的核心是一个数据容器，多数情况下，它包含数字，有时候它也包含字符串，但这种情况比较少。因此可以把它想象成一个数字的水桶。\n",
    "\n",
    "这里有一些存储在各种类型张量的公用数据集类型：\n",
    "- **3维 = 时间序列**\n",
    "- **4维 = 图像**\n",
    "- **5维 = 视频**\n",
    "\n",
    "例子：\n",
    "\n",
    "一个图像可以用三个字段表示：\n",
    "\n",
    "```\n",
    "(width, height, channel) = 3D\n",
    "```\n",
    "在机器学习工作中，我们经常要处理不止一张图片或一篇文档——我们要处理一个集合：\n",
    "\n",
    "```\n",
    "(batch_size, width, height, channel) = 4D\n",
    "```\n",
    "在PyTorch中，torch.Tensor 是存储和变换数据的主要工具。如果你之前用过NumPy，你会发现 Tensor 和NumPy的多维数组非常类似。然而，Tensor 提供GPU计算和自动求梯度等更多功能，这些使 Tensor 这一数据类型更加适合深度学习。\n",
    "\n"
   ]
  },
  {
   "cell_type": "markdown",
   "id": "2a25ea5a-ab1a-4ae8-95eb-7ed94663323f",
   "metadata": {},
   "source": [
    "**创建Tensor**"
   ]
  },
  {
   "cell_type": "code",
   "execution_count": 28,
   "id": "6d594ad1-9ba5-4631-b922-39b3e4b0a233",
   "metadata": {},
   "outputs": [
    {
     "name": "stdout",
     "output_type": "stream",
     "text": [
      "tensor([[0.6213, 0.4814, 0.9188],\n",
      "        [0.6716, 0.6718, 0.0079],\n",
      "        [0.9178, 0.0065, 0.9370],\n",
      "        [0.7742, 0.1519, 0.6123]])\n"
     ]
    }
   ],
   "source": [
    "import torch\n",
    "x = torch.rand(4, 3) \n",
    "print(x)"
   ]
  },
  {
   "cell_type": "markdown",
   "id": "49da9354-3104-432f-b7bc-789aefd0b302",
   "metadata": {},
   "source": [
    "**全0矩阵的构建**"
   ]
  },
  {
   "cell_type": "code",
   "execution_count": 30,
   "id": "fdafff55-bf2b-45fa-81ed-13fb9efb6036",
   "metadata": {},
   "outputs": [
    {
     "name": "stdout",
     "output_type": "stream",
     "text": [
      "tensor([[0, 0, 0],\n",
      "        [0, 0, 0],\n",
      "        [0, 0, 0],\n",
      "        [0, 0, 0]])\n"
     ]
    }
   ],
   "source": [
    "\n",
    "x = torch.zeros(4, 3, dtype=torch.long)\n",
    "print(x)\n"
   ]
  },
  {
   "cell_type": "markdown",
   "id": "cb3a39cc-2a5b-44bc-88a7-9626fa258581",
   "metadata": {},
   "source": [
    "**直接构建张量**"
   ]
  },
  {
   "cell_type": "code",
   "execution_count": 31,
   "id": "3f969dcf-341a-4acd-ae2a-1952bc59f176",
   "metadata": {},
   "outputs": [
    {
     "name": "stdout",
     "output_type": "stream",
     "text": [
      "tensor([5.5000, 3.0000])\n"
     ]
    }
   ],
   "source": [
    "x = torch.tensor([5.5, 3])\n",
    "print(x)"
   ]
  },
  {
   "cell_type": "markdown",
   "id": "f6ede087-b929-46f4-8d92-d59ad2e587bf",
   "metadata": {},
   "source": [
    "**基于已有Tensor创建**"
   ]
  },
  {
   "cell_type": "code",
   "execution_count": 32,
   "id": "305ab5e2-3a08-44a4-8a05-82e3c7d1a346",
   "metadata": {},
   "outputs": [
    {
     "name": "stdout",
     "output_type": "stream",
     "text": [
      "tensor([[1., 1., 1.],\n",
      "        [1., 1., 1.],\n",
      "        [1., 1., 1.],\n",
      "        [1., 1., 1.]], dtype=torch.float64)\n",
      "torch.Size([4, 3])\n"
     ]
    }
   ],
   "source": [
    "x = x.new_ones(4, 3, dtype=torch.double)\n",
    "print(x)\n",
    "x = torch.randn_like(x, dtype=torch.float)\n",
    "print(x.size())  # 输出维度信息"
   ]
  },
  {
   "cell_type": "markdown",
   "id": "9ce1557f-68a4-4e06-8ef1-60b9e59f701a",
   "metadata": {},
   "source": [
    "**常用Tensor构造方法**\n",
    "<table align=\"left\">\n",
    "<thead>\n",
    "<tr class=\"row-odd\"><th class=\"text-align:right head\"><p>函数</p></th>\n",
    "<th class=\"head\"><p>功能</p></th>\n",
    "</tr>\n",
    "</thead>\n",
    "<tbody>\n",
    "<tr class=\"row-even\"><td class=\"text-align:right\"><p>Tensor(sizes)</p></td>\n",
    "<td><p>基础构造函数</p></td>\n",
    "</tr>\n",
    "<tr class=\"row-odd\"><td class=\"text-align:right\"><p>tensor(data)</p></td>\n",
    "<td><p>类似于np.array</p></td>\n",
    "</tr>\n",
    "<tr class=\"row-even\"><td class=\"text-align:right\"><p>ones(sizes)</p></td>\n",
    "<td><p>全1</p></td>\n",
    "</tr>\n",
    "<tr class=\"row-odd\"><td class=\"text-align:right\"><p>zeros(sizes)</p></td>\n",
    "<td><p>全0</p></td>\n",
    "</tr>\n",
    "<tr class=\"row-even\"><td class=\"text-align:right\"><p>eye(sizes)</p></td>\n",
    "<td><p>对角为1，其余为0</p></td>\n",
    "</tr>\n",
    "<tr class=\"row-odd\"><td class=\"text-align:right\"><p>arange(s,e,step)</p></td>\n",
    "<td><p>从s到e，步长为step</p></td>\n",
    "</tr>\n",
    "<tr class=\"row-even\"><td class=\"text-align:right\"><p>linspace(s,e,steps)</p></td>\n",
    "<td><p>从s到e，均匀分成step份</p></td>\n",
    "</tr>\n",
    "<tr class=\"row-odd\"><td class=\"text-align:right\"><p>rand/randn(sizes)</p></td>\n",
    "<td><p>rand是[0,1)均匀分布；randn是服从N(0，1)的正态分布</p></td>\n",
    "</tr>\n",
    "<tr class=\"row-even\"><td class=\"text-align:right\"><p>normal(mean,std)</p></td>\n",
    "<td><p>正态分布(均值为mean，标准差是std)</p></td>\n",
    "</tr>\n",
    "<tr class=\"row-odd\"><td class=\"text-align:right\"><p>randperm(m)</p></td>\n",
    "<td><p>随机排列</p></td>\n",
    "</tr>\n",
    "</tbody>\n",
    "</table>"
   ]
  },
  {
   "cell_type": "markdown",
   "id": "bee60f1e-2f0f-4a76-af9f-c381d04306dd",
   "metadata": {},
   "source": [
    "**张量操作**"
   ]
  },
  {
   "cell_type": "markdown",
   "id": "af199f3a-7801-4cc2-b9c2-a33d7566f3b0",
   "metadata": {},
   "source": [
    "**1. 加法操作**"
   ]
  },
  {
   "cell_type": "code",
   "execution_count": 34,
   "id": "3cae6c62-4030-40f0-aa77-ab6c44a8866e",
   "metadata": {},
   "outputs": [
    {
     "name": "stdout",
     "output_type": "stream",
     "text": [
      "tensor([[ 0.9316,  1.0375,  0.3974],\n",
      "        [ 1.0110, -0.3923,  0.4983],\n",
      "        [ 0.2572,  0.8582,  1.3314],\n",
      "        [ 0.7917, -0.1218,  0.1454]])\n",
      "tensor([[ 0.9316,  1.0375,  0.3974],\n",
      "        [ 1.0110, -0.3923,  0.4983],\n",
      "        [ 0.2572,  0.8582,  1.3314],\n",
      "        [ 0.7917, -0.1218,  0.1454]])\n"
     ]
    },
    {
     "data": {
      "text/plain": [
       "tensor([[ 0.9316,  1.0375,  0.3974],\n",
       "        [ 1.0110, -0.3923,  0.4983],\n",
       "        [ 0.2572,  0.8582,  1.3314],\n",
       "        [ 0.7917, -0.1218,  0.1454]])"
      ]
     },
     "execution_count": 34,
     "metadata": {},
     "output_type": "execute_result"
    }
   ],
   "source": [
    "# 方式1\n",
    "y = torch.rand(4, 3) \n",
    "print(x + y)\n",
    "\n",
    "# 方式2\n",
    "print(torch.add(x, y))\n",
    "\n",
    "# 方式3 (in-place)\n",
    "y.add_(x)"
   ]
  },
  {
   "cell_type": "markdown",
   "id": "911621d9-d890-4ed0-a98a-524a1cd7dfe3",
   "metadata": {},
   "source": [
    "**2.索引操作**"
   ]
  },
  {
   "cell_type": "code",
   "execution_count": 35,
   "id": "69a7e7cd-089f-4274-91fc-f061cd585ae3",
   "metadata": {},
   "outputs": [
    {
     "name": "stdout",
     "output_type": "stream",
     "text": [
      "tensor([0.0904, 0.1365, 0.7342, 0.9331])\n",
      "tensor([1.8093, 1.0904, 1.6842])\n"
     ]
    }
   ],
   "source": [
    "x = torch.rand(4,3)\n",
    "# 取第二列\n",
    "print(x[:, 1]) \n",
    "\n",
    "# 共享内存示例\n",
    "y = x[0,:]\n",
    "y += 1\n",
    "print(x[0, :])  # 源tensor也被修改"
   ]
  },
  {
   "cell_type": "markdown",
   "id": "be766d8e-b14b-484c-b34a-a057d3ee1daa",
   "metadata": {},
   "source": [
    "**3.维度变换**"
   ]
  },
  {
   "cell_type": "code",
   "execution_count": 39,
   "id": "3a4981f5-4a81-4f66-bda1-85ca0da7b676",
   "metadata": {},
   "outputs": [
    {
     "name": "stdout",
     "output_type": "stream",
     "text": [
      "torch.Size([4, 4]) torch.Size([16]) torch.Size([2, 8])\n"
     ]
    }
   ],
   "source": [
    "x = torch.randn(4, 4)\n",
    "y = x.view(16)\n",
    "z = x.view(-1, 8)  # 自动推导维度\n",
    "print(x.size(), y.size(), z.size())"
   ]
  },
  {
   "cell_type": "markdown",
   "id": "919f4da0-f7c4-4d7c-9fdd-84e66ff6570f",
   "metadata": {},
   "source": [
    "**4.取值操作**"
   ]
  },
  {
   "cell_type": "code",
   "execution_count": 41,
   "id": "988cdcb7-7cdc-4951-98e1-5d287b57a903",
   "metadata": {},
   "outputs": [
    {
     "name": "stdout",
     "output_type": "stream",
     "text": [
      "<class 'torch.Tensor'>\n",
      "<class 'float'>\n"
     ]
    }
   ],
   "source": [
    "x = torch.randn(1)\n",
    "print(type(x))         # <class 'torch.Tensor'>\n",
    "print(type(x.item()))  # <class 'float'>"
   ]
  },
  {
   "cell_type": "markdown",
   "id": "8509b50e",
   "metadata": {},
   "source": [
    "## 2. 查看设备GPU信息"
   ]
  },
  {
   "cell_type": "code",
   "execution_count": 23,
   "id": "53d3f78a",
   "metadata": {},
   "outputs": [
    {
     "name": "stdout",
     "output_type": "stream",
     "text": [
      "1.是否存在GPU:False 如果存在有：0个\n"
     ]
    }
   ],
   "source": [
    "import torch\n",
    "from torch import nn\n",
    "# 查看gpu信息\n",
    "cudaMsg = torch.cuda.is_available()\n",
    "gpuCount = torch.cuda.device_count()\n",
    "print(\"1.是否存在GPU:{}\".format(cudaMsg), \"如果存在有：{}个\".format(gpuCount))"
   ]
  },
  {
   "cell_type": "markdown",
   "id": "53260f35-86e5-49f1-84d6-bf7fa07206fa",
   "metadata": {},
   "source": [
    "## 3. 让张量在GPU与CPU之间移动"
   ]
  },
  {
   "cell_type": "code",
   "execution_count": 13,
   "id": "c876e074-182a-4a9e-95eb-a169ed374d42",
   "metadata": {},
   "outputs": [
    {
     "ename": "RuntimeError",
     "evalue": "Found no NVIDIA driver on your system. Please check that you have an NVIDIA GPU and installed a driver from http://www.nvidia.com/Download/index.aspx",
     "output_type": "error",
     "traceback": [
      "\u001b[0;31m---------------------------------------------------------------------------\u001b[0m",
      "\u001b[0;31mRuntimeError\u001b[0m                              Traceback (most recent call last)",
      "Cell \u001b[0;32mIn[13], line 2\u001b[0m\n\u001b[1;32m      1\u001b[0m test_tensor \u001b[38;5;241m=\u001b[39m torch\u001b[38;5;241m.\u001b[39mrand((\u001b[38;5;241m100\u001b[39m, \u001b[38;5;241m100\u001b[39m))\n\u001b[0;32m----> 2\u001b[0m tensor_gpu \u001b[38;5;241m=\u001b[39m \u001b[43mtest_tensor\u001b[49m\u001b[38;5;241;43m.\u001b[39;49m\u001b[43mto\u001b[49m\u001b[43m(\u001b[49m\u001b[38;5;124;43m\"\u001b[39;49m\u001b[38;5;124;43mcuda:0\u001b[39;49m\u001b[38;5;124;43m\"\u001b[39;49m\u001b[43m)\u001b[49m \u001b[38;5;66;03m# 或者写成tensor_gpu = test_tensor.cuda()\u001b[39;00m\n\u001b[1;32m      3\u001b[0m tensor_cpu \u001b[38;5;241m=\u001b[39m tensor_gpu\u001b[38;5;241m.\u001b[39mto(\u001b[38;5;124m\"\u001b[39m\u001b[38;5;124mcpu\u001b[39m\u001b[38;5;124m\"\u001b[39m) \u001b[38;5;66;03m# 或写为tensor_gpu.cpu()\u001b[39;00m\n\u001b[1;32m      4\u001b[0m \u001b[38;5;28mprint\u001b[39m(\u001b[38;5;124m\"\u001b[39m\u001b[38;5;124mtest_tensor的device是：\u001b[39m\u001b[38;5;132;01m{}\u001b[39;00m\u001b[38;5;124m\"\u001b[39m\u001b[38;5;241m.\u001b[39mformat(test_tensor\u001b[38;5;241m.\u001b[39mdevice),\n\u001b[1;32m      5\u001b[0m  \u001b[38;5;124m\"\u001b[39m\u001b[38;5;130;01m\\n\u001b[39;00m\u001b[38;5;124mtensor_gpu的device是\u001b[39m\u001b[38;5;132;01m{}\u001b[39;00m\u001b[38;5;124m\"\u001b[39m\u001b[38;5;241m.\u001b[39mformat(tensor_gpu\u001b[38;5;241m.\u001b[39mdevice),\n\u001b[1;32m      6\u001b[0m  \u001b[38;5;124m\"\u001b[39m\u001b[38;5;130;01m\\n\u001b[39;00m\u001b[38;5;124mtensor_cpu的device是\u001b[39m\u001b[38;5;132;01m{}\u001b[39;00m\u001b[38;5;124m\"\u001b[39m\u001b[38;5;241m.\u001b[39mformat(tensor_cpu\u001b[38;5;241m.\u001b[39mdevice))\n",
      "File \u001b[0;32m/opt/conda/lib/python3.11/site-packages/torch/cuda/__init__.py:298\u001b[0m, in \u001b[0;36m_lazy_init\u001b[0;34m()\u001b[0m\n\u001b[1;32m    296\u001b[0m \u001b[38;5;28;01mif\u001b[39;00m \u001b[38;5;124m\"\u001b[39m\u001b[38;5;124mCUDA_MODULE_LOADING\u001b[39m\u001b[38;5;124m\"\u001b[39m \u001b[38;5;129;01mnot\u001b[39;00m \u001b[38;5;129;01min\u001b[39;00m os\u001b[38;5;241m.\u001b[39menviron:\n\u001b[1;32m    297\u001b[0m     os\u001b[38;5;241m.\u001b[39menviron[\u001b[38;5;124m\"\u001b[39m\u001b[38;5;124mCUDA_MODULE_LOADING\u001b[39m\u001b[38;5;124m\"\u001b[39m] \u001b[38;5;241m=\u001b[39m \u001b[38;5;124m\"\u001b[39m\u001b[38;5;124mLAZY\u001b[39m\u001b[38;5;124m\"\u001b[39m\n\u001b[0;32m--> 298\u001b[0m \u001b[43mtorch\u001b[49m\u001b[38;5;241;43m.\u001b[39;49m\u001b[43m_C\u001b[49m\u001b[38;5;241;43m.\u001b[39;49m\u001b[43m_cuda_init\u001b[49m\u001b[43m(\u001b[49m\u001b[43m)\u001b[49m\n\u001b[1;32m    299\u001b[0m \u001b[38;5;66;03m# Some of the queued calls may reentrantly call _lazy_init();\u001b[39;00m\n\u001b[1;32m    300\u001b[0m \u001b[38;5;66;03m# we need to just return without initializing in that case.\u001b[39;00m\n\u001b[1;32m    301\u001b[0m \u001b[38;5;66;03m# However, we must not let any *other* threads in!\u001b[39;00m\n\u001b[1;32m    302\u001b[0m _tls\u001b[38;5;241m.\u001b[39mis_initializing \u001b[38;5;241m=\u001b[39m \u001b[38;5;28;01mTrue\u001b[39;00m\n",
      "\u001b[0;31mRuntimeError\u001b[0m: Found no NVIDIA driver on your system. Please check that you have an NVIDIA GPU and installed a driver from http://www.nvidia.com/Download/index.aspx"
     ]
    }
   ],
   "source": [
    "test_tensor = torch.rand((100, 100))\n",
    "tensor_gpu = test_tensor.to(\"cuda:0\") # 或者写成tensor_gpu = test_tensor.cuda()\n",
    "tensor_cpu = tensor_gpu.to(\"cpu\") # 或写为tensor_gpu.cpu()\n",
    "print(\"test_tensor的device是：{}\".format(test_tensor.device),\n",
    " \"\\ntensor_gpu的device是{}\".format(tensor_gpu.device),\n",
    " \"\\ntensor_cpu的device是{}\".format(tensor_cpu.device))\n"
   ]
  },
  {
   "cell_type": "markdown",
   "id": "fb0609ab-ea32-41e9-9953-47d804d210f8",
   "metadata": {},
   "source": [
    "## 4. Python中使用GPU加速模型"
   ]
  },
  {
   "cell_type": "code",
   "execution_count": null,
   "id": "f6a5bc3d-b1c4-4fba-9c6f-4470aa220d51",
   "metadata": {},
   "outputs": [],
   "source": [
    "# 定义模型\n",
    "model = nn.Linear(10, 1)\n",
    "print(\"The device is gpu begin?:\", next(model.parameters()).is_cuda)\n",
    "device = torch.device(\"cuda:0\" if torch.cuda.is_available() else \"cpu\") # 有没有GPU\n",
    "model.to(device) # 移动模型到cuda\n",
    "print(\"The device is gpu later?:\", next(model.parameters()).is_cuda)\n",
    "print(\"The device is gpu,\", next(model.parameters()).device)\n"
   ]
  },
  {
   "cell_type": "markdown",
   "id": "616394cf-2863-4bf0-8020-d8a1f953d48f",
   "metadata": {},
   "source": [
    "## 5. 创建支持多个GPU数据并行的模型"
   ]
  },
  {
   "cell_type": "code",
   "execution_count": null,
   "id": "74eafa49-1635-4c5a-9a66-77cb91dabeed",
   "metadata": {},
   "outputs": [],
   "source": [
    "model = nn.Linear(10, 1)\n",
    "print(\"The device is gpu begin?:\", next(model.parameters()).is_cuda)\n",
    "model = nn.DataParallel(model)\n",
    "print(\"The device is gpu begin?:\", next(model.module.parameters()).device)\n",
    "\n",
    "# 定义模型\n",
    "model = U2NET(3, 1)\n",
    "if torch.cuda.device_count() > 1:\n",
    "model = nn.DataParallel(model) # 包装为并行风格模型\n",
    "# 训练模型\n",
    "...\n",
    "features = features.to(device) # 移动数据到cuda\n",
    "labels = labels.to(device)\n",
    "# 或者 labels = labels.cuda() if torch.cuda.is_available() else labels"
   ]
  },
  {
   "cell_type": "markdown",
   "id": "8c6e0f9e",
   "metadata": {},
   "source": [
    "# 四、PyTorch项目GPU加速实例"
   ]
  },
  {
   "cell_type": "markdown",
   "id": "20847f26",
   "metadata": {},
   "source": [
    "项目过程：\r",
    "-  1、 数据准备：均匀分布构建样本特征数据X,定义线性回归函数生成标签Y.\r\n",
    "- 2、 模型定义: 采用简单的全连接网络模型\r\n",
    "- 3、 建模、优化函数设置、损失函数设置、训练模型函数：将模型和数据移到GPU上，设置优化方法和损失函数开始模拟特征data和label之间的规律\r\n",
    "练学习过程。\r\n",
    "- 4、测试评估、\n",
    "\n",
    "\n",
    "我们首先生成了一些随机的输入数据 X，并通过线性关系计算目标输出 y。\r\n",
    "然后，我们将数据划分为训练集和测试集。\r\n",
    "接下来，我们定义了一个简单的线性回归模型，并使用均方误差损失函数和SGD优化器来训练模型。\r\n",
    "训练过程中，我们会输出每10轮的损失。\r\n",
    "最后，在测试集上评估模型性能。测试评估"
   ]
  },
  {
   "cell_type": "markdown",
   "id": "853dbc1a",
   "metadata": {},
   "source": [
    "## 线性回归模型训练——示例代码"
   ]
  },
  {
   "cell_type": "code",
   "execution_count": 26,
   "id": "3fb67a46-394a-4fe5-928e-320f569a6e81",
   "metadata": {},
   "outputs": [
    {
     "data": {
      "text/plain": [
       "tensor([[ 4.3218,  0.4116],\n",
       "        [-1.0017,  1.3982],\n",
       "        [ 1.1962, -3.5880],\n",
       "        [ 4.3970,  4.7475],\n",
       "        [ 1.4819,  2.7536],\n",
       "        [ 2.0964, -1.9191],\n",
       "        [-2.8556, -2.9062],\n",
       "        [ 0.6645, -1.1225],\n",
       "        [-1.5052, -2.1048],\n",
       "        [-3.8258,  0.9398]])"
      ]
     },
     "execution_count": 26,
     "metadata": {},
     "output_type": "execute_result"
    }
   ],
   "source": [
    "import torch\n",
    "from torch import nn\n",
    "\n",
    "10*torch.rand([10, 2]) -5"
   ]
  },
  {
   "cell_type": "code",
   "execution_count": 15,
   "id": "488ebddb",
   "metadata": {},
   "outputs": [
    {
     "name": "stdout",
     "output_type": "stream",
     "text": [
      "torch.cuda.is_available() =  False\n",
      "X.device: cpu\n",
      "Y.device: cpu\n",
      "{'epoch': 0, 'loss': 213.72027587890625}\n",
      "{'epoch': 10, 'loss': 204.05149841308594}\n",
      "{'epoch': 20, 'loss': 194.79335021972656}\n",
      "{'epoch': 30, 'loss': 185.98048400878906}\n",
      "{'epoch': 40, 'loss': 177.62515258789062}\n",
      "{'epoch': 50, 'loss': 169.72146606445312}\n",
      "{'epoch': 60, 'loss': 162.2523651123047}\n",
      "{'epoch': 70, 'loss': 155.19488525390625}\n",
      "{'epoch': 80, 'loss': 148.52378845214844}\n",
      "{'epoch': 90, 'loss': 142.21347045898438}\n",
      "time used: 0.8974595069885254\n",
      "time used:0.0005259513854980469;and the loss_test=137.02670288085938\n"
     ]
    }
   ],
   "source": [
    "import torch\n",
    "from torch import nn\n",
    "\n",
    "# 准备数据（这里制造的假数据符合线性回归）\n",
    "sample_n = 1000000  # 样本数量设置为一百万\n",
    "sample_t = 1000  # 测试样本\n",
    "# 线性回归，y = x A转置 + b\n",
    "X = 10 * torch.rand([sample_n, 2]) - 5.0  # 一百万组数据，每组数据两个值，均匀分布\n",
    "X_test = 10 * torch.rand([sample_t, 2]) - 5.0\n",
    "w0 = torch.tensor([[2.0, -3.0]])\n",
    "b0 = torch.tensor([[10.0]])\n",
    "Y = X @ w0.t() + b0 + torch.normal(0.0, 2.0, size=[sample_n, 1])  # 设定w,b，得到标签数据。\n",
    "Y_t = X_test @ w0.t() + b0 + torch.normal(0.0, 2.0, size=[sample_t, 1])\n",
    "# X@w0.t()此处为矩阵乘法\n",
    "# torch.normal(0.0, 2.0, size=[sample_n, 1])为干扰或噪声\n",
    "print(\"torch.cuda.is_available() = \", torch.cuda.is_available())\n",
    "\n",
    "\n",
    "data = X\n",
    "label = Y\n",
    "\n",
    "# 将数据集中数据和标签移到GPU上\n",
    "#data = X.cuda()\n",
    "#label = Y.cuda()\n",
    "# ---检查数据是否移到GPU上啦---\n",
    "print(\"X.device:\", X.device)\n",
    "print(\"Y.device:\", Y.device)\n",
    "\n",
    "\n",
    "# 定义模型\n",
    "class LinearRegression(nn.Module):\n",
    "    def __init__(self):\n",
    "        super().__init__()\n",
    "        self.w = nn.Parameter(torch.rand_like(w0))\n",
    "        self.b = nn.Parameter(torch.rand_like(b0))\n",
    "\n",
    "    # 正向传播\n",
    "    def forward(self, x):\n",
    "        return x @ self.w.t() + self.b\n",
    "\n",
    "\n",
    " \n",
    "# 训练过程\n",
    "epochs = 100  # 训练轮次\n",
    "losses = []  # 用于保存每一轮的损失\n",
    "\n",
    "def train():\n",
    "    import time\n",
    "    tic = time.time()\n",
    "    # 建模\n",
    "    linear = LinearRegression()\n",
    "    # 移动模型到GPU上\n",
    "    device = torch.device(\"cuda:0\" if torch.cuda.is_available() else \"cpu\")\n",
    "    linear.to(device)\n",
    "\n",
    "    # 建立优化函数和损失函数\n",
    "    optimizer = torch.optim.Adam(linear.parameters(), lr=0.01)\n",
    "    loss_func = nn.MSELoss()\n",
    "    for epoch in range(epochs):\n",
    "        optimizer.zero_grad()\n",
    "        Y_pre = linear(data)\n",
    "        loss = loss_func(Y_pre, label)\n",
    "        loss.backward()\n",
    "        optimizer.step()\n",
    "        # 保存损失值\n",
    "        losses.append(loss.item())\n",
    "    \n",
    "        if epoch % 10 == 0:\n",
    "            print({\"epoch\": epoch, \"loss\": loss.item()})\n",
    "    torch.save(linear, \"./linear_parameter.pth\")\n",
    "    toc = time.time()\n",
    "    print(\"time used:\", toc - tic)\n",
    "\n",
    "\n",
    "train()\n",
    "\n",
    "\n",
    "\n",
    "# 测试模型效果\n",
    "data_t = X_test\n",
    "label_t = Y_t\n",
    "#data_t = X_test.cuda()\n",
    "#label_t = Y_t.cuda()\n",
    "\n",
    "\n",
    "def test():\n",
    "    import time\n",
    "    tic = time.time()\n",
    "    loss_func = nn.MSELoss()\n",
    "    linear_t = torch.load(\"./linear_parameter.pth\")\n",
    "    linear_t.eval()\n",
    "    Y_pre = linear_t(data_t)\n",
    "    loss_t = loss_func(Y_pre, label_t)\n",
    "    toc = time.time()\n",
    "    print(\"time used:{};and the loss_test={}\".format((toc - tic), loss_t))\n",
    "\n",
    "\n",
    "\n",
    "test()\n",
    "\n"
   ]
  },
  {
   "cell_type": "markdown",
   "id": "0292c2b0-d347-49df-aef1-c384a52c3a13",
   "metadata": {},
   "source": [
    "## 线性回归模型训练——训练批次和loss曲线图"
   ]
  },
  {
   "cell_type": "code",
   "execution_count": 16,
   "id": "b66542ba-8d79-4f36-96f6-797d27ab5251",
   "metadata": {},
   "outputs": [
    {
     "data": {
      "image/png": "[encoded data removed]",
      "text/plain": [
       "<Figure size 640x480 with 1 Axes>"
      ]
     },
     "metadata": {},
     "output_type": "display_data"
    }
   ],
   "source": [
    "import matplotlib.pyplot as plt\n",
    "\n",
    "# 绘制损失变化图\n",
    "plt.plot(range(epochs), losses, label='Training Loss', color='blue')\n",
    "plt.xlabel('Epochs')\n",
    "plt.ylabel('Loss')\n",
    "plt.title('Training Loss over Epochs')\n",
    "plt.grid(True)\n",
    "plt.show()\n"
   ]
  },
  {
   "cell_type": "markdown",
   "id": "90a8ce9b",
   "metadata": {},
   "source": [
    "# 五、CPU在大模型训练中的应用"
   ]
  },
  {
   "cell_type": "markdown",
   "id": "57326f28",
   "metadata": {},
   "source": [
    "##  1. CPU的局限性 "
   ]
  },
  {
   "cell_type": "markdown",
   "id": "c755bed9",
   "metadata": {},
   "source": [
    "CPU不适合处理大规模模型训练，尤其是在需要大量并行计算的深度学习任务中。"
   ]
  },
  {
   "cell_type": "markdown",
   "id": "d6898a32",
   "metadata": {},
   "source": [
    "##### 示例代码"
   ]
  },
  {
   "cell_type": "code",
   "execution_count": 3,
   "id": "d15bee55",
   "metadata": {},
   "outputs": [
    {
     "name": "stdout",
     "output_type": "stream",
     "text": [
      "[[241.59283111 244.70179239 247.95992922 ... 242.45441061 240.12995108\n",
      "  249.91171339]\n",
      " [229.17099532 231.12275689 239.57467874 ... 245.38419956 230.56513585\n",
      "  242.76607168]\n",
      " [238.46746775 240.7919332  239.47910751 ... 241.08392305 235.11919223\n",
      "  252.27266995]\n",
      " ...\n",
      " [248.72759869 256.38801606 255.80655391 ... 254.16641635 250.74934852\n",
      "  267.97225434]\n",
      " [244.81850807 252.99004769 252.00132745 ... 258.49993267 245.59467965\n",
      "  259.39691964]\n",
      " [241.46319947 247.96484858 246.40414231 ... 253.23162109 242.20439081\n",
      "  250.3512321 ]]\n"
     ]
    }
   ],
   "source": [
    "import numpy as np\n",
    "# 在CPU上进行简单的矩阵乘法\n",
    "matrix_a = np.random.rand(1000, 1000)\n",
    "matrix_b = np.random.rand(1000, 1000)\n",
    "result = np.dot(matrix_a, matrix_b)\n",
    "print(result)"
   ]
  },
  {
   "cell_type": "markdown",
   "id": "c7890aa8",
   "metadata": {},
   "source": [
    "## 2. 如何优化CPU训练"
   ]
  },
  {
   "cell_type": "markdown",
   "id": "61f34fc8",
   "metadata": {},
   "source": [
    "通过多核CPU并行处理，我们可以提高训练效率，适合小型模型的训练任务。"
   ]
  },
  {
   "cell_type": "markdown",
   "id": "7ab11821",
   "metadata": {},
   "source": [
    "##### 示例代码"
   ]
  },
  {
   "cell_type": "code",
   "execution_count": null,
   "id": "f3c76b8b",
   "metadata": {},
   "outputs": [],
   "source": [
    "import multiprocessing as mp\n",
    "def worker(task):\n",
    "    # 这里处理每个任务\n",
    "    pass\n",
    "\n",
    "# 创建多个进程\n",
    "processes = [mp.Process(target=worker, args=(i,)) for i in range(4)]\n",
    "for p in processes:\n",
    "    p.start()\n",
    "for p in processes:\n",
    "    p.join()"
   ]
  },
  {
   "cell_type": "markdown",
   "id": "0c6b65a8-25af-44e5-8cc3-6851fb4290bf",
   "metadata": {},
   "source": [
    "# 六 、推理所需显存和速度"
   ]
  },
  {
   "cell_type": "markdown",
   "id": "cc98b1a9-96bf-433d-8254-e535b916fdf0",
   "metadata": {},
   "source": [
    "8bit量化模型： 参数量1B 占用 1G 显存以上。\n",
    "\n",
    "比如：\n",
    "- 8bit量化 7B模型，显存占用 7G 以上\n",
    "- 4bit量化 7B模型，显存占用 3.5G 以上\n",
    "- float16 7B模型，显存占用 14G 以上"
   ]
  },
  {
   "cell_type": "markdown",
   "id": "14461cbe-02ae-4023-a2af-2ca1b8f83cb3",
   "metadata": {},
   "source": [
    "## 低配使用（计算资源有限）\n",
    "\n",
    "Int4量化，约2K上下文"
   ]
  },
  {
   "cell_type": "markdown",
   "id": "28f0496e-202c-48dc-aa1d-8dda6a08d233",
   "metadata": {},
   "source": [
    "<table align=\"left\">\r\n",
    "<thead>\r\n",
    "<tr>\r\n",
    "<th style=\"text-align:center\">模型（int4）</th>\r\n",
    "<th style=\"text-align:center\">所需显存GB</th>\r\n",
    "<th>推荐GPU</th>\r\n",
    "<th>参考模型</th>\r\n",
    "</tr>\r\n",
    "</thead>\r\n",
    "<tbody>\r\n",
    "<tr>\r\n",
    "<td style=\"text-align:center\">0.5B</td>\r\n",
    "<td style=\"text-align:center\">&lt;5G</td>\r\n",
    "<td></td>\r\n",
    "<td>Qwen2-0.5B-Instruct</td>\r\n",
    "</tr>\r\n",
    "<tr>\r\n",
    "<td style=\"text-align:center\">1.5B</td>\r\n",
    "<td style=\"text-align:center\">&lt;3G</td>\r\n",
    "<td></td>\r\n",
    "<td>Qwen-1_8B-Chat, Qwen2-1.5B-Instruct</td>\r\n",
    "</tr>\r\n",
    "<tr>\r\n",
    "<td style=\"text-align:center\">6B</td>\r\n",
    "<td style=\"text-align:center\">4G</td>\r\n",
    "<td></td>\r\n",
    "<td>Yi-6B-Chat-4bits</td>\r\n",
    "</tr>\r\n",
    "<tr>\r\n",
    "<td style=\"text-align:center\">7B</td>\r\n",
    "<td style=\"text-align:center\">&lt;11G</td>\r\n",
    "<td></td>\r\n",
    "<td>Qwen2-7B-Instruct，Qwen-7B-Chat-Int4</td>\r\n",
    "</tr>\r\n",
    "<tr>\r\n",
    "<td style=\"text-align:center\">14B</td>\r\n",
    "<td style=\"text-align:center\">13G</td>\r\n",
    "<td></td>\r\n",
    "<td>Qwen-14B-Chat-Int4</td>\r\n",
    "</tr>\r\n",
    "<tr>\r\n",
    "<td style=\"text-align:center\">34B</td>\r\n",
    "<td style=\"text-align:center\">20G</td>\r\n",
    "<td></td>\r\n",
    "<td>Yi-34B-Chat-4bits</td>\r\n",
    "</tr>\r\n",
    "<tr>\r\n",
    "<td style=\"text-align:center\">57B</td>\r\n",
    "<td style=\"text-align:center\">&lt;35G</td>\r\n",
    "<td></td>\r\n",
    "<td>Qwen2-57B-A14B-Instruct</td>\r\n",
    "</tr>\r\n",
    "<tr>\r\n",
    "<td style=\"text-align:center\">72B</td>\r\n",
    "<td style=\"text-align:center\">&lt;47G</td>\r\n",
    "<td></td>\r\n",
    "<td>Qwen2-72B-Instruct</td>\r\n",
    "</tr>\r\n",
    "<tr>\r\n",
    "<td style=\"text-align:center\">130B</td>\r\n",
    "<td style=\"text-align:center\">-</td>\r\n",
    "<td>8 * RTX 2080 Ti(11G) <br> 4 * RTX 3090(24G)</td>\r\n",
    "<td>GLM-130B</td>\r\n",
    "</tr>\r\n",
    "<tr>\r\n",
    "<td style=\"text-align:center\">236B</td>\r\n",
    "<td style=\"text-align:center\">130G</td>\r\n",
    "<td>8xA100(80G)</td>\r\n",
    "<td>DeepSeek-V2-Chat</td>\r\n",
    "</tr>\r\n",
    "</tbody>\r\n",
    "</table>"
   ]
  },
  {
   "cell_type": "markdown",
   "id": "a5b9d68f-70bc-47ab-8da0-75c99901b0ee",
   "metadata": {},
   "source": [
    "## （标配）中配使用（性能与资源平衡用法）\n",
    "Int8量化，4k，6k上下文"
   ]
  },
  {
   "cell_type": "markdown",
   "id": "fe37cd1d-7a81-4531-ad1d-965e3d1967a7",
   "metadata": {},
   "source": [
    "<table align=\"left\">\n",
    "<thead>\n",
    "<tr>\n",
    "<th style=\"text-align:center\">模型（int8）</th>\n",
    "<th style=\"text-align:center\">所需显存GB</th>\n",
    "<th>推荐GPU</th>\n",
    "<th>参考模型</th>\n",
    "</tr>\n",
    "</thead>\n",
    "<tbody>\n",
    "<tr>\n",
    "<td style=\"text-align:center\">0.5B</td>\n",
    "<td style=\"text-align:center\">6G</td>\n",
    "<td></td>\n",
    "<td>Qwen2-0.5B-Instruct</td>\n",
    "</tr>\n",
    "<tr>\n",
    "<td style=\"text-align:center\">1.5B</td>\n",
    "<td style=\"text-align:center\">8G</td>\n",
    "<td></td>\n",
    "<td>Qwen2-1.5B-Instruct</td>\n",
    "</tr>\n",
    "<tr>\n",
    "<td style=\"text-align:center\">6B</td>\n",
    "<td style=\"text-align:center\">8G</td>\n",
    "<td></td>\n",
    "<td>Yi-6B-Chat-8bits</td>\n",
    "</tr>\n",
    "<tr>\n",
    "<td style=\"text-align:center\">7B</td>\n",
    "<td style=\"text-align:center\">14G</td>\n",
    "<td></td>\n",
    "<td>Qwen2-7B-Instruct</td>\n",
    "</tr>\n",
    "<tr>\n",
    "<td style=\"text-align:center\">14B</td>\n",
    "<td style=\"text-align:center\">27G</td>\n",
    "<td></td>\n",
    "<td>Qwen-14B-Chat-Int8</td>\n",
    "</tr>\n",
    "<tr>\n",
    "<td style=\"text-align:center\">34B</td>\n",
    "<td style=\"text-align:center\">38G</td>\n",
    "<td></td>\n",
    "<td>Yi-34B-Chat-8bits</td>\n",
    "</tr>\n",
    "<tr>\n",
    "<td style=\"text-align:center\">57B</td>\n",
    "<td style=\"text-align:center\">117G (bf16)</td>\n",
    "<td></td>\n",
    "<td>Qwen2-57B-A14B-Instruct</td>\n",
    "</tr>\n",
    "<tr>\n",
    "<td style=\"text-align:center\">72B</td>\n",
    "<td style=\"text-align:center\">80G</td>\n",
    "<td></td>\n",
    "<td>Qwen2-72B-Instruct</td>\n",
    "</tr>\n",
    "<tr>\n",
    "<td style=\"text-align:center\">130B</td>\n",
    "<td style=\"text-align:center\">-</td>\n",
    "<td>8xRTX3090 (24G)</td>\n",
    "<td>GLM-130B</td>\n",
    "</tr>\n",
    "<tr>\n",
    "<td style=\"text-align:center\">236B</td>\n",
    "<td style=\"text-align:center\">490G(fb16)</td>\n",
    "<td>8xA100 (80G)</td>\n",
    "<td>DeepSeek-V2-Chat</td>\n",
    "</tr>\n",
    "<tr>\n",
    "<td style=\"text-align:center\">340B</td>\n",
    "<td style=\"text-align:center\">-</td>\n",
    "<td>16xA100(80G) <br>  16xH100(80G) <br>  8xH200</td>\n",
    "<td>Nemotron-4-340B-Instruct</td>\n",
    "</tr>\n",
    "</tbody>\n",
    "</table>"
   ]
  },
  {
   "cell_type": "markdown",
   "id": "566343dd-d33f-4a60-aff6-7bc5d2989690",
   "metadata": {},
   "source": [
    "## 高配使用（高级用法，性能优先）\n",
    "性能优先，不量化，数据格式FB16，32K上下文"
   ]
  },
  {
   "cell_type": "markdown",
   "id": "3684d8d1-c088-497e-93fe-6be92e8bd62e",
   "metadata": {},
   "source": [
    "<table align=\"left\">\n",
    "<thead>\n",
    "<tr>\n",
    "<th style=\"text-align:center\">模型（fb16）</th>\n",
    "<th style=\"text-align:center\">所需显存GB</th>\n",
    "<th>推荐GPU</th>\n",
    "<th>参考模型</th>\n",
    "</tr>\n",
    "</thead>\n",
    "<tbody>\n",
    "<tr>\n",
    "<td style=\"text-align:center\">0.5B</td>\n",
    "<td style=\"text-align:center\">27G</td>\n",
    "<td></td>\n",
    "<td>Qwen2-0.5B-Instruct</td>\n",
    "</tr>\n",
    "<tr>\n",
    "<td style=\"text-align:center\">1.5B</td>\n",
    "<td style=\"text-align:center\">30G</td>\n",
    "<td></td>\n",
    "<td>Qwen2-1.5B-Instruct</td>\n",
    "</tr>\n",
    "<tr>\n",
    "<td style=\"text-align:center\">6B</td>\n",
    "<td style=\"text-align:center\">20G</td>\n",
    "<td></td>\n",
    "<td>Yi-6B-200K</td>\n",
    "</tr>\n",
    "<tr>\n",
    "<td style=\"text-align:center\">7B</td>\n",
    "<td style=\"text-align:center\">43G</td>\n",
    "<td></td>\n",
    "<td>Qwen2-7B-Instruct</td>\n",
    "</tr>\n",
    "<tr>\n",
    "<td style=\"text-align:center\">14B</td>\n",
    "<td style=\"text-align:center\">39G(8k)</td>\n",
    "<td></td>\n",
    "<td>Qwen-14B-Chat</td>\n",
    "</tr>\n",
    "<tr>\n",
    "<td style=\"text-align:center\">34B</td>\n",
    "<td style=\"text-align:center\">200G(200k)</td>\n",
    "<td>4 x A800 (80 GB)</td>\n",
    "<td>Yi-34B-200K</td>\n",
    "</tr>\n",
    "<tr>\n",
    "<td style=\"text-align:center\">57B</td>\n",
    "<td style=\"text-align:center\">117G</td>\n",
    "<td></td>\n",
    "<td>Qwen2-57B-A14B-Instruct</td>\n",
    "</tr>\n",
    "<tr>\n",
    "<td style=\"text-align:center\">72B</td>\n",
    "<td style=\"text-align:center\">209G</td>\n",
    "<td></td>\n",
    "<td>Qwen2-72B-Instruct</td>\n",
    "</tr>\n",
    "</tbody>\n",
    "</table>"
   ]
  },
  {
   "cell_type": "markdown",
   "id": "98164983",
   "metadata": {},
   "source": [
    "# 七、GPU硬件选择策略"
   ]
  },
  {
   "cell_type": "markdown",
   "id": "48f2cfb3-8ee0-486e-9405-20e08405dd9d",
   "metadata": {},
   "source": [
    "根据任务的规模和类型选择硬件：\n",
    "\n",
    "- 应用场景：是用于深度学习训练、推理，还是科学计算、图形渲染？\n",
    "  \n",
    "- 模型规模：需要支持多大的模型（如几亿到几百亿参数）？\n",
    "  \n",
    "- 性能要求：对计算速度、吞吐量或延迟的要求是什么？\n",
    "  \n",
    "- 预算限制：硬件预算范围是多少？\n",
    "  \n",
    "- 软件兼容性：是否需要支持特定的框架（如TensorFlow、PyTorch）或CUDA版本？"
   ]
  },
  {
   "cell_type": "markdown",
   "id": "d3c480e5-4f4e-44bc-8d71-65b107baadc6",
   "metadata": {},
   "source": [
    "**常见LLM用GPU显存一览表**"
   ]
  },
  {
   "cell_type": "markdown",
   "id": "4a914dc5-ffd9-4baf-b20e-520d50a5e225",
   "metadata": {},
   "source": [
    "<table align=\"left\">\n",
    "<thead>\n",
    "<tr>\n",
    "<th>GPU</th>\n",
    "<th style=\"text-align:center\">显存</th>\n",
    "</tr>\n",
    "</thead>\n",
    "<tbody>\n",
    "<tr>\n",
    "<td>H200</td>\n",
    "<td style=\"text-align:center\">141GB</td>\n",
    "</tr>\n",
    "<tr>\n",
    "<td>H100 <br> H800</td>\n",
    "<td style=\"text-align:center\">80GB</td>\n",
    "</tr>\n",
    "<tr>\n",
    "<td>A100 <br> A800</td>\n",
    "<td style=\"text-align:center\">80GB</td>\n",
    "</tr>\n",
    "<tr>\n",
    "<td>A100</td>\n",
    "<td style=\"text-align:center\">40GB</td>\n",
    "</tr>\n",
    "<tr>\n",
    "<td>V100</td>\n",
    "<td style=\"text-align:center\">32GB</td>\n",
    "</tr>\n",
    "<tr>\n",
    "<td>RTXA6000</td>\n",
    "<td style=\"text-align:center\">48G</td>\n",
    "</tr>\n",
    "<tr>\n",
    "<td>RTX4090 <br> RTX3090 <br> A10 <br>A30</td>\n",
    "<td style=\"text-align:center\">24GB</td>\n",
    "</tr>\n",
    "<tr>\n",
    "<td>RTX4070</td>\n",
    "<td style=\"text-align:center\">12GB</td>\n",
    "</tr>\n",
    "<tr>\n",
    "<td>RTX3070</td>\n",
    "<td style=\"text-align:center\">8GB</td>\n",
    "</tr>\n",
    "</tbody>\n",
    "</table>"
   ]
  },
  {
   "cell_type": "markdown",
   "id": "940bfaa8",
   "metadata": {},
   "source": [
    "<img src=\"./model-gpu.png\" style=\"margin-left: 0px\" width=\"800px\">\n",
    " "
   ]
  },
  {
   "cell_type": "markdown",
   "id": "fd8efbe6-52f0-4ac1-98e4-b5e18fc47f1e",
   "metadata": {},
   "source": [
    "**附：Deepseek R1 GPU服务器推荐配置**"
   ]
  },
  {
   "cell_type": "markdown",
   "id": "6d4c8618-8094-434c-a418-972cee52e311",
   "metadata": {},
   "source": [
    "## DeepSeek-R1 系列模型硬件需求与适用场景\n",
    "\n",
    "### 1. DeepSeek-R1-1.5B\n",
    "- **CPU**: 最低 4 核（推荐 Intel/AMD 多核处理器）\n",
    "- **内存**: 8GB+\n",
    "- **硬盘**: 3GB+ 存储空间（模型文件约 1.5-2GB）\n",
    "- **显卡**: 非必需（纯 CPU 推理），若 GPU 加速可选 4GB+ 显存（如 GTX 1650）\n",
    "\n",
    "**适用场景**:\n",
    "- 低资源设备部署（如树莓派、旧款笔记本）\n",
    "- 实时文本生成（聊天机器人、简单问答）\n",
    "- 嵌入式系统或物联网设备\n",
    "\n",
    "---\n",
    "\n",
    "### 2. DeepSeek-R1-7B\n",
    "- **CPU**: 8 核以上（推荐现代多核 CPU）\n",
    "- **内存**: 16GB+\n",
    "- **硬盘**: 8GB+（模型文件约 4-5GB）\n",
    "- **显卡**: 推荐 8GB+ 显存（如 RTX 3070/4060）\n",
    "\n",
    "**适用场景**:\n",
    "- 本地开发测试（中小型企业）\n",
    "- 中等复杂度 NLP 任务（文本摘要、翻译）\n",
    "- 轻量级多轮对话系统\n",
    "\n",
    "---\n",
    "\n",
    "### 3. DeepSeek-R1-8B\n",
    "- **硬件需求**: 与 7B 相近，略高 10-20%\n",
    "\n",
    "**适用场景**:\n",
    "- 需更高精度的轻量级任务（如代码生成、逻辑推理）\n",
    "\n",
    "---\n",
    "\n",
    "### 4. DeepSeek-R1-14B\n",
    "- **CPU**: 12 核以上\n",
    "- **内存**: 32GB+\n",
    "- **硬盘**: 15GB+\n",
    "- **显卡**: 16GB+ 显存（如 RTX 4090 或 A5000）\n",
    "\n",
    "**适用场景**:\n",
    "- 企业级复杂任务（合同分析、报告生成）\n",
    "- 长文本理解与生成（书籍/论文辅助写作）\n",
    "\n",
    "---\n",
    "\n",
    "### 5. DeepSeek-R1-32B\n",
    "- **CPU**: 16 核以上（如 AMD Ryzen 9 或 Intel i9）\n",
    "- **内存**: 64GB+\n",
    "- **硬盘**: 30GB+\n",
    "- **显卡**: 24GB+ 显存（如 A100 40GB 或双卡 RTX 3090）\n",
    "\n",
    "**适用场景**:\n",
    "- 高精度专业领域任务（医疗/法律咨询）\n",
    "- 多模态任务预处理（需结合其他框架）\n",
    "\n",
    "---\n",
    "\n",
    "### 6. DeepSeek-R1-70B\n",
    "- **CPU**: 32 核以上（服务器级 CPU）\n",
    "- **内存**: 128GB+\n",
    "- **硬盘**: 70GB+\n",
    "- **显卡**: 多卡并行（如 2x A100 80GB 或 4x RTX 4090）\n",
    "\n",
    "**适用场景**:\n",
    "- 科研机构/大型企业（金融预测、大规模数据分析）\n",
    "- 高复杂度生成任务（创意写作、算法设计）\n",
    "\n",
    "---\n",
    "\n",
    "### 7. DeepSeek-R1-671B\n",
    "- **CPU**: 64 核以上（服务器集群）\n",
    "- **内存**: 512GB+\n",
    "- **硬盘**: 300GB+\n",
    "- **显卡**: 多节点分布式训练（如 8x A100/H100）\n",
    "\n",
    "**适用场景**:\n",
    "- 国家级/超大规模 AI 研究（如气候建模、基因组分析）\n",
    "- 通用人工智能（AGI）探索\n",
    "\n",
    "---\n",
    "\n",
    "## 通用建议\n",
    "- **量化优化**: 使用 4-bit/8-bit 量化可降低显存占用 30-50%。\n",
    "- **推理框架**: 搭配 vLLM、TensorRT 等加速库提升效率。\n",
    "- **云部署**: 70B/671B 建议优先考虑云服务以弹性扩展资源。\n",
    "- **能耗注意**: 32B+ 模型需高功率电源（1000W+）和散热系统。011"
   ]
  }
 ],
 "metadata": {
  "kernelspec": {
   "display_name": "Python 3 (ipykernel)",
   "language": "python",
   "name": "python3"
  },
  "language_info": {
   "codemirror_mode": {
    "name": "ipython",
    "version": 3
   },
   "file_extension": ".py",
   "mimetype": "text/x-python",
   "name": "python",
   "nbconvert_exporter": "python",
   "pygments_lexer": "ipython3",
   "version": "3.11.4"
  }
 },
 "nbformat": 4,
 "nbformat_minor": 5
}
