{
 "cells": [
  {
   "cell_type": "code",
   "execution_count": 1,
   "id": "9e982169-6dc3-4180-9503-8e5fb52d77c8",
   "metadata": {
    "tags": []
   },
   "outputs": [
    {
     "name": "stdin",
     "output_type": "stream",
     "text": [
      "用户请求:  平安商业综合责任保险介绍下\n"
     ]
    },
    {
     "name": "stderr",
     "output_type": "stream",
     "text": [
      "2025-03-10 20:11:44,641 - memory.py - 113 - INFO - {\"keywords_zh\": [\"平安\", \"商业\", \"综合责任保险\", \"介绍\"], \"keywords_en\": [\"Ping An\", \"commercial\", \"comprehensive liability insurance\", \"introduction\"], \"text\": \"平安商业综合责任保险介绍下\"}\n",
      "2025-03-10 20:11:45,520 - simple_doc_parser.py - 382 - INFO - Start parsing ./docs/平安商业综合责任保险（亚马逊）.pdf...\n",
      "2025-03-10 20:11:45,546 - simple_doc_parser.py - 425 - INFO - Finished parsing ./docs/平安商业综合责任保险（亚马逊）.pdf. Time spent: 0.02223944664001465 seconds.\n",
      "2025-03-10 20:11:45,556 - doc_parser.py - 108 - INFO - Start chunking ./docs/平安商业综合责任保险（亚马逊）.pdf (平安商业综合责任保险（亚马逊）.pdf)...\n",
      "2025-03-10 20:11:45,559 - doc_parser.py - 126 - INFO - Finished chunking ./docs/平安商业综合责任保险（亚马逊）.pdf (平安商业综合责任保险（亚马逊）.pdf). Time spent: 0.0 seconds.\n",
      "2025-03-10 20:11:45,566 - base_search.py - 56 - INFO - all tokens: 0\n",
      "2025-03-10 20:11:45,568 - base_search.py - 59 - INFO - use full ref\n"
     ]
    },
    {
     "name": "stdout",
     "output_type": "stream",
     "text": [
      "您所提到的“平安商业综合责任保险（亚马逊）”似乎指向一个特定的产品文件，但是提供的文档内容为空，没有具体的条款或细节。通常来说，平安商业综合责任保险是一种为企业提供保障的保险产品，它覆盖了企业在经营过程中可能遇到的各种责任风险。\n",
      "\n",
      "为了更准确地介绍这个保险产品，我需要根据实际的保险条款来说明其特点、保障范围、除外责任等信息。如果可以，请您上传含有具体内容的文档或者告诉我更多关于该保险产品的详细信息，这样我才能够为您提供更为详尽和准确的介绍。\n",
      "\n",
      "如果您有其他问题或需要了解一般性的商业综合责任保险的信息，也请随时告知。"
     ]
    },
    {
     "name": "stdin",
     "output_type": "stream",
     "text": [
      "用户请求:  -1\n"
     ]
    }
   ],
   "source": [
    "import pprint\n",
    "import urllib.parse\n",
    "import json5\n",
    "from qwen_agent.agents import Assistant\n",
    "from qwen_agent.tools.base import BaseTool, register_tool\n",
    "\n",
    "\n",
    "# 步骤 1（可选）：添加一个名为 `my_image_gen` 的自定义工具。\n",
    "@register_tool('my_image_gen')\n",
    "class MyImageGen(BaseTool):\n",
    "    # `description` 用于告诉智能体该工具的功能。\n",
    "    description = 'AI 绘画（图像生成）服务，输入文本描述，返回基于文本信息绘制的图像 URL。'\n",
    "    # `parameters` 告诉智能体该工具有哪些输入参数。\n",
    "    parameters = [{\n",
    "        'name': 'prompt',\n",
    "        'type': 'string',\n",
    "        'description': '期望的图像内容的详细描述',\n",
    "        'required': True\n",
    "    }]\n",
    "\n",
    "    def call(self, params: str, **kwargs) -> str:\n",
    "        # `params` 是由 LLM 智能体生成的参数。\n",
    "        prompt = json5.loads(params)['prompt']\n",
    "        prompt = urllib.parse.quote(prompt)\n",
    "        return json5.dumps(\n",
    "            {'image_url': f'https://image.pollinations.ai/prompt/{prompt}'},\n",
    "            ensure_ascii=False)\n",
    "\n",
    "\n",
    "# 步骤 2：配置您所使用的 LLM。\n",
    "llm_cfg = {\n",
    "    # 使用 DashScope 提供的模型服务：\n",
    "    'model': 'qwen-max',\n",
    "    'model_server': 'dashscope',\n",
    "    'api_key': 'sk-882e296067b744289acf27e6e20f3ec0',\n",
    "    # 如果这里没有设置 'api_key'，它将读取 `DASHSCOPE_API_KEY` 环境变量。\n",
    "\n",
    "    # 使用与 OpenAI API 兼容的模型服务，例如 vLLM 或 Ollama：\n",
    "    # 'model': 'Qwen2-7B-Chat',\n",
    "    # 'model_server': 'http://localhost:8000/v1',  # base_url，也称为 api_base\n",
    "    # 'api_key': 'EMPTY',\n",
    "    # （可选） LLM 的超参数：\n",
    "    'generate_cfg': {\n",
    "        'top_p': 0.8\n",
    "    }\n",
    "}\n",
    "\n",
    "# 步骤 3：创建一个智能体。这里我们以 `Assistant` 智能体为例，它能够使用工具并读取文件。\n",
    "system_instruction = '''你是一个乐于助人的AI助手。\n",
    "在收到用户的请求后，你应该：\n",
    "- 首先绘制一幅图像，得到图像的url，\n",
    "- 然后运行代码`request.get`以下载该图像的url，\n",
    "- 最后从给定的文档中选择一个图像操作进行图像处理。\n",
    "用 `plt.show()` 展示图像。\n",
    "你总是用中文回复用户。'''\n",
    "tools = ['my_image_gen', 'code_interpreter']  # `code_interpreter` 是框架自带的工具，用于执行代码。\n",
    "#files = ['./examples/resource/doc.pdf']  # 给智能体一个 PDF 文件阅读。\n",
    "files = ['./docs/平安商业综合责任保险（亚马逊）.pdf']  # 给智能体一个 PDF 文件阅读。\n",
    "bot = Assistant(llm=llm_cfg,\n",
    "                system_message=system_instruction,\n",
    "                function_list=tools,\n",
    "                files=files)\n",
    "\n",
    "# 步骤 4：作为聊天机器人运行智能体。\n",
    "messages = []  # 这里储存聊天历史。\n",
    "while True:\n",
    "    # 例如，输入请求 \"绘制一只狗并将其旋转 90 度\"。\n",
    "    query = input('用户请求: ')\n",
    "    if query == '-1':\n",
    "        break\n",
    "    # 将用户请求添加到聊天历史。\n",
    "    messages.append({'role': 'user', 'content': query})\n",
    "    response = []\n",
    "    current_index = 0\n",
    "    for response in bot.run(messages=messages):\n",
    "        # 流式输出。\n",
    "        #print('机器人回应:')\n",
    "        #pprint.pprint(response, indent=2)\n",
    "        current_response = response[0]['content'][current_index:]\n",
    "        current_index = len(response[0]['content'])\n",
    "        print(current_response, end='')\n",
    "    # 将机器人的回应添加到聊天历史。\n",
    "    messages.extend(response)"
   ]
  }
 ],
 "metadata": {
  "kernelspec": {
   "display_name": "Python 3 (ipykernel)",
   "language": "python",
   "name": "python3"
  },
  "language_info": {
   "codemirror_mode": {
    "name": "ipython",
    "version": 3
   },
   "file_extension": ".py",
   "mimetype": "text/x-python",
   "name": "python",
   "nbconvert_exporter": "python",
   "pygments_lexer": "ipython3",
   "version": "3.11.6"
  }
 },
 "nbformat": 4,
 "nbformat_minor": 5
}
