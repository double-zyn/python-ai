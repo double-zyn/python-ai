{
 "cells": [
  {
   "cell_type": "markdown",
   "metadata": {},
   "source": [
    "# AI大模型基本原理\n",
    "\n",
    "## 💡 这节课会带给你\n",
    "\n",
    "1. 什么是AI？\n",
    "2. AI大模型能做什么\n",
    "3. 大模型现阶段落地情况综述\n",
    "4. 怎样寻找企业中大模型落地场景\n",
    "5. 大模型的通俗原理\n",
    "6. 大模型技术的短板\n",
    "7. 大模型应用技术架构\n",
    "8. DeepSeek本地部署和应用\n",
    "\n",
    "开始上课！\n"
   ]
  },
  {
   "cell_type": "markdown",
   "metadata": {
    "id": "1nOf4rvQ13si"
   },
   "source": [
    "## 什么是 AI？\n",
    "\n",
    "<img src=\"./ai-timeline.png\" style=\"margin-left: 0px\" width=\"800px\">\n",
    "\n",
    "> 「AI is bullshit。深蓝没用任何 AI 算法，就是硬件穷举棋步。」\n",
    "\n",
    "<div class=\"alert alert-warning\">\n",
    "<b>思考：</b>「智能冰箱」是 AI 吗？\n",
    "</div>\n",
    "\n",
    "一种观点：基于机器学习、神经网络的是 AI，基于规则、搜索的不是 AI。\n"
   ]
  },
  {
   "cell_type": "markdown",
   "metadata": {
    "id": "1nOf4rvQ13si"
   },
   "source": [
    "## AI大模型能干什么？\n",
    "\n",
    "大模型，全称「大语言模型」，英文「Large Language Model」，缩写「LLM」。\n",
    "\n",
    "现在，已经不需要再演示了。每人应该都至少和下面一个基于大模型的对话产品，对话过至少 100 次。\n",
    "\n",
    "| 国家 | 公司      | 对话产品  | 旗舰大模型 | 网址                                                                   |\n",
    "| ---- | --------- | --------- | ---------- | ---------------------------------------------------------------------- |\n",
    "| 美国 | OpenAI    | ChatGPT   | GPT        | [https://chatgpt.com/](https://chatgpt.com/)                           |\n",
    "| 美国 | Microsoft | Copilot   | GPT 和未知 | [https://copilot.microsoft.com/](https://copilot.microsoft.com/)       |\n",
    "| 美国 | Google    | Gemini    | Gemini     | [https://gemini.google.com/](https://gemini.google.com/)               |\n",
    "| 美国 | Anthropic | Claude    | Claude     | [https://claude.ai/](https://claude.ai/) ，公认不输甚至超过 GPT 的     |\n",
    "| 中国 | 百度      | 文心一言  | 文心       | [https://yiyan.baidu.com/](https://yiyan.baidu.com/)                   |\n",
    "| 中国 | 阿里云    | 通义千问  | 通义千问   | [https://tongyi.aliyun.com/qianwen](https://tongyi.aliyun.com/qianwen) |\n",
    "| 中国 | 智谱 AI   | 智谱清言  | GLM        | [https://chatglm.cn/](https://chatglm.cn/)                             |\n",
    "| 中国 | 月之暗面  | Kimi Chat | Moonshot   | [https://kimi.moonshot.cn/](https://kimi.moonshot.cn/)                 |\n",
    "| 中国 | MiniMax   | 星野      | abab       | [https://www.xingyeai.com/](https://www.xingyeai.com/)                 |\n",
    "| 中国 | 深度探索  | deepseek  | DeepSeek   | [https://chat.deepseek.com/](https://chat.deepseek.com/)               |\n",
    "\n",
    "本课第一个专业向要求：分清**对话产品**和**大模型**。\n",
    "\n",
    "<div class=\"alert alert-warning\">\n",
    "<b>建议：</b>\n",
    "<ul>\n",
    "<li>要有一个访问国外的「通道」，否则无法有顶级体验</li>\n",
    "<li>如果不能访问 ChatGPT，不是 ChatGPT Plus 会员，会非常遗憾</li>\n",
    "<li><a href=\"https://www.deepseek.com/\">DeepSeek</a> 是 ChatGPT 免费平替</li>\n",
    "</ul>\n",
    "</div>\n",
    "\n",
    "但是，千万别以为大模型只是聊天机器人。它的能量，远不止于此。\n"
   ]
  },
  {
   "cell_type": "markdown",
   "metadata": {
    "id": "1nOf4rvQ13si"
   },
   "source": [
    "### 按格式输出\n",
    "\n",
    "<img src=\"./gpt-ner.png\" style=\"margin-left: 0px\">\n",
    "\n",
    "### 分类\n",
    "\n",
    "<img src=\"./gpt-classification.png\" style=\"margin-left: 0px\" width=600px>\n",
    "\n",
    "### 聚类\n",
    "\n",
    "<img src=\"./gpt-clustering.png\" style=\"margin-left: 0px\" width=600px>\n",
    "\n",
    "### 持续互动\n",
    "\n",
    "<img src=\"./gpt-decision.png\" style=\"margin-left: 0px\" width=600px>\n",
    "\n",
    "### 技术相关问题\n",
    "\n",
    "<img src=\"./gpt-plan.png\" style=\"margin-left: 0px\" width=600px>\n"
   ]
  },
  {
   "cell_type": "markdown",
   "metadata": {
    "id": "1nOf4rvQ13si"
   },
   "source": [
    "### 可能一切问题，都能解决，所以是通用人工智能 AGI\n",
    "\n",
    "用 AI，要用「用人思维」：\n",
    "\n",
    "- 机器思维：研发了什么功能，就有什么功能。\n",
    "- 用人思维：给 ta 一个任务，总会有些反馈，或好或坏，惊喜或惊吓。\n",
    "\n",
    "<div class=\"alert alert-success\">\n",
    "<b>划重点：</b>\n",
    "<ol>\n",
    "<li>大模型就是一个函数，给输入，<b>生成</b>输出</li>\n",
    "<li>任何可以用语言描述的问题，都可以输入文本给大模型，就能<b>生成</b>问题的结果文本</li>\n",
    "<li>进而，任意数据，都可以输入给大模型，<b>生成</b>任意数据</li>\n",
    "</ol>\n",
    "</div>\n",
    "\n",
    "英伟达 CEO 黄仁勋 2024 年 6 月 2 日在 Computex 上的演讲提到各种模态数据的统一支持：\n",
    "\n",
    "![NIM](./nim.webp)\n"
   ]
  },
  {
   "cell_type": "markdown",
   "metadata": {},
   "source": [
    "## 大模型GPT时代：一切皆为向量\n",
    "\n",
    "<img src=\"./gpt-time.png\" style=\"margin-left: 0px\">\n",
    "\n"
   ]
  },
  {
   "cell_type": "markdown",
   "metadata": {},
   "source": [
    "## AI驱区动干行百业效率升级，大量行业场景应用价值仍待深挖\n",
    "<img src=\"./ai-current.png\" style=\"margin-left: 0px\">\n"
   ]
  },
  {
   "cell_type": "markdown",
   "metadata": {},
   "source": [
    "## 大模型现阶段落地情况综述\n",
    "\n",
    "\n",
    "```\n",
    "Killer App 没有影，\n",
    "AI 原生待证明。\n",
    "手握场景不着急，\n",
    "内部提效暗暗行。\n",
    "```\n"
   ]
  },
  {
   "cell_type": "markdown",
   "metadata": {},
   "source": [
    "### Killer App 没有影\n",
    "\n",
    "- AI 没有创造新的使用场景，只是旧场景的增强，所以没有 Killer App 的土壤\n",
    "- 可以乐观期待 Killer App，但别苦苦追求\n",
    "- 请忽略一切张嘴就是 Killer App 的人\n"
   ]
  },
  {
   "cell_type": "markdown",
   "metadata": {},
   "source": [
    "### AI 原生待证明\n",
    "\n",
    "**AI 原生**，是指产品的核心功能是 AI，而不是 AI 作为辅助功能。典型特点是，有 AI 后才出现。\n",
    "\n",
    "- 助手类，打不过 Siri 们\n",
    "  - [ChatGPT](https://chatgpt.com)\n",
    "  - [Kimi Chat](https://kimi.moonshot.cn)\n",
    "  - [文心一言](https://yiyan.baidu.com)\n",
    "  - [通义千问](https://tongyi.aliyun.com/qianwen)\n",
    "  - [智谱清言](https://chatglm.cn)\n",
    "  - ……\n",
    "- 搜索类，谷歌百度不会袖手旁观\n",
    "  - [Perplexity](https://perplexity.ai)\n",
    "  - [秘塔 AI](https://metaso.cn/)\n",
    "  - [Devv](https://devv.ai/)\n",
    "- 情感陪伴类，社交巨头正谨慎观察\n",
    "  - [Character.AI](https://character.ai)（已被 Google 人才收购）\n",
    "  - [星野](https://www.xingyeai.com/)\n",
    "  - [Replika](https://replika.ai)\n",
    "- 定制 Agent，商业模式探索中\n",
    "  - [ChatGPT GPTs](https://chatgpt.com/gpts)\n",
    "  - [扣子](https://www.coze.cn)\n",
    "  - [Dify](https://dify.ai)\n",
    "- AI编程 ，目前最成功的AI应用\n",
    "   - [Cursor](https://www.cursor.com/)\n",
    "   - [Windsurf](https://codeium.com/windsurf)\n",
    "   - [InsCode](https://inscode.csdn.net/)\n",
    "   - [marscode](https://www.marscode.cn/)\n"
   ]
  },
  {
   "cell_type": "markdown",
   "metadata": {},
   "source": [
    "### 手握场景不着急\n",
    "\n",
    "大玩家毫不落后，AI 带来的市场格局变化不大。\n",
    "\n",
    "- 拍照答题\n",
    "  - [Gauth](https://www.gauthmath.com/)\n",
    "  - [Question AI](https://www.questionai.com/)\n",
    "- 英语学习\n",
    "  - [多邻国](https://www.duolingo.cn/)\n",
    "  - [有道 Hi Echo](https://hiecho.youdao.com/)\n",
    "- 图像处理\n",
    "  - [美图秀秀](https://xiuxiu.meitu.com/)\n",
    "  - [Adobe Firefly](https://www.adobe.com/products/firefly.html)\n",
    "- 办公\n",
    "  - [WPS AI](https://ai.wps.cn/)\n",
    "  - [Copilot for Microsoft 365](https://adoption.microsoft.com/en-us/copilot/)\n",
    "  - [钉钉魔法棒](https://alidocs.dingtalk.com/i/p/Pl2AmoVbakq8Xdb9BpLmk7jYdkVEvm2g)\n",
    "  - [飞书智能伙伴](https://www.feishu.cn/product/ai_companion)\n",
    "  - [腾讯会议智能助手](https://meeting.tencent.com/ai/)\n",
    "- 编程\n",
    "  - [GitHub Copilot](https://github.com/features/copilot/)\n",
    "- 全家桶\n",
    "  - Google\n",
    "  - Microsoft\n",
    "  - 字节跳动\n"
   ]
  },
  {
   "cell_type": "markdown",
   "metadata": {},
   "source": [
    "### 内部提效暗暗行\n",
    "\n",
    "很多企业将大模型和业务相结合，取得了或大或小的效果\n",
    "\n",
    "- 营销\n",
    "  - AI 做营销创意，人再加工\n",
    "  - AI 批量生产营销素材\n",
    "  - 多语言翻译\n",
    "- 客服/销售\n",
    "  - 全 AI，适合本来没人做，AI 来补位\n",
    "  - 半 AI，适合本来有人做，AI 来提效\n",
    "- 办公\n",
    "  - 公文撰写/总结/翻译\n",
    "  - 知识库\n",
    "    - 内部客服\n",
    "    - 辅助决策\n",
    "  - 情报分析\n",
    "  - BI\n",
    "- 产品研发\n",
    "  - 创意、头脑风暴\n",
    "  - IT 研发提效\n"
   ]
  },
  {
   "cell_type": "markdown",
   "metadata": {},
   "source": [
    "### 怎样寻找企业中大模型落地场景\n",
    "\n",
    "#### 1. 业务流程解构\n",
    "\n",
    "- 明确目标 ：确定解构的目标是什么，是否是提升效率、降低成本，还是增强产品或服务的质量。\n",
    "- 分析现有流程 ：通过与相关部门和团队沟通，了解当前的业务流程，使用流程图、价值流图等工具。\n",
    "- 收集数据 ：收集与流程相关的数据，包括时间、资源、瓶颈等，识别出目前流程中的问题和改进点。\n",
    "- 识别关键环节：确定每个环节对业务结果的影响，识别哪些环节最能推动价值产生，哪些是浪费或低效的环节。\n",
    "\n",
    "#### 2. 绘制企业价值流图\n",
    "\n",
    "- 识别关键流程：将企业流程分为不同的关键环节，如供应链管理、生产流程、销售等。\n",
    "- 标记价值增值活动：明确哪些环节增加了实际价值，哪些是纯粹的支持性或非增值活动。\n",
    "- 流程中的浪费：识别流程中出现的浪费，如等待、过度处理、运输、库存、动作等。\n",
    "- 时间与资源：标注每个环节的时间、资源消耗，以及这些消耗如何影响最终的交付。\n",
    "- 改进方案：通过价值流图，找到需要优化的环节，提出改善措施。\n",
    "\n",
    "#### 3. 识别大模型应用场景\n",
    "\n",
    "- 数据驱动的决策：大模型可以帮助企业分析大量数据，提供更精确的决策支持，示例：通过AI分析客户数据，优化市场营销策略。\n",
    "- 自动化与智能化：大模型可以应用于自动化任务，如智能客服、语音识别、图像识别等，减少人工成本并提升效率。\n",
    "- 个性化服务：通过大模型实现个性化推荐系统，基于用户历史行为或偏好为其推荐个性化的产品或服务，提高客户满意度和转化率。\n",
    "- 预测与优化：利用大模型对历史数据进行分析，预测未来趋势，优化生产计划、库存管理等业务环节。\n",
    "- 业务流程改进：利用大模型分析当前业务流程中的瓶颈和效率低下的环节，提出改进措施，优化资源配置。\n"
   ]
  },
  {
   "cell_type": "markdown",
   "metadata": {},
   "source": [
    "## 实际应用案例：业务流程解构与企业大模型应用\n",
    "\n",
    "### 案例 1：智能客服系统优化\n",
    "\n",
    "#### 1. **业务流程分析**\n",
    "   - **现有流程**：客户通过电话或在线渠道联系客服，人工客服接听后处理问题。高峰时段，客服人员处理请求的速度较慢，且重复性问题占比高。\n",
    "   - **问题分析**：\n",
    "     - 客服响应时间长，客户体验差。\n",
    "     - 高重复性问题，人工客服效率低。\n",
    "     - 客服人员压力大，缺乏足够的资源。\n",
    "\n",
    "#### 2. **价值流图绘制**\n",
    "   - **关键流程**：\n",
    "     1. 客户请求 -> 人工客服接听 -> 问题解决 -> 客户反馈\n",
    "   - **问题识别**：\n",
    "     - 高峰期间等待时间长，人工客服需要处理大量重复问题，缺乏自动化支持。\n",
    "   - **改进点**：\n",
    "     - 引入自动化工具（如智能客服）减少人工干预，提升响应速度。\n",
    "\n",
    "#### 3. **应用大模型**\n",
    "   - **自然语言处理（NLP）**：使用大语言模型（如GPT）构建智能客服系统，支持自然语言理解和生成，自动回答常见问题。\n",
    "   - **工作流**：\n",
    "     - 使用NLP识别客户请求意图并进行分类。\n",
    "     - 常见问题通过智能问答系统自动解答。\n",
    "     - 将复杂或不常见问题转接给人工客服。\n",
    "   - **结果**：\n",
    "     - 客服响应时间减少50%，客户满意度提高。\n",
    "     - 人工客服压力减轻，更多精力投入到复杂问题处理上。\n",
    "\n",
    "---\n",
    "\n",
    "### 案例 2：智能供应链与需求预测优化\n",
    "\n",
    "#### 1. **业务流程分析**\n",
    "   - **现有流程**：企业生产与库存管理依赖传统的预测模型，按月或季度调整生产计划，库存管理不精确，容易造成库存积压或缺货。\n",
    "   - **问题分析**：\n",
    "     - 生产计划与实际需求不匹配，导致产能浪费或供应短缺。\n",
    "     - 库存管理不精准，影响现金流和运营成本。\n",
    "\n",
    "#### 2. **价值流图绘制**\n",
    "   - **关键流程**：\n",
    "     1. 需求预测 -> 生产计划 -> 原材料采购 -> 产品生产 -> 仓库管理 -> 客户交付\n",
    "   - **问题识别**：\n",
    "     - 传统需求预测精度低，库存管理滞后，无法快速响应市场变化。\n",
    "\n",
    "#### 3. **应用大模型**\n",
    "   - **机器学习模型**：利用历史销售数据、市场趋势和季节性变化等因素，应用大模型提高需求预测精度。\n",
    "   - **工作流**：\n",
    "     - 使用AI进行数据分析和需求预测。\n",
    "     - 自动调整生产排程和采购计划。\n",
    "     - 基于预测结果动态调整库存管理策略。\n",
    "   - **结果**：\n",
    "     - 需求预测准确率提高20%，库存积压减少30%。\n",
    "     - 生产和采购计划更加精准，运营成本降低。\n",
    "\n",
    "---\n",
    "\n",
    "### 案例 3：智能生产线质量控制\n",
    "\n",
    "#### 1. **业务流程分析**\n",
    "   - **现有流程**：生产线上的产品质量由人工检测，人工检测存在判断失误和效率低的问题，特别是在高产量情况下，无法及时发现质量问题。\n",
    "   - **问题分析**：\n",
    "     - 质量检测依赖人工，容易漏检或误判。\n",
    "     - 高生产速度下无法保证每个产品都得到充分检查，导致次品流入市场。\n",
    "\n",
    "#### 2. **价值流图绘制**\n",
    "   - **关键流程**：\n",
    "     1. 原材料入库 -> 生产加工 -> 质量检查 -> 产品包装 -> 交付\n",
    "   - **问题识别**：\n",
    "     - 人工检查的准确性和效率无法满足生产需求，生产质量无法稳定控制。\n",
    "\n",
    "#### 3. **应用大模型**\n",
    "   - **计算机视觉**：使用视觉大模型进行产品质量检测，自动识别产品缺陷。\n",
    "   - **工作流**：\n",
    "     - 使用大模型对生产线上每个产品进行图像识别，实时监控产品表面缺陷。\n",
    "     - 对有缺陷的产品进行标记，及时移出生产线，避免流入市场。\n",
    "     - AI实时反馈生产数据给生产线控制系统，优化生产流程。\n",
    "   - **结果**：\n",
    "     - 质量检测精度提升至99%，次品率减少80%。\n",
    "     - 整体生产效率提升30%，减少了人工检测的误差和漏检问题。\n",
    "\n",
    "---\n",
    "\n",
    "### 总结\n",
    "\n",
    "这三个案例展示了如何通过大模型优化企业业务流程。智能客服、供应链优化和生产线质量控制是大模型应用的重要领域，通过自动化、预测和优化，企业能够提高效率、降低成本，并提供更好的客户体验。通过结合大模型的强大能力，企业可以快速应对变化，提升竞争力。\n"
   ]
  },
  {
   "cell_type": "markdown",
   "metadata": {},
   "source": [
    "### 成功落地大模型五要素\n",
    "\n",
    "<div class=\"alert alert-success\">\n",
    "<b>成功落地大模型五要素</b>：\n",
    "<ol>\n",
    "<li>业务人员的积极</li>\n",
    "<li>对 AI 能力的认知</li>\n",
    "<li>业务团队自带编程能力</li>\n",
    "<li>小处着手</li>\n",
    "<li>老板的耐心</li>\n",
    "</ol>\n",
    "</div>\n",
    "\n",
    "### 如何找到落地场景\n",
    "\n",
    "<div class=\"alert alert-success\">\n",
    "<b>找落地场景的思路：</b>\n",
    "<ol>\n",
    "<li>从最熟悉的领域入手</li>\n",
    "<li>尽量找能用语言描述的任务</li>\n",
    "<li>别求大而全。将任务拆解，先解决小任务、小场景</li>\n",
    "<li>让 AI 学最厉害员工的能力，再让 ta 辅助其他员工，实现降本增效</li>\n",
    "</ol>\n",
    "</div>\n",
    "\n",
    "<div class=\"alert alert-warning\">\n",
    "<b>思考：</b>你的业务中，有哪些问题可能 AI 能解决？\n",
    "</div>\n"
   ]
  },
  {
   "cell_type": "markdown",
   "metadata": {},
   "source": [
    "### 工作机会在哪里？\n",
    "\n",
    "首先要知道：纯大模型岗位几乎是不存在的。\n",
    "\n",
    "可选：\n",
    "\n",
    "1. 独立开发者/创业\n",
    "2. 有科技属性的公司几乎所有岗位\n",
    "3. 传统企业跑通 AI 工作流，找全栈工程师定制化开发\n"
   ]
  },
  {
   "cell_type": "markdown",
   "metadata": {
    "id": "1nOf4rvQ13si"
   },
   "source": [
    "## 大模型是怎样工作的？\n",
    "\n",
    "### 通俗原理\n",
    "\n",
    "其实，它只是根据上文，猜下一个词（的概率）……\n",
    "\n",
    "<img src=\"./lm-autoregressive.gif\" style=\"margin-left: 0px\">\n"
   ]
  },
  {
   "cell_type": "markdown",
   "metadata": {
    "id": "1nOf4rvQ13si"
   },
   "source": [
    "OpenAI 的接口名就叫「completion」，也证明了其只会「生成」的本质。\n",
    "\n",
    "下面用程序演示「生成下一个字」。你可以自己修改 prompt 试试。还可以使用相同的 prompt 运行多次。\n"
   ]
  },
  {
   "cell_type": "code",
   "execution_count": 19,
   "metadata": {
    "scrolled": true
   },
   "outputs": [
    {
     "name": "stdout",
     "output_type": "stream",
     "text": [
      "\u001b[34m\u001b[0m\u001b[34m下\u001b[0m\u001b[34m班\u001b[0m\u001b[34m了\u001b[0m\u001b[34m，\u001b[0m\u001b[34m今天\u001b[0m\u001b[34m我\u001b[0m\u001b[34m很\u001b[0m\u001b[34m开心\u001b[0m\u001b[34m/\u001b[0m\u001b[34m疲\u001b[0m\u001b[34m惫\u001b[0m\u001b[34m/\u001b[0m\u001b[34m充\u001b[0m\u001b[34m实\u001b[0m\u001b[34m。不\u001b[0m\u001b[34m知道\u001b[0m\u001b[34m你\u001b[0m\u001b[34m今天\u001b[0m\u001b[34m过\u001b[0m\u001b[34m得\u001b[0m\u001b[34m怎么样\u001b[0m\u001b[34m呢\u001b[0m\u001b[34m？\u001b[0m\u001b[34m有什么\u001b[0m\u001b[34m特别\u001b[0m\u001b[34m的\u001b[0m\u001b[34m事情\u001b[0m\u001b[34m发生\u001b[0m\u001b[34m吗\u001b[0m\u001b[34m？\u001b[0m\u001b[34m\u001b[0m"
     ]
    }
   ],
   "source": [
    "from openai import OpenAI\n",
    "\n",
    "from dotenv import load_dotenv, find_dotenv\n",
    "_ = load_dotenv(find_dotenv())\n",
    "\n",
    "client = OpenAI()\n",
    "\n",
    "#prompt = \"今天我很\"  # 改我试试\n",
    "prompt = \"下班了，今天我很\"\n",
    "#prompt = \"放学了，今天我很\"\n",
    "#prompt = \"AGI 实现了，今天我很\"\n",
    "\n",
    "response = client.chat.completions.create(\n",
    "        model=\"gpt-4o-mini\",\n",
    "        messages=[{\"role\": \"user\", \"content\": prompt}],\n",
    "        stream=True\n",
    ")\n",
    "\n",
    "\n",
    "# 处理并打印流式响应内容\n",
    "for chunk in response:\n",
    "    print(f\"\\033[34m{chunk.choices[0].delta.content or ''}\\033[0m\", end=\"\")\n"
   ]
  },
  {
   "cell_type": "markdown",
   "metadata": {},
   "source": [
    "### 略深一点的通俗原理\n",
    "\n",
    "**训练**和**推理**是大模型工作的两个核心过程。\n",
    "\n",
    "用人类比，训练就是学，推理就是用。学以致用，如是也。\n",
    "\n",
    "例如，有下面训练数据：\n",
    "\n",
    "1. AI 正在改变我们的生活方式。\n",
    "2. **AI 技术在医疗领域有广泛应用。**\n",
    "3. AI 可以提高企业的生产效率。\n",
    "4. AI 算法能够预测市场趋势。\n",
    "5. AI 在自动驾驶汽车中扮演重要角色。\n",
    "6. AI 有助于个性化教育的发展。\n",
    "7. AI 机器人可以执行复杂的任务。\n",
    "8. **AI 技术正在推动智能家居的普及。**\n",
    "9. AI 在金融分析中发挥着关键作用。\n",
    "10. **AI 技术正逐步应用于艺术创作。**\n",
    "\n",
    "「AI」之后出现「技」的概率大于其它字。这些字之间的概率关系，就是大模型训练时学到的。\n",
    "\n",
    "用不严密但通俗的语言描述原理：\n",
    "\n",
    "<div class=\"alert alert-success\">\n",
    "训练：\n",
    "<ol>\n",
    "<li>大模型阅读了人类说过的所有的话。这就是「<b>机器学习</b>」</li>\n",
    "<li>训练过程会把不同 token 同时出现的概率存入「<b>神经网络</b>」文件。保存的数据就是「<b>参数</b>」，也叫「<b>权重</b>」</li>\n",
    "</ol>\n",
    "</div>\n",
    "\n",
    "<div class=\"alert alert-success\">\n",
    "推理：\n",
    "<ol>\n",
    "<li>我们给<b>推理程序</b>若干 token，程序会加载大模型权重，算出概率最高的下一个 token 是什么</li>\n",
    "<li>用生成的 token，再加上上文，就能继续生成下一个 token。以此类推，生成更多文字</li>\n",
    "</ol>\n",
    "</div>\n",
    "\n",
    "Token 是什么？\n",
    "\n",
    "1. 可能是一个英文单词，也可能是半个，三分之一个\n",
    "2. 可能是一个中文词，或者一个汉字，也可能是半个汉字，甚至三分之一个汉字\n",
    "3. 大模型在开训前，需要先训练一个 tokenizer 模型。它能把所有的文本，切成 token\n",
    "\n",
    "1 个英文字符 ≈ 0.3 个 token。\n",
    "1 个中文字符 ≈ 0.6 个 token。\n",
    "    \n",
    "<div class=\"alert alert-warning\">\n",
    "<b>思考：</b>\n",
    "<ol>\n",
    "<li>AI 做对的事，怎么用这个原理解释？</li>\n",
    "<li>AI 的幻觉，一本正经地胡说八道，怎么用这个原理解释？</li>\n",
    "</ol>\n",
    "</div>\n"
   ]
  },
  {
   "cell_type": "markdown",
   "metadata": {},
   "source": [
    "### 再深一点点\n",
    "\n",
    "- 这套生成机制的内核叫「Transformer 架构」\n",
    "- Transformer 是目前人工智能领域最广泛流行的架构，被用在各个领域\n"
   ]
  },
  {
   "cell_type": "markdown",
   "metadata": {},
   "source": [
    "### 机器学习  ≈  机器自动找一个函数\n",
    "<img src=\"./transform-1.png\" style=\"margin-left: 0px\">\n",
    "<img src=\"./transform-2.png\" style=\"margin-left: 0px\">\n",
    "\n",
    "### 函数的参数\n",
    "\n",
    "<img src=\"./transform-3.png\" style=\"margin-left: 0px\">\n",
    "\n",
    "\n",
    "### 找出函数的三步骤\n",
    "\n",
    "<img src=\"./transform-4.png\" style=\"margin-left: 0px\">\n",
    "\n",
    "\n",
    "### Transformer在做一个什么事情？\n",
    "\n",
    "<img src=\"./transform-5.png\" style=\"margin-left: 0px\">\n",
    "\n",
    "\n",
    "<img src=\"./transform-6.png\" style=\"margin-left: 0px\">\n",
    "\n",
    "### 标量、向量、矩阵、张量的关系\n",
    "- 点——标量（scalar）\n",
    "- 线——向量（vector）\n",
    "- 面——矩阵（matrix）\n",
    "- 体——张量（tensor）\n",
    "\n",
    "<img src=\"./transform-7.png\" style=\"margin-left: 0px\">\n",
    "\n",
    "### Embedding是什么？\n",
    "假设我们有一个句子：“The cat sat”\n",
    "<img src=\"./transform-9.png\" style=\"margin-left: 0px\">\n",
    "\n",
    "### Transformer核心：注意力机制\n",
    "<img src=\"./transform-10.png\" style=\"margin-left: 0px\">\n",
    "\n",
    "### 注意力机制中的Q、K、V \n",
    "\n",
    "<img src=\"./transform-11.png\" style=\"margin-left: 0px\">\n",
    "<img src=\"./transform-12.png\" style=\"margin-left: 0px\">\n",
    "\n",
    "\n",
    "<img src=\"./transform-13.png\" style=\"margin-left: 0px\">\n",
    "\n"
   ]
  },
  {
   "cell_type": "markdown",
   "metadata": {},
   "source": [
    "## 用好 AI 的核心心法\n",
    "\n",
    "OpenAI 首席科学家 Ilya Sutskever 说过：\n",
    "\n",
    "> 数字神经网络和人脑的生物神经网络，在数学原理上是一样的。\n",
    "\n",
    "所以，我们要：\n",
    "\n",
    "<div class=\"alert alert-success\">\n",
    "把 AI 当人看<br>\n",
    "把 AI 当人看<br>\n",
    "把 AI 当人看\n",
    "</div>\n",
    "\n",
    "凯文·凯利说了类似的观点：「和人怎么相处，就和 AI 怎么相处。」\n",
    "\n",
    "1. 用「当人看」来理解 AI\n",
    "2. 用「当人看」来控制 AI\n",
    "3. 用「当人看」来说服别人正确看待 AI 的不足\n",
    "\n",
    "当什么人呢？\n",
    "\n",
    "1. 学习时当老师\n",
    "2. 工作时当助手\n",
    "3. 休闲时当朋友\n",
    "\n",
    "这是贯彻整门课的心法，乃至我们与 AI 相伴的人生的心法。\n",
    "\n",
    "<div class=\"alert alert-success\">\n",
    "<b>使用大模型的好习惯：</b>\n",
    "\n",
    "- 使用大模型，不同的话题要开启新的会话；\n",
    "- 明确指令和问题：尽量使问题或指令简洁明确，避免多重含义或复杂结构，帮助模型更好理解和响应。\n",
    "- 分步进行：如果问题复杂，可以将问题拆解成几个小问题，逐步处理。这不仅能提高准确度，还能避免模型处理过于庞大的信息。\n",
    "- 上下文保留：在多个会话中，如果需要参考之前的对话，可以适当提及或复述关键点，避免丢失上下文。\n",
    "- 分配优先级：针对多个任务或问题，可以为每个话题分配优先级，先处理最重要或最紧急的内容。\n",
    "- 适应模型的限制：了解模型的处理能力和上下文长度限制，避免在同一会话中输入过长的文本，尤其是如果涉及大量信息时，分割问题会更有效。\n",
    "- 反馈循环：在与模型交互时，如果模型的回答不完全或不符合预期，可以及时提供反馈和补充说明，让模型逐步优化回答。\n",
    "- 使用特定的格式或模板：如果是处理特定类型的任务或问题（如代码、数学问题、写作任务），可以为输入提供特定的格式或模板，以帮助模型更准确地理解任务需求。\n",
    "\n",
    "</div>\n",
    "\n",
    "<div class=\"alert alert-warning\">\n",
    "<b>课堂实验：</b>你提个 AI 相关问题，我来用人类比\n",
    "</div>\n"
   ]
  },
  {
   "cell_type": "markdown",
   "metadata": {},
   "source": [
    "### 大模型技术的短板\n",
    "\n",
    "- **对时效性内容的处理：** 由于大型模型通常在某个时间点之前的数据上训练，它们可能无法处理最新的事件或信息。例如，对于最近发生的新闻事件或新兴的流行文化现象，模型可能缺乏理解，GPT4最近最新2023年4月。\n",
    "- **幻觉、不准确性和滥用风险：** 大型模型可能产生“幻觉”，即提供错误但看似合理的文本。这可能导致误信息的传播，甚至被用于非法或不道德目的。例如，恶意使用者可能利用模型生成看似来自可信出版物的文章，作为假新闻传播。\n",
    "- **泛化能力的局限性：** 泛化能力指的是一个模型在处理新的、未见过的数据时的表现能力虽然大型模型在多个任务上表现出色，但在处理特定、罕见或新颖的情况时可能表现不佳\n",
    "- **难以解释和透明性差：** 大型模型通常是“黑箱”，即使是模型的开发者也无法完全理解模型是如何配置自身以产生文本的。这导致了解释或解释AI/ML算法的新框架的发展，但由于模型规模的增大，解释性AI/ML方法变得日益复杂。\n",
    "\n"
   ]
  },
  {
   "cell_type": "markdown",
   "metadata": {},
   "source": [
    "## 大模型应用产品架构\n",
    "\n",
    "<img src=\"./business_arch.webp\" style=\"margin-left: 0px\" width=700px>\n",
    "\n",
    "Agent 模式还太超前，Copilot 是当前主流。\n",
    "\n",
    "实现 Copilot 的主流架构是**多 Agent 工作流**\n",
    "\n",
    "- 模仿人做事，将业务拆成工作流（workflow、SOP、pipeline）\n",
    "- 每个 Agent 负责一个工作流节点\n",
    "\n"
   ]
  },
  {
   "cell_type": "markdown",
   "metadata": {},
   "source": [
    "## 大模型应用技术架构\n",
    "\n",
    "<div class=\"alert alert-success\">\n",
    "大模型应用技术特点：<strong>门槛低，天花板高。</strong>\n",
    "</div>\n",
    "\n",
    "### 纯 Prompt\n",
    "\n",
    "- Prompt 是操作大模型的唯一接口\n",
    "- 当人看：你说一句，ta 回一句，你再说一句，ta 再回一句……\n",
    "\n",
    "<img src=\"./prompt_arch.png\" style=\"margin-left: 0px\" width=300px>\n"
   ]
  },
  {
   "cell_type": "markdown",
   "metadata": {},
   "source": [
    "#### Agent + Function Calling\n",
    "\n",
    "- Agent：AI 主动提要求\n",
    "- Function Calling：AI 要求执行某个函数\n",
    "- 当人看：你问 ta「我明天去杭州出差，要带伞吗？」，ta 让你先看天气预报，你看了告诉 ta，ta 再告诉你要不要带伞\n",
    "\n",
    "<img src=\"./func_arch.png\" style=\"margin-left: 0px\" width=600px>\n"
   ]
  },
  {
   "cell_type": "markdown",
   "metadata": {},
   "source": [
    "#### RAG（Retrieval-Augmented Generation）\n",
    "\n",
    "- Embeddings：把文字转换为更易于相似度计算的编码。这种编码叫**向量**\n",
    "- 向量数据库：把向量存起来，方便查找\n",
    "- 向量搜索：根据输入向量，找到最相似的向量\n",
    "- 当人看：考试答题时，到书上找相关内容，再结合题目组成答案，然后，就都忘了\n",
    "\n",
    "<img src=\"./embeddings_arch.png\" style=\"margin-left: 0px\" width=700px>\n"
   ]
  },
  {
   "cell_type": "markdown",
   "metadata": {},
   "source": [
    "#### Fine-tuning（精调/微调）\n",
    "\n",
    "当人看：努力学习考试内容，长期记住，活学活用。\n",
    "\n",
    "<img src=\"./tech_arch.png\" style=\"margin-left: 0px\" width=700px>\n"
   ]
  },
  {
   "cell_type": "markdown",
   "metadata": {},
   "source": [
    "### 如何选择技术路线\n"
   ]
  },
  {
   "cell_type": "markdown",
   "metadata": {},
   "source": [
    "面对一个需求，如何开始，如何选择技术方案？下面是个不严谨但常用思路。\n",
    "\n",
    "其中最容易被忽略的，是**准备测试数据**\n",
    "\n",
    "<img src=\"./tech_solution.png\" style=\"margin-left: 0px\" width=700px>\n",
    "\n",
    "值得尝试 Fine-tuning 的情况：\n",
    "\n",
    "1. 提高模型输出的稳定性\n",
    "2. 用户量大，降低推理成本的意义很大\n",
    "3. 提高大模型的生成速度\n",
    "4. 需要私有部署\n"
   ]
  },
  {
   "cell_type": "markdown",
   "metadata": {},
   "source": [
    "### 如何选择基础模型\n",
    "\n",
    "凡是问「哪个大模型最好？」的，都是不懂的。\n",
    "\n",
    "不妨反问：「有无论做什么，都表现最好的员工吗？」\n",
    "\n",
    "<div class=\"alert alert-success\">\n",
    "<b>划重点：</b>没有最好的大模型，只有最适合的大模型\n",
    "</div>\n",
    "\n",
    "基础模型选型，合规和安全是首要考量因素。\n",
    "\n",
    "| 需求             | 国外闭源大模型 | 国产闭源大模型 | 开源大模型 |\n",
    "| ---------------- | -------------- | -------------- | ---------- |\n",
    "| 国内 2C          | 🛑             | ✅             | ✅         |\n",
    "| 国内 2G          | 🛑             | ✅             | ✅         |\n",
    "| 国内 2B          | ✅             | ✅             | ✅         |\n",
    "| 出海             | ✅             | ✅             | ✅         |\n",
    "| 数据安全特别重要 | 🛑             | 🛑             | ✅         |\n",
    "\n",
    "然后用测试数据，在可以选择的模型里，做测试，找出最合适的。\n",
    "\n",
    "为什么不要依赖榜单？\n",
    "\n",
    "- 榜单已被应试教育污染。唯一还算值得相信的榜单：[LMSYS Chatbot Arena Leaderboard](https://chat.lmsys.org/?leaderboard)\n",
    "- 榜单体现的是整体能力。放到一件具体事情上，排名低的可能反倒更好\n",
    "- 榜单体现不出成本差异\n"
   ]
  },
  {
   "cell_type": "markdown",
   "metadata": {},
   "source": [
    "本课程主要以 OpenAI 为例，少量介绍国产大模型，微调会用开源大模型。因为：\n",
    "\n",
    "1. OpenAI 最流行，即便国内也是如此\n",
    "2. OpenAI 最先进\n",
    "3. 其它模型都在追赶和模仿 OpenAI\n",
    "   - 学会 OpenAI，其它模型触类旁通\n",
    "   - 反之，不一定\n"
   ]
  },
  {
   "cell_type": "markdown",
   "metadata": {
    "id": "1nOf4rvQ13si"
   },
   "source": [
    "## 体验编程调用 OpenAI API\n",
    "\n",
    "本课程主打语言是 Python，因为：\n",
    "\n",
    "1. Python 和 AI 是天生一对\n",
    "2. Python 是最容易学习的编程语言\n",
    "\n",
    "### 安装 OpenAI Python 库\n",
    "\n",
    "在命令行执行：\n",
    "\n",
    "```bash\n",
    "pip install --upgrade openai\n",
    "```\n"
   ]
  },
  {
   "cell_type": "markdown",
   "metadata": {},
   "source": [
    "### 发一条消息\n",
    "\n",
    "体验给大模型注入新知识的代码竟如此简单。\n"
   ]
  },
  {
   "cell_type": "code",
   "execution_count": 2,
   "metadata": {},
   "outputs": [
    {
     "name": "stdout",
     "output_type": "stream",
     "text": [
      "不，上课安排在每周二和周四。周末没有课程安排。\n"
     ]
    }
   ],
   "source": [
    "from openai import OpenAI\n",
    "\n",
    "# 加载 .env 文件到环境变量\n",
    "from dotenv import load_dotenv, find_dotenv\n",
    "_ = load_dotenv(find_dotenv())\n",
    "\n",
    "# 初始化 OpenAI 服务。会自动从环境变量加载 OPENAI_API_KEY 和 OPENAI_BASE_URL\n",
    "client = OpenAI()\n",
    "\n",
    "# 消息\n",
    "messages = [\n",
    "    {\n",
    "        \"role\": \"system\",\n",
    "        \"content\": \"你是AI助手小瓜，是 AGIClass.ai 的助教。这门课每周二、四上课。\"  # 注入新知识\n",
    "    },\n",
    "    {\n",
    "        \"role\": \"user\",\n",
    "        \"content\": \"周末上课吗？\"  # 问问题。可以改改试试\n",
    "    },\n",
    "\n",
    "]\n",
    "\n",
    "# 调用 GPT-4o-mini 模型\n",
    "chat_completion = client.chat.completions.create(\n",
    "    model=\"gpt-4o-mini\",\n",
    "    messages=messages\n",
    ")\n",
    "\n",
    "# 输出回复\n",
    "print(chat_completion.choices[0].message.content)"
   ]
  },
  {
   "cell_type": "markdown",
   "metadata": {},
   "source": [
    "## DeepSeek本地部署和应用\n",
    "\n",
    "- [ollama](https://ollama.com/library/deepseek-r1:8b)\n",
    "- [docker 桌面版](https://www.docker.com/)\n",
    "- open-webui 版本：dyrnq/open-webui:latest\n",
    "\n",
    "- **DeepSeek本地部署实战演示**\n",
    "\n",
    "\n",
    "\n",
    "### 未来展望\n",
    "- 大模型竞争的过程继续白热化，第一将会不断轮流切换\n",
    "- 多模态大模型将更加成熟，大模型的价格将不断走低\n",
    "- 大模型应用开发才是未来最值的关注的方向，应用为王"
   ]
  },
  {
   "cell_type": "markdown",
   "metadata": {},
   "source": [
    "## 作业\n",
    "\n",
    "发掘自己身边的大模型落地场景， 撰写自己的大模型应用构想，要求给出需求说明和期望的效果。"
   ]
  }
 ],
 "metadata": {
  "colab": {
   "provenance": [],
   "toc_visible": true
  },
  "kernelspec": {
   "display_name": "Python 3 (ipykernel)",
   "language": "python",
   "name": "python3"
  },
  "language_info": {
   "codemirror_mode": {
    "name": "ipython",
    "version": 3
   },
   "file_extension": ".py",
   "mimetype": "text/x-python",
   "name": "python",
   "nbconvert_exporter": "python",
   "pygments_lexer": "ipython3",
   "version": "3.11.4"
  }
 },
 "nbformat": 4,
 "nbformat_minor": 4
}
