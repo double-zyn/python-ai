{
 "cells": [
  {
   "cell_type": "markdown",
   "metadata": {},
   "source": [
    "# 02.流程控制"
   ]
  },
  {
   "cell_type": "markdown",
   "metadata": {},
   "source": [
    "## 3.1 条件语句"
   ]
  },
  {
   "cell_type": "markdown",
   "metadata": {},
   "source": [
    "### 3.1.1 if 语句"
   ]
  },
  {
   "cell_type": "code",
   "execution_count": null,
   "metadata": {},
   "outputs": [],
   "source": [
    "# if 语句示例\n",
    "# 1、每个条件后面要使用冒号 :，表示接下来是满足条件后要执行的语句块。\n",
    "# 2、使用缩进来划分语句块，相同缩进数的语句在一起组成一个语句块。\n",
    "age = 18\n",
    "\n",
    "if age >= 18:\n",
    "    print(\"成年\")\n",
    "\n",
    "name = 'xxx'\n",
    "if name == 'xx':\n",
    "    print('xx')\n",
    "else:\n",
    "    print('yyy')"
   ]
  },
  {
   "cell_type": "markdown",
   "metadata": {},
   "source": [
    "### 3.1.2 if-else 语句"
   ]
  },
  {
   "cell_type": "code",
   "execution_count": null,
   "metadata": {},
   "outputs": [],
   "source": [
    "# if-else 语句示例\n",
    "age = 16\n",
    "\n",
    "if age >= 18:\n",
    "    print(\"成年\")\n",
    "else:\n",
    "    print(\"未成年\")"
   ]
  },
  {
   "cell_type": "markdown",
   "metadata": {},
   "source": [
    "### 3.1.3 if-elif-else 语句"
   ]
  },
  {
   "cell_type": "code",
   "execution_count": null,
   "metadata": {},
   "outputs": [],
   "source": [
    "# if-elif-else 语句示例\n",
    "score = 75\n",
    "\n",
    "if score >= 90:\n",
    "    print(\"优秀\")\n",
    "elif score >= 70:\n",
    "    print(\"良好\")\n",
    "else:\n",
    "    print(\"需努力\")\n",
    "\n",
    "name = 'v'\n",
    "if name == 'jx':\n",
    "    print(\"love\")\n",
    "elif name == '夹心':\n",
    "    print(\"-_-\")\n",
    "else:\n",
    "    print(\"xxx\")"
   ]
  },
  {
   "cell_type": "markdown",
   "metadata": {},
   "source": [
    "### 3.1.4 嵌套条件语句"
   ]
  },
  {
   "cell_type": "code",
   "execution_count": null,
   "metadata": {},
   "outputs": [],
   "source": [
    "# 嵌套条件语句示例\n",
    "age = 20\n",
    "has_license = True\n",
    "\n",
    "if age >= 18:\n",
    "    if has_license:\n",
    "        print(\"可以开车\")\n",
    "    else:\n",
    "        print(\"不能开车\")\n",
    "else:\n",
    "    print(\"不能开车\")"
   ]
  },
  {
   "cell_type": "markdown",
   "metadata": {},
   "source": [
    "## 3.2 循环语句"
   ]
  },
  {
   "cell_type": "markdown",
   "metadata": {},
   "source": [
    "### 3.2.1 while 循环"
   ]
  },
  {
   "cell_type": "code",
   "execution_count": null,
   "metadata": {},
   "outputs": [],
   "source": [
    "# while 循环示例\n",
    "count = 0\n",
    "\n",
    "while count < 5:\n",
    "    print(count)\n",
    "    count += 1\n",
    "print(\"---------------\")\n",
    "while count > 0:\n",
    "    print(count)\n",
    "    count -= 1"
   ]
  },
  {
   "cell_type": "markdown",
   "metadata": {},
   "source": [
    "### 3.2.2 for 循环"
   ]
  },
  {
   "cell_type": "code",
   "execution_count": null,
   "metadata": {},
   "outputs": [],
   "source": [
    "# for 循环示例\n",
    "fruits = [\"苹果\", \"香蕉\", \"橘子\"]\n",
    "\n",
    "for fruit in fruits:\n",
    "    print(fruit)\n",
    "\n",
    "strs = [\"jx\",\"夹心\",\"xx\"]\n",
    "for str in strs:\n",
    "    print(str)"
   ]
  },
  {
   "cell_type": "markdown",
   "metadata": {},
   "source": [
    "### 3.2.3 range() 函数"
   ]
  },
  {
   "cell_type": "code",
   "execution_count": null,
   "metadata": {},
   "outputs": [],
   "source": [
    "# range() 函数示例\n",
    "# range() 是 Python 中一个非常常用的内置函数，用于生成一系列的数字。\n",
    "# 它通常用于循环（如 for 循环）中，提供一种高效的方式来遍历一个范围内的数字。\n",
    "\n",
    "# range(start, stop, step)\n",
    "# start（可选）：序列的起始值，默认为 0。\n",
    "# stop（必填）：序列的终止值（不包含该值）。\n",
    "# step（可选）：步长，默认为 1。\n",
    "for i in range(5):\n",
    "    print(i)"
   ]
  },
  {
   "cell_type": "markdown",
   "metadata": {},
   "source": [
    "### 3.2.4 循环控制语句 (break, continue)"
   ]
  },
  {
   "cell_type": "code",
   "execution_count": null,
   "metadata": {},
   "outputs": [],
   "source": [
    "# break 语句示例\n",
    "for i in range(10):\n",
    "    if i == 5:\n",
    "        break\n",
    "    print(i)\n",
    "print(\"-------\")\n",
    "# continue 语句示例\n",
    "for i in range(10):\n",
    "    if i % 2 == 0:\n",
    "        continue\n",
    "    print(i)"
   ]
  }
 ],
 "metadata": {
  "kernelspec": {
   "display_name": "Python 3",
   "language": "python",
   "name": "python3"
  },
  "language_info": {
   "codemirror_mode": {
    "name": "ipython",
    "version": 3
   },
   "file_extension": ".py",
   "mimetype": "text/x-python",
   "name": "python",
   "nbconvert_exporter": "python",
   "pygments_lexer": "ipython3",
   "version": "3.11.4"
  }
 },
 "nbformat": 4,
 "nbformat_minor": 4
}
