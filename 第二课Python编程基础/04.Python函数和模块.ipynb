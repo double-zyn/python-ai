{
 "cells": [
  {
   "cell_type": "markdown",
   "id": "c5b9c70a",
   "metadata": {},
   "source": [
    "# 04.Python函数与模块"
   ]
  },
  {
   "cell_type": "markdown",
   "id": "fb201d9a",
   "metadata": {},
   "source": [
    "## 1. Python函数基础\n",
    "### 什么是函数\n",
    "- 定义函数的语法\n",
    "- 函数的组成部分（函数名、参数、返回值）\n",
    "- 示例代码："
   ]
  },
  {
   "cell_type": "code",
   "execution_count": null,
   "id": "07366781-154f-4cb6-abdb-5652555a75c4",
   "metadata": {},
   "outputs": [
    {
     "name": "stdout",
     "output_type": "stream",
     "text": [
      "Hello, Alice!\n"
     ]
    }
   ],
   "source": [
    "def greet(name):\n",
    "    #  函数体内使用了 f-string（格式化字符串）来生成问候语\n",
    "     return f\"Hello, {name}!\"\n",
    "\n",
    "print(greet(\"Alice\"))"
   ]
  },
  {
   "cell_type": "markdown",
   "id": "219dfaf0",
   "metadata": {},
   "source": [
    "## 2. 函数参数与返回值\n",
    "### 位置参数、默认参数\n",
    "- 示例代码："
   ]
  },
  {
   "cell_type": "code",
   "execution_count": 3,
   "id": "d84d89af-ded3-452d-9f80-702755489318",
   "metadata": {},
   "outputs": [
    {
     "name": "stdout",
     "output_type": "stream",
     "text": [
      "Hello, Alice!\n",
      "Good morning, Bob!\n"
     ]
    }
   ],
   "source": [
    "def greet(name, message=\"Hello\"):\n",
    "     return f\"{message}, {name}!\"\n",
    "\n",
    "print(greet(\"Alice\"))\n",
    "print(greet(\"Bob\", \"Good morning\"))"
   ]
  },
  {
   "cell_type": "markdown",
   "id": "61ebf3ac",
   "metadata": {},
   "source": [
    "### 返回值\n",
    "- 单一返回值和多重返回值\n",
    "- 示例代码："
   ]
  },
  {
   "cell_type": "code",
   "execution_count": 3,
   "id": "60284d7d-1775-4087-99f3-845c91cf6bce",
   "metadata": {},
   "outputs": [
    {
     "name": "stdout",
     "output_type": "stream",
     "text": [
      "15 5\n"
     ]
    }
   ],
   "source": [
    "def add_and_subtract(x, y):\n",
    "     return x + y, x - y\n",
    "\n",
    "sum_result, diff_result = add_and_subtract(10, 5)\n",
    "print(sum_result, diff_result)"
   ]
  },
  {
   "cell_type": "markdown",
   "id": "4e402059",
   "metadata": {},
   "source": [
    "## 3. 函数作用域\n",
    "### 局部变量和全局变量\n",
    "- 局部作用域和全局作用域\n",
    "- 示例代码："
   ]
  },
  {
   "cell_type": "code",
   "execution_count": null,
   "id": "11272374-8140-4639-a997-97c5fffc6e64",
   "metadata": {},
   "outputs": [
    {
     "name": "stdout",
     "output_type": "stream",
     "text": [
      "10\n",
      "20\n"
     ]
    }
   ],
   "source": [
    "def my_function():\n",
    "     x = 10  # 局部变量\n",
    "     print(x)\n",
    "\n",
    "x = 20  # 全局变量\n",
    "my_function()\n",
    "print(x)"
   ]
  },
  {
   "cell_type": "markdown",
   "id": "292e1d2b",
   "metadata": {},
   "source": [
    "## 4. 函数的高级应用\n",
    "### Lambda函数（匿名函数）\n",
    "- Lambda表达式的使用场景\n",
    "- 示例代码："
   ]
  },
  {
   "cell_type": "code",
   "execution_count": 4,
   "id": "733f17d3-22ff-4801-b69e-95acbd898b8b",
   "metadata": {},
   "outputs": [
    {
     "name": "stdout",
     "output_type": "stream",
     "text": [
      "8\n"
     ]
    }
   ],
   "source": [
    "# lambda 参数列表: 表达式\n",
    "add = lambda x, y: x + y\n",
    "print(add(5, 3))"
   ]
  },
  {
   "cell_type": "markdown",
   "id": "92b53d0f",
   "metadata": {},
   "source": [
    "### 函数作为参数传递\n",
    "- 将函数作为参数传递给其他函数\n",
    "- 示例代码："
   ]
  },
  {
   "cell_type": "code",
   "execution_count": 11,
   "id": "42769f17-6d3c-4590-a2c7-99c98399db53",
   "metadata": {},
   "outputs": [
    {
     "name": "stdout",
     "output_type": "stream",
     "text": [
      "25\n"
     ]
    }
   ],
   "source": [
    "def apply_function(func, value):\n",
    "     return func(value)\n",
    "\n",
    "print(apply_function(lambda x: x * x, 5))  # 输出25"
   ]
  },
  {
   "cell_type": "markdown",
   "id": "db9fadf0",
   "metadata": {},
   "source": [
    "## 5. Python模块介绍\n",
    "### 什么是模块\n",
    "- 模块的定义与导入\n",
    "- 使用 `import` 和 `from ... import` 导入模块\n",
    "- 示例代码："
   ]
  },
  {
   "cell_type": "code",
   "execution_count": 5,
   "id": "f1df2c09-bbd8-43b9-b709-c4dc14572d18",
   "metadata": {},
   "outputs": [
    {
     "name": "stdout",
     "output_type": "stream",
     "text": [
      "4.0\n",
      "3.141592653589793\n"
     ]
    }
   ],
   "source": [
    "import math\n",
    "print(math.sqrt(16))\n",
    "\n",
    "from math import pi\n",
    "print(pi)"
   ]
  },
  {
   "cell_type": "markdown",
   "id": "f096b1a2",
   "metadata": {},
   "source": [
    "## 6. 自定义模块\n",
    "### 如何创建自己的模块\n",
    "- 创建Python文件作为模块\n",
    "- 示例代码：\n",
    "1. 创建文件 `mymodule.py`：\n",
    "```python\n",
    " def greet(name):\n",
    "     return f\"Hello, {name}!\"\n",
    "```\n",
    "2. 在主程序中使用该模块：\n",
    "```python\n",
    "import mymodule\n",
    "print(mymodule.greet(\"Alice\"))\n",
    "```\n",
    "## 7. 模块的高级使用\n",
    "### 模块的别名\n",
    "- 使用 `as` 给模块或函数起别名\n",
    "- 示例代码："
   ]
  },
  {
   "cell_type": "code",
   "execution_count": null,
   "id": "e4bfa4b6-ae9a-445b-9143-9e44872b6bb2",
   "metadata": {},
   "outputs": [],
   "source": [
    "import math as m\n",
    "print(m.sqrt(25))"
   ]
  },
  {
   "cell_type": "markdown",
   "id": "cb16e067",
   "metadata": {},
   "source": [
    "### 模块的导入技巧\n",
    "- `from ... import *` 导入模块所有内容（不推荐使用）\n",
    "- 示例代码："
   ]
  },
  {
   "cell_type": "code",
   "execution_count": null,
   "id": "ffb19486-89fe-4a43-9a1b-b699a54ef7da",
   "metadata": {},
   "outputs": [],
   "source": [
    "from math import *\n",
    "print(sqrt(25))"
   ]
  },
  {
   "cell_type": "markdown",
   "id": "22ab9548",
   "metadata": {},
   "source": [
    "## 8. Python内置模块\n",
    "### 常见的内置模块\n",
    "- `os` 模块：文件和目录操作\n",
    "- `random` 模块：生成随机数\n",
    "- 示例代码："
   ]
  },
  {
   "cell_type": "code",
   "execution_count": 6,
   "id": "a0ab93af-f851-44a7-9bc6-34d9b3bcdaf8",
   "metadata": {},
   "outputs": [
    {
     "name": "stdout",
     "output_type": "stream",
     "text": [
      "d:\\data\\study\\AI\\AI大模型全栈工程师\\第二课Python编程基础.mp4\\02-python\n",
      "8\n"
     ]
    }
   ],
   "source": [
    "import os\n",
    "print(os.getcwd())\n",
    "\n",
    "import random\n",
    "print(random.randint(1, 10))"
   ]
  },
  {
   "cell_type": "markdown",
   "id": "867a8389",
   "metadata": {},
   "source": [
    "课后练习：\n",
    "  - 编写一个函数，计算给定列表中所有数字的平方，并返回一个新列表。\n",
    "  - 创建一个模块，包含计算矩形面积的函数，导入该模块并计算多个矩形的面积。"
   ]
  }
 ],
 "metadata": {
  "kernelspec": {
   "display_name": "Python 3",
   "language": "python",
   "name": "python3"
  },
  "language_info": {
   "codemirror_mode": {
    "name": "ipython",
    "version": 3
   },
   "file_extension": ".py",
   "mimetype": "text/x-python",
   "name": "python",
   "nbconvert_exporter": "python",
   "pygments_lexer": "ipython3",
   "version": "3.11.4"
  }
 },
 "nbformat": 4,
 "nbformat_minor": 5
}
