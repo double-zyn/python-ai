{
 "cells": [
  {
   "cell_type": "markdown",
   "id": "1185b680",
   "metadata": {},
   "source": [
    "# 05.Python面向对象编程（OOP）"
   ]
  },
  {
   "cell_type": "markdown",
   "id": "b13f492d",
   "metadata": {},
   "source": [
    "## 1. 类与对象（Class and Object）\n",
    "- **类**：类是面向对象编程的核心概念，它是对象的蓝图或模板。\n",
    "- **对象**：对象是类的实例，通过类定义的属性和方法实现特定功能。\n",
    "\n",
    "**示例代码**：\n"
   ]
  },
  {
   "cell_type": "code",
   "execution_count": 1,
   "id": "9122c860-1083-44d0-932b-f3d2518959b0",
   "metadata": {},
   "outputs": [
    {
     "name": "stdout",
     "output_type": "stream",
     "text": [
      "Hello, my name is 张三 and I am 30 years old.\n"
     ]
    }
   ],
   "source": [
    "class Person:\n",
    "    def __init__(self, name, age):  # 初始化方法\n",
    "        self.name = name  # 对象的属性\n",
    "        self.age = age\n",
    "\n",
    "    def greet(self):  # 对象的方法\n",
    "        print(f\"Hello, my name is {self.name} and I am {self.age} years old.\")\n",
    "\n",
    "# 创建对象\n",
    "person1 = Person(\"张三\", 30)\n",
    "person1.greet()  # 调用对象的方法"
   ]
  },
  {
   "cell_type": "markdown",
   "id": "2b9fd78e",
   "metadata": {},
   "source": [
    "## 3. 封装（Encapsulation）\n",
    "- **封装**是将数据（属性）和操作数据的代码（方法）绑定在一起，对外部隐藏具体的实现细节，只暴露必要的接口。\n",
    "- 可以通过访问控制来限制对属性的直接访问。\n",
    "\n",
    "**示例代码**："
   ]
  },
  {
   "cell_type": "code",
   "execution_count": 2,
   "id": "46dd1e81-9795-44b5-bbf9-0e5a970a9d64",
   "metadata": {},
   "outputs": [
    {
     "name": "stdout",
     "output_type": "stream",
     "text": [
      "150\n"
     ]
    }
   ],
   "source": [
    "class BankAccount:\n",
    "    def __init__(self, balance):\n",
    "        self.__balance = balance  # __balance 是私有属性\n",
    "\n",
    "    def deposit(self, amount):\n",
    "        self.__balance += amount\n",
    "\n",
    "    def withdraw(self, amount):\n",
    "        if self.__balance >= amount:\n",
    "            self.__balance -= amount\n",
    "        else:\n",
    "            print(\"Insufficient funds\")\n",
    "\n",
    "    def get_balance(self):\n",
    "        return self.__balance\n",
    "\n",
    "account = BankAccount(100)\n",
    "account.deposit(50)\n",
    "print(account.get_balance())  # 访问公有方法获取余额"
   ]
  },
  {
   "cell_type": "markdown",
   "id": "059edf35",
   "metadata": {},
   "source": [
    "## 4. 继承（Inheritance）\n",
    "- **继承**是面向对象的一种机制，通过继承可以使一个类获得另一个类的属性和方法，从而实现代码复用。\n",
    "- 子类可以扩展父类的功能，或者覆盖父类的方法。\n",
    "\n",
    "**示例代码**："
   ]
  },
  {
   "cell_type": "code",
   "execution_count": 3,
   "id": "5b942a3f-861b-4b90-b04b-3c10260f4eb5",
   "metadata": {},
   "outputs": [
    {
     "name": "stdout",
     "output_type": "stream",
     "text": [
      "Woof!\n"
     ]
    }
   ],
   "source": [
    "class Animal:\n",
    "    def speak(self):\n",
    "        print(\"Animal speaking\")\n",
    "\n",
    "class Dog(Animal):  # Dog 继承自 Animal\n",
    "    def speak(self):  # 覆盖父类的方法\n",
    "        print(\"Woof!\")\n",
    "\n",
    "# 创建对象\n",
    "dog = Dog()\n",
    "dog.speak()  # 输出 \"Woof!\""
   ]
  },
  {
   "cell_type": "markdown",
   "id": "12603aad",
   "metadata": {},
   "source": [
    "## 5. 多态（Polymorphism）\n",
    "- **多态**允许不同类的对象调用相同的方法时，表现出不同的行为。Python通过方法的重写来实现多态。\n",
    "- 多态使得程序能够更加灵活，可以使用相同的方法操作不同类型的对象。\n",
    "\n",
    "**示例代码**：\n",
    "class Cat(Animal):\n",
    "    def speak(self):\n",
    "        print(\"Meow!\")\n",
    "\n",
    "animals = [Dog(), Cat()]\n",
    "for animal in animals:\n",
    "    animal.speak()  # 不同的对象调用同一方法，表现不同的行为"
   ]
  },
  {
   "cell_type": "markdown",
   "id": "b2613465",
   "metadata": {},
   "source": [
    "## 6. 抽象（Abstraction）\n",
    "- **抽象**是隐藏复杂的实现细节，只暴露简单的接口。通过抽象类，可以定义必须在子类中实现的方法，而不提供具体的实现。\n",
    "- 抽象类不能直接实例化，只能作为子类的基类。\n",
    "\n",
    "**示例代码**："
   ]
  },
  {
   "cell_type": "code",
   "execution_count": 2,
   "id": "285807ad-b262-4d84-9779-6ebb58c36073",
   "metadata": {},
   "outputs": [
    {
     "name": "stdout",
     "output_type": "stream",
     "text": [
      "78.5\n"
     ]
    }
   ],
   "source": [
    "from abc import ABC, abstractmethod\n",
    "\n",
    "class Shape(ABC):  # 抽象类\n",
    "    @abstractmethod\n",
    "    def area(self):  # 抽象方法\n",
    "        pass\n",
    "\n",
    "class Circle(Shape):\n",
    "    def __init__(self, radius):\n",
    "        self.radius = radius\n",
    "\n",
    "    def area(self):\n",
    "        return 3.14 * self.radius * self.radius\n",
    "\n",
    "circle = Circle(5)\n",
    "print(circle.area())  # 输出圆的面积"
   ]
  },
  {
   "cell_type": "markdown",
   "id": "61cfd795",
   "metadata": {},
   "source": [
    "## 7. 类的其他特性\n",
    "- **类方法和静态方法**：类方法使用 `@classmethod` 装饰器，静态方法使用 `@staticmethod` 装饰器。\n",
    "\n",
    "**示例代码**："
   ]
  },
  {
   "cell_type": "code",
   "execution_count": 6,
   "id": "b7f7ba29-4634-46b1-a535-b51ba9d2798b",
   "metadata": {},
   "outputs": [
    {
     "name": "stdout",
     "output_type": "stream",
     "text": [
      "This is a class method.\n",
      "This is a static method.\n"
     ]
    }
   ],
   "source": [
    "class MyClass:\n",
    "    @classmethod\n",
    "    def class_method(cls):\n",
    "        print(\"This is a class method.\")\n",
    "\n",
    "    @staticmethod\n",
    "    def static_method():\n",
    "        print(\"This is a static method.\")\n",
    "\n",
    "MyClass.class_method()  # 通过类调用类方法\n",
    "MyClass.static_method()  # 通过类调用静态方法"
   ]
  },
  {
   "cell_type": "markdown",
   "id": "3a1fa3a0",
   "metadata": {},
   "source": [
    "## 8. 小结与实践\n",
    "- 回顾面向对象编程的四大基本特性：封装、继承、多态和抽象。\n",
    "- 实践题：\n",
    "  1. 创建一个 `Car` 类，具有属性 `brand` 和 `year`，并定义方法 `start` 和 `stop`。\n",
    "  2. 创建一个 `Employee` 类，包含员工的姓名、工号、薪水等属性，设计一个方法计算年薪。\n",
    "  3. 设计一个 `Shape` 类和 `Rectangle`、`Circle` 类，计算矩形和圆形的面积。"
   ]
  }
 ],
 "metadata": {
  "kernelspec": {
   "display_name": "Python 3",
   "language": "python",
   "name": "python3"
  },
  "language_info": {
   "codemirror_mode": {
    "name": "ipython",
    "version": 3
   },
   "file_extension": ".py",
   "mimetype": "text/x-python",
   "name": "python",
   "nbconvert_exporter": "python",
   "pygments_lexer": "ipython3",
   "version": "3.11.4"
  }
 },
 "nbformat": 4,
 "nbformat_minor": 5
}
