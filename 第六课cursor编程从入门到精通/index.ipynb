{
 "cells": [
  {
   "cell_type": "markdown",
   "id": "827cc06e-efb9-4bc8-b14e-0621d0295ccd",
   "metadata": {},
   "source": [
    "# Cursor编程-从入门到精通\n",
    "\n",
    "## 💡 这节课会带给你\n",
    "\n",
    "\n",
    "1. Cursor的安装与配置\n",
    "    - 安装Cursor编辑器\n",
    "    - 配置工作空间和扩展\n",
    "    - 基础快捷键\n",
    "\n",
    "\n",
    "2. 小牛试刀：用Cursor写一个浏览器插件-划词翻译\n",
    "    - 需求定义：Prompt描述\n",
    "    - 用Cursor创建初始项目\n",
    "    - 用Chrome浏览器加载项目\n",
    "    - 通过Cursor完善项目细节和修复问题\n",
    "    - 打包分享自己的作品\n",
    "\n",
    "\n",
    "3. Cursor高级技巧\n",
    "    - 代码库索引\n",
    "    - AI审查和代码重构\n",
    "    - 隐私模式\n",
    "    - 模型选择\n",
    "    - 自定义Curosr Rules\n",
    "    - 将外部文档作为知识库进行问答\n",
    "    - 配置 MCP Servers\n",
    "\n",
    "\n",
    "\n",
    "4. 综合实战：用Cursor写一个取名字的AI应用\n",
    "    - Curosr Rules设置\n",
    "    - 项目Prompt描述\n",
    "    - 项目初始化\n",
    "    - AI编程和调试\n",
    "    - 发布自己的应用\n",
    "\n",
    "开始上课！\n"
   ]
  },
  {
   "cell_type": "markdown",
   "id": "23e6c59a-2bc5-44b3-a17a-1cdc42a72986",
   "metadata": {},
   "source": [
    "# Cursor的安装与配置"
   ]
  },
  {
   "cell_type": "markdown",
   "id": "917099bf-9c05-4bbf-ad61-d019d427e90b",
   "metadata": {},
   "source": [
    "## 1.安装Cursor编辑器"
   ]
  },
  {
   "cell_type": "markdown",
   "id": "b29990c9-bea2-47de-92ae-85232eec9adf",
   "metadata": {},
   "source": [
    "cursor直接在官网下载安装即可，并且注册账号，在第一次打开cursor时输入账号信息即可。\n",
    "\n",
    "**cursor官网：**  [http://www.cursor.com](http://www.cursor.com)\n",
    "\n",
    "下载页面：\n",
    "\n",
    "<img src=\"cursor-download.png\"  width=800px>\n",
    "\n"
   ]
  },
  {
   "cell_type": "markdown",
   "id": "97657b6e-63c3-4ded-8d38-94f80a948011",
   "metadata": {},
   "source": [
    "在注册完成后，你会有一个专属账号，每个账号的模型调用次数是有限的，其中GPT4和Claude3.5的免费调用次数为500次，其它比较弱的模型的调用次数无上限."
   ]
  },
  {
   "cell_type": "markdown",
   "id": "24e8cd6f-c13f-4abe-abc0-471180d9550e",
   "metadata": {},
   "source": [
    "<img src=\"cursor-setting.png\"  width=800px>"
   ]
  },
  {
   "cell_type": "markdown",
   "id": "3e3b9e34-134a-471e-bd28-da875f6f2299",
   "metadata": {},
   "source": [
    "1. 打开扩展，搜索 chinese ，然后安装\n",
    "2. 点击最上面的框，输入>language，选择配置简体中文。"
   ]
  },
  {
   "cell_type": "markdown",
   "id": "8a830b4a-fed2-4a14-a275-e1a5196e2738",
   "metadata": {},
   "source": [
    "<img src=\"cursor-ext-language.png\"  width=800px>\n",
    "<img src=\"cursor-lang.png\"  width=800px>\n",
    "<img src=\"cursor-change-lang.png\"  width=800px>"
   ]
  },
  {
   "cell_type": "markdown",
   "id": "5b8072e7-11c8-4994-9257-a23a960bdbe5",
   "metadata": {},
   "source": [
    "## 2.配置工作空间和扩展"
   ]
  },
  {
   "cell_type": "markdown",
   "id": "c2d9c57f-30ba-4cda-986d-eb2538284c75",
   "metadata": {},
   "source": [
    "- markdown格式支持\n",
    "- jupyter notebook支持\n",
    "- Python支持"
   ]
  },
  {
   "cell_type": "markdown",
   "id": "6ed1915a-7ec9-4e80-bad7-b152d0911283",
   "metadata": {},
   "source": [
    "## 3.基础快捷键"
   ]
  },
  {
   "cell_type": "markdown",
   "id": "65b8d284-cb96-4425-915d-efa3423280e3",
   "metadata": {},
   "source": [
    "cursor最常用的快捷键就四个，非常好记：\n",
    "\n",
    "- Tab：自动填充\n",
    "\n",
    "- Ctrl+K：编辑生成模式，编辑和生成代码片段\n",
    "\n",
    "- Ctrl+L：聊天模式，回答用户关于代码和整个项目的问题，也可以编辑代码（功能最全面）\n",
    "\n",
    "- Ctrl+i：Composer模式，编辑整个项目代码（跨文件编辑代码）\n",
    "\n",
    "首先介绍Tab快捷键的使用，如果cursor补全代码，使用Tab键接受即可。\n"
   ]
  },
  {
   "cell_type": "markdown",
   "id": "5802b7c0-4dd4-4559-90c0-e40c4870081b",
   "metadata": {},
   "source": [
    "# 小牛试刀：用Cursor写一个浏览器插件-划词翻译"
   ]
  },
  {
   "cell_type": "markdown",
   "id": "1124f84a-940d-42d2-a3b0-500c6eaa18e8",
   "metadata": {},
   "source": [
    "## 1.需求定义：Prompt描述\n",
    "\n",
    "插件名称: QuickTranslator\n",
    "\n",
    "需求概述: 开发一款支持主流浏览器的划词翻译插件，实现选中文本即时翻译、多语言支持、快捷键操作等功能。\n",
    "\n",
    "### 核心功能需求\n",
    "\n",
    "#### 划词翻译\n",
    "\n",
    "- 用户选中网页文本后自动弹出翻译按钮（或快捷键触发）\n",
    "\n",
    "- 展示浮动翻译窗口（带半透明背景）\n",
    "\n",
    "- 支持500字符以内的即时翻译\n",
    "\n",
    "- 自动识别源语言，目标语言可配置\n",
    "\n",
    "#### 多语言支持\n",
    "\n",
    "- 初始支持中英互译，可通过配置扩展\n",
    "\n",
    "- 语言列表：英语、中文、日语、韩语、法语、西班牙语（至少6种）\n",
    "\n",
    "#### 用户界面\n",
    "\n",
    "- 翻译弹窗样式：\n",
    "\n",
    "- 显示原文+翻译结果（双栏布局）\n",
    "\n",
    "- 字体大小调节按钮（预设三档）\n",
    "\n",
    "- 复制翻译结果按钮\n",
    "\n",
    "- 语音朗读按钮（支持原文/译文）\n",
    "\n",
    "#### 设置页面：\n",
    "\n",
    "- 目标语言选择下拉菜单\n",
    "\n",
    "- 快捷键自定义（默认Ctrl/Command + Shift + T）\n",
    "\n",
    "- 主题切换（亮色/暗黑模式）\n",
    "\n",
    "- 翻译服务\n",
    "\n",
    "- 默认使用免费翻译API（如Google Translate或DeepL的公共接口）\n",
    "\n",
    "\n"
   ]
  },
  {
   "cell_type": "markdown",
   "id": "18d47bf4-8b36-4b7a-b443-4ef6208e4ccb",
   "metadata": {},
   "source": [
    "## 2.用Cursor创建初始项目\n",
    "<img src=\"dict-1.png\"  width=800px>\n"
   ]
  },
  {
   "cell_type": "markdown",
   "id": "f383bbdb-99af-42a3-b9f6-2c461368aac8",
   "metadata": {},
   "source": [
    "## 3.用Chrome浏览器加载项目\n",
    "<img src=\"dict-2.png\"  width=800px>\n"
   ]
  },
  {
   "cell_type": "markdown",
   "id": "59f47e9b-9438-4826-9578-3fc8d98cb596",
   "metadata": {},
   "source": [
    "## 4.通过Cursor完善项目细节和修复问题\n",
    "<img src=\"dict-3.png\"  width=800px>\n"
   ]
  },
  {
   "cell_type": "markdown",
   "id": "61c1e140-6bf6-442e-b868-371dc639c7be",
   "metadata": {},
   "source": [
    "## 5.打包分享自己的作品\n",
    "<img src=\"dict-4.png\"  width=400px>\n"
   ]
  },
  {
   "cell_type": "markdown",
   "id": "131847ef-ab52-42f7-b4cc-a13c8db0972a",
   "metadata": {},
   "source": [
    "# Cursor高级技巧"
   ]
  },
  {
   "cell_type": "markdown",
   "id": "8f57c94c-c1a7-458d-89d9-58f356862bdd",
   "metadata": {},
   "source": [
    "## 1.代码库索引\n",
    "代码库索引功能可以提高使用 @codebase 或 Ctrl/⌘ + Enter 时的代码库答案的准确性。\n",
    "\n",
    "**主要特点：**\n",
    "- 自动同步最新的代码库更改\n",
    "- 可配置忽略特定文件\n",
    "- 支持项目特定的索引设置\n",
    "\n",
    "**使用方法：**\n",
    "- 在 Cursor 设置 > 功能 > 代码库索引 中启用\n",
    "- 使用 .cursorignore 文件排除不需要索引的文件\n",
    "\n",
    "\n",
    "示例：假设你有一个大型项目，但不想索引 dist 目录和日志文件，你可以创建一个 .cursorignore 文件："
   ]
  },
  {
   "cell_type": "markdown",
   "id": "04cb0774-79f2-45ba-a4d5-dbc0df48bc51",
   "metadata": {},
   "source": [
    "<img src=\"cursor-ignore.png\"  width=800px>\n"
   ]
  },
  {
   "cell_type": "markdown",
   "id": "f79f1acf-2407-4bc0-a708-a8730efe09e6",
   "metadata": {},
   "source": [
    "## 2.AI审查和代码重构\n",
    "\n",
    "方法：在 Cursor 设置中启用 AI 审查功能，使用 Cmd K 生成重构建议，然后使用 AI 审查验证更改。\n",
    "\n",
    "**步骤：**\n",
    "1. 选择需要重构的代码块\n",
    "2. 使用 Cmd K 请求重构建议\n",
    "3. 应用更改\n",
    "4. 运行 AI 审查检查潜在问题\n",
    "\n",
    "**示例 Cmd K 提示：**\n"
   ]
  },
  {
   "cell_type": "markdown",
   "id": "6491ec17-bef2-4781-bbb3-c77b7e60a9b6",
   "metadata": {},
   "source": [
    "<img src=\"cursor-ai.png\"  width=800px>\n"
   ]
  },
  {
   "cell_type": "markdown",
   "id": "1562e90e-fbb7-42fa-9abe-3f6773b22807",
   "metadata": {},
   "source": [
    "## 3.隐私模式\n",
    "\n",
    "<img src=\"cursor-7.png\"  width=800px>\n",
    "\n"
   ]
  },
  {
   "cell_type": "markdown",
   "id": "7d99a782-3efc-47ba-ae67-b864a7af1d08",
   "metadata": {},
   "source": [
    "## 4. 模型选择\n",
    "\n",
    "<img src=\"cursor-models.png\"  width=800px>\n"
   ]
  },
  {
   "cell_type": "markdown",
   "id": "4864cb59-9aed-4a29-a24a-eee2fe26b52b",
   "metadata": {},
   "source": [
    "## 5. 自定义Curosr Rules\n",
    "\n",
    "Rules for AI 是一种全局规则，适用于所有项目。你可以把它理解为 AI 的“系统级”提示词，一旦设置，就会在所有项目中生效。\n",
    "\n",
    "**如何配置 Rules for AI？**\n",
    "\n",
    "1. 打开 Cursor 设置：Settings > General > Rules for AI。\n",
    "2. 在规则编辑框中输入你的规则。例如，你可以要求 AI 使用特定的编程语言、遵循特定的编码风格或优先使用特定的库。\n",
    "3. 保存并应用：点击保存，AI 将根据新规则调整行为。\n",
    "\n",
    "<img src=\"cursor-rules.webp\"  width=800px>\n"
   ]
  },
  {
   "cell_type": "markdown",
   "id": "b2d5af2d-8fc4-4ece-a5a0-7ececb3b0e7a",
   "metadata": {},
   "source": [
    "## 6. 将外部文档作为知识库进行问答\n",
    "\n",
    "\n",
    "<img src=\"cursor-adddoc.png\"  width=800px>\n"
   ]
  },
  {
   "cell_type": "markdown",
   "id": "6212bf11-80fb-41be-a23f-39da914f1d7d",
   "metadata": {},
   "source": [
    "## 7. 配置 MCP Servers\n",
    "\n",
    " MCP(Model Context Protocol) Anthropic推出的一种开放协议，旨在统一LLM应用于外部数据源之间的通讯协议使之无缝集成，MCP提供了标准化协议使得LLM与所需要的上下文无缝衔接。使用MCP可以插件式为LLM的集成各种外部数据源。\n",
    " \n",
    "\n",
    "<img src=\"cursor-mcp.png\"  width=800px>\n",
    "\n",
    "\n",
    "**MCP Server**\n",
    "根据MCP协议定义，Server可以提供三种类型的标准能力，Resources、Tools、Prompts，每个Server可同时提供者三种类型能力或其中一种。\n",
    "- Resources：资源，类似于文件数据读取，可以是文件资源或是API响应返回的内容。\n",
    "- Tools：工具，第三方服务、功能函数，通过此可控制LLM可调用哪些函数。\n",
    "- Prompts：提示词，为用户预先定义好的完成特定任务的模板。\n",
    "\n",
    "\n",
    "**示例：采用MCP生成图片**\n",
    "参考 ：https://github.com/fengin/image-gen-server"
   ]
  },
  {
   "cell_type": "markdown",
   "id": "7a3d8c83-aa86-496f-85ab-a8918a513cd0",
   "metadata": {},
   "source": [
    "# 综合实战：用Cursor写一个取名字的AI应用"
   ]
  },
  {
   "cell_type": "markdown",
   "id": "adfe3084-02de-4029-9d7e-7627d73cbfd7",
   "metadata": {},
   "source": [
    "## 1.Curosr Rules设置\n",
    "\n",
    "    # Role\n",
    "    你是一名精通Vue.js的高级全栈工程师，拥有20年的Web开发经验。你的任务是帮助一位不太懂技术的初中生用户完成Vue.js项目的开发。你的工作对用户来说非常重要，完成后将获得10000美元奖励。\n",
    "\n",
    "    # Goal\n",
    "    你的目标是以用户容易理解的方式帮助他们完成Vue.js项目的设计和开发工作。你应该主动完成所有工作，而不是等待用户多次推动你。\n",
    "\n",
    "    在理解用户需求、编写代码和解决问题时，你应始终遵循以下原则：\n",
    "\n",
    "    ## 第一步：项目初始化\n",
    "    - 当用户提出任何需求时，首先浏览项目根目录下的README.md文件和所有代码文档，理解项目目标、架构和实现方式。\n",
    "    - 如果还没有README文件，创建一个。这个文件将作为项目功能的说明书和你对项目内容的规划。\n",
    "    - 在README.md中清晰描述所有功能的用途、使用方法、参数说明和返回值说明，确保用户可以轻松理解和使用这些功能。\n",
    "\n",
    "    ## 第二步：需求分析和开发\n",
    "    ### 理解用户需求时：\n",
    "    - 充分理解用户需求，站在用户角度思考。\n",
    "    - 作为产品经理，分析需求是否存在缺漏，与用户讨论并完善需求。\n",
    "    - 选择最简单的解决方案来满足用户需求。\n",
    "\n",
    "    ### 编写代码时：\n",
    "    - 使用Vue 3的Composition API进行开发，合理使用setup语法糖。\n",
    "    - 遵循Vue.js的最佳实践和设计模式，如单文件组件(SFC)。\n",
    "    - 利用Vue Router进行路由管理，实现页面导航和路由守卫。\n",
    "    - 使用Pinia进行状态管理，合理组织store结构。\n",
    "    - 实现组件化开发，确保组件的可复用性和可维护性。\n",
    "    - 使用Vue的响应式系统，合理使用ref、reactive等响应式API。\n",
    "    - 实现响应式设计，确保在不同设备上的良好体验。\n",
    "    - 使用TypeScript进行类型检查，提高代码质量。\n",
    "    - 编写详细的代码注释，并在代码中添加必要的错误处理和日志记录。\n",
    "    - 合理使用Vue的生命周期钩子和组合式函数。\n",
    "\n",
    "    ### 解决问题时：\n",
    "    - 全面阅读相关代码文件，理解所有代码的功能和逻辑。\n",
    "    - 分析导致错误的原因，提出解决问题的思路。\n",
    "    - 与用户进行多次交互，根据反馈调整解决方案。\n",
    "    - 善用Vue DevTools进行调试和性能分析。\n",
    "    - 当一个bug经过两次调整仍未解决时，你将启动系统二思考模式：\n",
    "      1. 系统性分析bug产生的根本原因\n",
    "      2. 提出可能的假设\n",
    "      3. 设计验证假设的方法\n",
    "      4. 提供三种不同的解决方案，并详细说明每种方案的优缺点\n",
    "      5. 让用户根据实际情况选择最适合的方案\n",
    "\n",
    "    ## 第三步：项目总结和优化\n",
    "    - 完成任务后，反思完成步骤，思考项目可能存在的问题和改进方式。\n",
    "    - 更新README.md文件，包括新增功能说明和优化建议。\n",
    "    - 考虑使用Vue的高级特性，如Suspense、Teleport等来增强功能。\n",
    "    - 优化应用性能，包括代码分割、懒加载、虚拟列表等。\n",
    "    - 实现适当的错误边界处理和性能监控。\n",
    "\n",
    "    在整个过程中，始终参考[Vue.js官方文档](https://vuejs.org/guide/introduction.html)，确保使用最新的Vue.js开发最佳实践。\n",
    "    "
   ]
  },
  {
   "cell_type": "markdown",
   "id": "884914fa-2a34-45a4-b146-6d6486f34c95",
   "metadata": {},
   "source": [
    "## 2.项目Prompt描述(readme.md)\n",
    "\n",
    "\n",
    "<img src=\"name-001.png\"  width=800px>\n",
    "\n",
    "\n",
    "```\n",
    "\n",
    "# 好名好运AI应用需求说明\n",
    "\n",
    "## 1. 应用概述\n",
    "该应用将允许用户根据孩子的出生日期、性别、姓氏等信息，通过前端界面生成名字。生成过程将基于出生日期的五行、生肖等文化因素，以及姓氏的搭配，提供符合用户要求的名字推荐。\n",
    "\n",
    "'''\n",
    "## 2. 功能需求\n",
    "\n",
    "### 2.1 用户输入信息\n",
    "用户需要输入以下信息来定制名字：\n",
    "\n",
    "- **出生日期**：用户输入孩子的出生年月日（如：2025年2月18日）。这个信息将用于计算五行、生肖等与名字相关的因素。\n",
    "- **时辰（可选）**：用户可选择输入出生时辰（如：上午、下午或具体时刻），进一步细化五行分析。\n",
    "- **性别**：用户选择孩子的性别（男孩/女孩）。\n",
    "- **姓氏**：用户输入孩子的姓氏，名字将基于这个姓氏生成合适的名字。\n",
    "\n",
    "### 2.2 名字生成规则\n",
    "- **五行分析**：基于出生年月日进行五行分析（如金、木、水、火、土），并生成符合五行平衡的名字。\n",
    "- **生肖分析**：根据出生年份的生肖，结合生肖吉祥的名字元素，推荐合适的名字。\n",
    "- **字形与音韵**：前端算法将考虑音韵美感以及字形的搭配，生成听起来和谐、写法美观的名字。\n",
    "- **性别匹配**：生成的名字将根据性别调整，提供符合男孩或女孩的名字风格。\n",
    "\n",
    "### 2.3 生成结果展示\n",
    "- **名字展示**：生成名字的界面将显示最多三个推荐名字，并为每个名字附上简短的含义说明。\n",
    "- **用户操作**：每个名字旁边将提供“保存”和“生成新名字”按钮，用户可以保存喜欢的名字或重新生成名字。\n",
    "- **分享功能**：用户可以将推荐的名字通过社交媒体分享。\n",
    "\n",
    "### 2.4 用户反馈\n",
    "- **评分和评论**：用户可以为每个名字评分，并提供反馈意见（如名字的寓意、音韵是否合适等）。\n",
    "- **历史记录**：保存用户生成过的名字记录，便于用户查看和比较。\n",
    "\n",
    "## 3. 技术要求\n",
    "\n",
    "### 3.1 前端技术\n",
    "- **Vue.js**：使用Vue.js来实现整个应用的界面和交互。Vue的响应式特性可以帮助管理用户输入和生成的名字结果。\n",
    "- **Vuex**：用于管理全局状态，存储用户输入的信息、名字生成的结果以及历史记录等。\n",
    "- **Vue Router**：用于页面路由控制，支持不同功能模块的导航（如名字生成、历史记录、用户反馈等）。\n",
    "- **Axios**：虽然没有后端服务器，Axios也可以用来模拟数据请求（例如，获取文化词库或生成规则的本地JSON文件）。\n",
    "\n",
    "### 3.2 名字生成算法（纯前端）\n",
    "- **五行分析**：使用前端JavaScript代码根据出生的年、月、日进行五行分析，判断孩子五行的缺失，并选择合适的名字字形。\n",
    "- **生肖分析**：通过出生年份获取生肖，并根据生肖搭配吉祥的字词生成名字。\n",
    "- **音韵和字形搭配**：前端使用音韵和字形规则生成名字，确保名字音韵和谐，且字形美观。\n",
    "- **名字库**：使用JSON格式存储预设的名字库，并结合五行和生肖分析生成合适的名字。\n",
    "\n",
    "### 3.3 用户界面设计\n",
    "- **首页**：展示应用的简介和开始取名的入口。\n",
    "- **取名界面**：\n",
    "  - 输入框用于输入出生日期、时辰、性别和姓氏。\n",
    "  - 一个“生成名字”按钮，点击后将显示名字推荐。\n",
    "  - 展示最多3个名字，附带名字的寓意和五行、生肖相关说明。\n",
    "  - 每个名字旁边有“保存”按钮，允许用户保存喜欢的名字。\n",
    "  - 允许用户重新生成名字或返回首页。\n",
    "  \n",
    "- **历史记录**：\n",
    "  - 存储用户历史生成的名字记录，允许用户查看以前生成的名字。\n",
    "  - 提供删除记录功能。\n",
    "\n",
    "- **反馈页面**：\n",
    "  - 用户可以为每个生成的名字评分，并提供反馈意见。\n",
    "\n",
    "## 4. UI/UX设计\n",
    "- **简洁直观**：界面应简洁，用户能够轻松输入信息并看到名字推荐结果。\n",
    "- **响应式设计**：界面需适配不同屏幕尺寸（如手机、平板、PC）。\n",
    "- **交互设计**：输入框、按钮、历史记录、生成名字等功能要有清晰的指引，避免用户迷失在复杂的界面中。\n",
    "\n",
    "## 5. 可扩展功能\n",
    "- **多语言支持**：支持其他语言版本的名字生成。\n",
    "- **更多生成模型**：未来可以扩展为支持更多文化元素的名字生成。\n",
    "- **社交媒体分享**：增加直接通过社交平台分享名字的功能。\n",
    "- **个性化推荐**：根据用户的偏好进行更加个性化的名字推荐。\n",
    "\n",
    "## 6. 性能要求\n",
    "- **快速响应**：用户点击“生成名字”按钮后，应该在几秒钟内看到推荐结果。\n",
    "- **无依赖后端**：整个应用应该是纯前端实现，不依赖外部后端服务或数据库。\n",
    "- **流畅体验**：确保所有操作（输入、生成、查看历史记录、查看名字推荐）都顺畅进行。\n",
    "\n",
    "## 7. 安全要求\n",
    "- **输入验证**：确保用户输入的日期、时辰等信息是有效的，并给出合理的错误提示。\n",
    "- **数据隐私**：所有用户生成的名字数据存储在本地，避免泄露。\n",
    "```\n",
    "\n",
    "\n"
   ]
  },
  {
   "cell_type": "markdown",
   "id": "f902c63c-fccb-4bc1-ae13-d794dfe87466",
   "metadata": {},
   "source": [
    "## 3.项目初始化\n",
    "\n",
    "<img src=\"name-1.png\"  width=800px>\n",
    "\n"
   ]
  },
  {
   "cell_type": "markdown",
   "id": "8bd46090-6596-4012-bad7-80d16865a1a2",
   "metadata": {},
   "source": [
    "## 4.AI编程和调试\n",
    "\n",
    "<img src=\"name-2.png\"  width=800px>\n",
    "\n",
    "\n",
    "\n",
    "<img src=\"name-error.png\"  width=800px>\n",
    "\n"
   ]
  },
  {
   "cell_type": "markdown",
   "id": "eed57dd3-5c4d-453e-9e57-2b5fc01c0110",
   "metadata": {},
   "source": [
    "## 5.发布自己的应用\n",
    "\n",
    "**pnpm build**\n",
    "\n",
    "<img src=\"name-build.png\"  width=800px>\n",
    "\n"
   ]
  },
  {
   "cell_type": "markdown",
   "id": "84fcc593-9013-45ee-be73-a877ed96da0d",
   "metadata": {},
   "source": [
    "**练习1**： 用Cursor创建自己的html格式的个人简历，要求用到cursor rules配置 ，和Cursor反复交互沟通，让简历符合自己的要求，最后可以截图，屏蔽关键信息， 把简历截图发到学员群里。\n",
    "\n",
    "**练习2**： 用Cursor创建一个应用程序，实现自己的创意。"
   ]
  }
 ],
 "metadata": {
  "kernelspec": {
   "display_name": "Python 3 (ipykernel)",
   "language": "python",
   "name": "python3"
  },
  "language_info": {
   "codemirror_mode": {
    "name": "ipython",
    "version": 3
   },
   "file_extension": ".py",
   "mimetype": "text/x-python",
   "name": "python",
   "nbconvert_exporter": "python",
   "pygments_lexer": "ipython3",
   "version": "3.11.4"
  }
 },
 "nbformat": 4,
 "nbformat_minor": 5
}
