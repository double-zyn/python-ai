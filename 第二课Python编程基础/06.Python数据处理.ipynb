{
 "cells": [
  {
   "cell_type": "markdown",
   "id": "b69e6c47",
   "metadata": {},
   "source": [
    "# 05.Python与数据处理库：NumPy、Pandas、Matplotlib"
   ]
  },
  {
   "cell_type": "markdown",
   "id": "87b213e7",
   "metadata": {},
   "source": [
    "## 1. NumPy基础\n",
    "### NumPy简介\n",
    "\n",
    "NumPy（Numerical Python）是一个用于科学计算的Python库，它提供了一个强大的多维数组对象 ndarray，以及用于处理这些数组的各种函数。NumPy是Python数据分析和科学计算的基础库之一，许多高级数据分析库（如Pandas、Scikit-learn）都依赖于NumPy来处理数值数据。其主要功能包括：\n",
    "\n",
    "- 多维数组：提供高效的多维数组对象（ndarray），支持数组的切片、索引和广播等操作。\n",
    "- 数学函数：包含大量的数学函数用于数组运算，如线性代数、统计、傅里叶变换等。\n",
    "- 数组操作：支持数组的重塑、合并、拆分等操作。\n",
    "- 性能优化：NumPy底层使用C语言编写，运算效率高，特别适合大规模数据处理。\n",
    "\n"
   ]
  },
  {
   "cell_type": "code",
   "execution_count": null,
   "id": "9e385a60-003f-4e37-813d-943077c01756",
   "metadata": {},
   "outputs": [],
   "source": [
    "#安装命令\n",
    "!pip install numpy"
   ]
  },
  {
   "cell_type": "markdown",
   "id": "28bb5c65",
   "metadata": {},
   "source": [
    "### NumPy数组（ndarray）\n",
    "- 创建NumPy数组：使用`array()`函数\n",
    "- 示例代码："
   ]
  },
  {
   "cell_type": "code",
   "execution_count": null,
   "id": "20f3e157-8858-49ae-a9e1-febbc2fbfd04",
   "metadata": {},
   "outputs": [],
   "source": [
    "import numpy as np\n",
    "arr = np.array([1, 2, 3, 4, 5])\n",
    "print(arr)"
   ]
  },
  {
   "cell_type": "markdown",
   "id": "a5ac06d6",
   "metadata": {},
   "source": [
    "### NumPy数组的索引与切片\n",
    "- 一维与多维数组的索引\n",
    "- 示例代码："
   ]
  },
  {
   "cell_type": "code",
   "execution_count": null,
   "id": "3beeedeb-c0dc-4fef-a945-e387503c0427",
   "metadata": {},
   "outputs": [],
   "source": [
    "arr = np.array([1, 2, 3, 4, 5])\n",
    "print(arr[2])  # 输出3\n",
    "print(arr[1:4])  # 输出[2 3 4]"
   ]
  },
  {
   "cell_type": "markdown",
   "id": "2337b9d6",
   "metadata": {},
   "source": [
    "### NumPy数组的常见操作\n",
    "- 数组的加法、乘法等基本操作\n",
    "- 示例代码："
   ]
  },
  {
   "cell_type": "code",
   "execution_count": null,
   "id": "81dfa455-7300-4f8b-8606-830460cc171f",
   "metadata": {},
   "outputs": [],
   "source": [
    "arr1 = np.array([1, 2, 3])\n",
    "arr2 = np.array([4, 5, 6])\n",
    "print(arr1 + arr2)  # 输出[5 7 9]"
   ]
  },
  {
   "cell_type": "markdown",
   "id": "8a797136",
   "metadata": {},
   "source": [
    "## 2. Pandas基础\n",
    "### Pandas简介\n",
    "Pandas是一个提供高效数据结构和数据分析工具的Python库。它主要基于两个数据结构：Series 和 DataFrame，分别用于处理一维和二维数据。Pandas在数据清洗、预处理、分析和可视化方面广泛应用。其主要功能包括：\n",
    "\n",
    "- DataFrame：类似于Excel表格的数据结构，支持列名、行索引和丰富的数据操作功能。\n",
    "- Series：一维标签化数组，类似于Python的列表或字典。\n",
    "- 数据操作：包括数据选择、过滤、分组、合并、连接、聚合、缺失值处理等。\n",
    "- 文件处理：支持读取和写入CSV、Excel、SQL、JSON等多种格式的数据文件。\n"
   ]
  },
  {
   "cell_type": "code",
   "execution_count": null,
   "id": "865e37bb-68b3-48e8-893a-e230fc7c4e6c",
   "metadata": {},
   "outputs": [],
   "source": [
    "# 安装命令\n",
    "!pip install pandas"
   ]
  },
  {
   "cell_type": "markdown",
   "id": "a7eb5417",
   "metadata": {},
   "source": [
    "### Pandas数据结构：Series与DataFrame\n",
    "- 创建Series和DataFrame对象\n",
    "- 示例代码："
   ]
  },
  {
   "cell_type": "code",
   "execution_count": null,
   "id": "d58bed1a-14f2-4cf6-aa6b-812fe3548e94",
   "metadata": {},
   "outputs": [],
   "source": [
    "import pandas as pd\n",
    "series = pd.Series([1, 2, 3, 4])\n",
    "print(series)\n",
    "\n",
    "print('-------------')\n",
    "data = {'Name': ['Alice', 'Bob', 'Charlie'], 'Age': [24, 27, 22]}\n",
    "df = pd.DataFrame(data)\n",
    "print(df)"
   ]
  },
  {
   "cell_type": "markdown",
   "id": "0e1443ba",
   "metadata": {},
   "source": [
    "### 数据读取与写入\n",
    "- 读取CSV文件和保存DataFrame\n",
    "- 示例代码：\n",
    "```python\n",
    "df = pd.read_csv('data.csv')\n",
    "df.to_csv('output.csv')\n",
    "```"
   ]
  },
  {
   "cell_type": "markdown",
   "id": "003f59a8",
   "metadata": {},
   "source": [
    "### 数据选择与过滤\n",
    "- 使用条件进行数据选择\n",
    "- 示例代码："
   ]
  },
  {
   "cell_type": "code",
   "execution_count": null,
   "id": "022684fc-1a0d-4498-8a77-ebcb24b39522",
   "metadata": {},
   "outputs": [],
   "source": [
    "df = pd.DataFrame({'Age': [24, 27, 22], 'Name': ['Alice', 'Bob', 'Charlie']})\n",
    "print(df)\n",
    "print(\"--------------\")\n",
    "filtered_df = df[df['Age'] >= 24]\n",
    "print(filtered_df)"
   ]
  },
  {
   "cell_type": "markdown",
   "id": "57c5ab07",
   "metadata": {},
   "source": [
    "### 缺失值处理\n",
    "- 处理缺失数据：删除或填充\n",
    "- 示例代码："
   ]
  },
  {
   "cell_type": "code",
   "execution_count": null,
   "id": "b0d5af43-3ff9-4e73-89d9-a0c98b0db998",
   "metadata": {},
   "outputs": [],
   "source": [
    "df = pd.DataFrame({'Age': [24, None, 22], 'Name': ['Alice', 'Bob', 'Charlie']})\n",
    "df.fillna(25, inplace=True)\n",
    "print(df)"
   ]
  },
  {
   "cell_type": "markdown",
   "id": "263ac2fe",
   "metadata": {},
   "source": [
    "## 3. Matplotlib基础\n",
    "### Matplotlib简介\n",
    "\n",
    "Matplotlib是一个用于绘制静态、动态和交互式图表的Python库。它是Python数据可视化的最常用库之一，支持各种类型的图表，如折线图、散点图、柱状图、饼图等。Matplotlib的核心组件是 pyplot 模块，它提供了一组简单的函数接口，用于创建各种常见的图表。其主要功能包括：\n",
    "\n",
    "- 基本图表：支持折线图、柱状图、散点图、饼图等基础图表的绘制。\n",
    "- 自定义图表：可以调整图表的样式、标签、标题、坐标轴、颜色等属性。\n",
    "- 多图布局：支持在同一图形中绘制多个子图，适用于复杂的可视化需求。\n",
    "- 交互式可视化：支持与Jupyter Notebook结合使用，允许用户在交互模式下探索数据。\n",
    "- 图形导出：支持将图形保存为多种格式（如PNG、PDF、SVG等）以供展示或发布。"
   ]
  },
  {
   "cell_type": "code",
   "execution_count": null,
   "id": "3c13b563-0a94-4e1d-a3a8-68beda053820",
   "metadata": {},
   "outputs": [],
   "source": [
    "#安装命令\n",
    "!pip install matplotlib"
   ]
  },
  {
   "cell_type": "markdown",
   "id": "14dd1123",
   "metadata": {},
   "source": [
    "### 创建基本的图表\n",
    "- 绘制折线图、散点图和柱状图\n",
    "- 示例代码："
   ]
  },
  {
   "cell_type": "code",
   "execution_count": null,
   "id": "c298cab0-1dd4-4aa2-8c86-6d41c4b80f4d",
   "metadata": {},
   "outputs": [],
   "source": [
    "import matplotlib.pyplot as plt\n",
    "x = [1, 2, 3, 4]\n",
    "y = [10, 20, 25, 30]\n",
    "\n",
    "plt.plot(x, y)\n",
    "plt.title('Line Chart')\n",
    "plt.xlabel('X-axis')\n",
    "plt.ylabel('Y-axis')\n",
    "plt.show()"
   ]
  },
  {
   "cell_type": "markdown",
   "id": "50067fc2",
   "metadata": {},
   "source": [
    "### 定制图表\n",
    "- 修改图表的样式、颜色、标签\n",
    "- 示例代码："
   ]
  },
  {
   "cell_type": "code",
   "execution_count": null,
   "id": "0c17545d-2f91-47e3-8039-16e9e85770c8",
   "metadata": {},
   "outputs": [],
   "source": [
    "plt.bar(x, y, color='green')\n",
    "plt.title('Bar Chart')\n",
    "plt.show()"
   ]
  },
  {
   "cell_type": "markdown",
   "id": "71f28a10",
   "metadata": {},
   "source": [
    "### 子图与布局\n",
    "- 使用`subplot()`绘制多个图表\n",
    "- 示例代码："
   ]
  },
  {
   "cell_type": "code",
   "execution_count": null,
   "id": "5b628442-532f-4177-a66e-04f311fbd166",
   "metadata": {},
   "outputs": [],
   "source": [
    "plt.subplot(1, 2, 1)\n",
    "plt.plot(x, y)\n",
    "plt.title('Left Plot')\n",
    "\n",
    "plt.subplot(1, 2, 2)\n",
    "plt.scatter(x, y)\n",
    "plt.title('Right Plot')\n",
    "\n",
    "plt.show()"
   ]
  },
  {
   "cell_type": "markdown",
   "id": "98ecf628",
   "metadata": {},
   "source": [
    "## 4. 综合案例：数据可视化与分析\n",
    "### 结合NumPy、Pandas与Matplotlib进行实际数据分析\n",
    "- 数据加载与预处理\n",
    "- 使用Matplotlib进行数据可视化\n",
    "- 示例代码："
   ]
  },
  {
   "cell_type": "code",
   "execution_count": null,
   "id": "44298f2f-39f9-420d-86c6-0f2a002e8b15",
   "metadata": {},
   "outputs": [],
   "source": [
    "import numpy as np\n",
    "import pandas as pd\n",
    "import matplotlib.pyplot as plt\n",
    "\n",
    "data = {'Year': [2015, 2016, 2017, 2018, 2019],\n",
    "        'Sales': [150, 250, 550, 800, 1350],\n",
    "        'Profit': [30, 45, 50, 60, 430]}\n",
    "\n",
    "df = pd.DataFrame(data)\n",
    "\n",
    "# 绘制第一条折线（销售额）\n",
    "plt.plot(df['Year'], df['Sales'], marker='o', label='Sales')\n",
    "\n",
    "# 绘制第二条折线（利润）\n",
    "plt.plot(df['Year'], df['Profit'], marker='x', label='Profit')\n",
    "\n",
    "plt.title('Sales Over Years')\n",
    "plt.xlabel('Year')\n",
    "plt.ylabel('Sales')\n",
    "plt.show()"
   ]
  },
  {
   "cell_type": "markdown",
   "id": "8159f045",
   "metadata": {},
   "source": [
    "- 实践题：\n",
    "  - 使用NumPy生成一个包含100个随机数的数组，并计算其平均值和标准差。\n",
    "  - 使用Pandas加载CSV文件并进行数据清洗，绘制一个柱状图来展示某列的分布。\n",
    "  - 使用Matplotlib绘制多张不同类型的图表。"
   ]
  }
 ],
 "metadata": {
  "kernelspec": {
   "display_name": "Python 3",
   "language": "python",
   "name": "python3"
  },
  "language_info": {
   "codemirror_mode": {
    "name": "ipython",
    "version": 3
   },
   "file_extension": ".py",
   "mimetype": "text/x-python",
   "name": "python",
   "nbconvert_exporter": "python",
   "pygments_lexer": "ipython3",
   "version": "3.11.4"
  }
 },
 "nbformat": 4,
 "nbformat_minor": 5
}
